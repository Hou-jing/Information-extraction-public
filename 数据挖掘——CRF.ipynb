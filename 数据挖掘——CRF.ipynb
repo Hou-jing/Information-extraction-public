{
  "nbformat": 4,
  "nbformat_minor": 0,
  "metadata": {
    "colab": {
      "name": "数据挖掘——CRF.ipynb",
      "provenance": []
    },
    "kernelspec": {
      "name": "python3",
      "display_name": "Python 3"
    },
    "language_info": {
      "name": "python"
    },
    "accelerator": "GPU",
    "widgets": {
      "application/vnd.jupyter.widget-state+json": {
        "9ca0bbb5b8b74f6b9a83c9b5da465d64": {
          "model_module": "@jupyter-widgets/controls",
          "model_name": "HBoxModel",
          "model_module_version": "1.5.0",
          "state": {
            "_dom_classes": [],
            "_model_module": "@jupyter-widgets/controls",
            "_model_module_version": "1.5.0",
            "_model_name": "HBoxModel",
            "_view_count": null,
            "_view_module": "@jupyter-widgets/controls",
            "_view_module_version": "1.5.0",
            "_view_name": "HBoxView",
            "box_style": "",
            "children": [
              "IPY_MODEL_da3ddb3d82fe431299094df60e72047e",
              "IPY_MODEL_d4f9956d3f444b98a46387c4821cf0e6",
              "IPY_MODEL_9112b3a0f2df4bada96dca373eda742e"
            ],
            "layout": "IPY_MODEL_148bf560b367443b9c29868e140b60ce"
          }
        },
        "da3ddb3d82fe431299094df60e72047e": {
          "model_module": "@jupyter-widgets/controls",
          "model_name": "HTMLModel",
          "model_module_version": "1.5.0",
          "state": {
            "_dom_classes": [],
            "_model_module": "@jupyter-widgets/controls",
            "_model_module_version": "1.5.0",
            "_model_name": "HTMLModel",
            "_view_count": null,
            "_view_module": "@jupyter-widgets/controls",
            "_view_module_version": "1.5.0",
            "_view_name": "HTMLView",
            "description": "",
            "description_tooltip": null,
            "layout": "IPY_MODEL_c0c39cb63bbc421591802865196b1bfd",
            "placeholder": "​",
            "style": "IPY_MODEL_0af140b59c434248aa68e51eb1df72d8",
            "value": "Downloading: 100%"
          }
        },
        "d4f9956d3f444b98a46387c4821cf0e6": {
          "model_module": "@jupyter-widgets/controls",
          "model_name": "FloatProgressModel",
          "model_module_version": "1.5.0",
          "state": {
            "_dom_classes": [],
            "_model_module": "@jupyter-widgets/controls",
            "_model_module_version": "1.5.0",
            "_model_name": "FloatProgressModel",
            "_view_count": null,
            "_view_module": "@jupyter-widgets/controls",
            "_view_module_version": "1.5.0",
            "_view_name": "ProgressView",
            "bar_style": "success",
            "description": "",
            "description_tooltip": null,
            "layout": "IPY_MODEL_9b53aa2c35b64f7eb5a8677e775d850d",
            "max": 29,
            "min": 0,
            "orientation": "horizontal",
            "style": "IPY_MODEL_8d3b2940735b4b92b5ac215cd5315b2f",
            "value": 29
          }
        },
        "9112b3a0f2df4bada96dca373eda742e": {
          "model_module": "@jupyter-widgets/controls",
          "model_name": "HTMLModel",
          "model_module_version": "1.5.0",
          "state": {
            "_dom_classes": [],
            "_model_module": "@jupyter-widgets/controls",
            "_model_module_version": "1.5.0",
            "_model_name": "HTMLModel",
            "_view_count": null,
            "_view_module": "@jupyter-widgets/controls",
            "_view_module_version": "1.5.0",
            "_view_name": "HTMLView",
            "description": "",
            "description_tooltip": null,
            "layout": "IPY_MODEL_842f423f580943ee9366274783ef5791",
            "placeholder": "​",
            "style": "IPY_MODEL_4217035277814b1fb5ef4db118f7e7d0",
            "value": " 29.0/29.0 [00:00&lt;00:00, 800B/s]"
          }
        },
        "148bf560b367443b9c29868e140b60ce": {
          "model_module": "@jupyter-widgets/base",
          "model_name": "LayoutModel",
          "model_module_version": "1.2.0",
          "state": {
            "_model_module": "@jupyter-widgets/base",
            "_model_module_version": "1.2.0",
            "_model_name": "LayoutModel",
            "_view_count": null,
            "_view_module": "@jupyter-widgets/base",
            "_view_module_version": "1.2.0",
            "_view_name": "LayoutView",
            "align_content": null,
            "align_items": null,
            "align_self": null,
            "border": null,
            "bottom": null,
            "display": null,
            "flex": null,
            "flex_flow": null,
            "grid_area": null,
            "grid_auto_columns": null,
            "grid_auto_flow": null,
            "grid_auto_rows": null,
            "grid_column": null,
            "grid_gap": null,
            "grid_row": null,
            "grid_template_areas": null,
            "grid_template_columns": null,
            "grid_template_rows": null,
            "height": null,
            "justify_content": null,
            "justify_items": null,
            "left": null,
            "margin": null,
            "max_height": null,
            "max_width": null,
            "min_height": null,
            "min_width": null,
            "object_fit": null,
            "object_position": null,
            "order": null,
            "overflow": null,
            "overflow_x": null,
            "overflow_y": null,
            "padding": null,
            "right": null,
            "top": null,
            "visibility": null,
            "width": null
          }
        },
        "c0c39cb63bbc421591802865196b1bfd": {
          "model_module": "@jupyter-widgets/base",
          "model_name": "LayoutModel",
          "model_module_version": "1.2.0",
          "state": {
            "_model_module": "@jupyter-widgets/base",
            "_model_module_version": "1.2.0",
            "_model_name": "LayoutModel",
            "_view_count": null,
            "_view_module": "@jupyter-widgets/base",
            "_view_module_version": "1.2.0",
            "_view_name": "LayoutView",
            "align_content": null,
            "align_items": null,
            "align_self": null,
            "border": null,
            "bottom": null,
            "display": null,
            "flex": null,
            "flex_flow": null,
            "grid_area": null,
            "grid_auto_columns": null,
            "grid_auto_flow": null,
            "grid_auto_rows": null,
            "grid_column": null,
            "grid_gap": null,
            "grid_row": null,
            "grid_template_areas": null,
            "grid_template_columns": null,
            "grid_template_rows": null,
            "height": null,
            "justify_content": null,
            "justify_items": null,
            "left": null,
            "margin": null,
            "max_height": null,
            "max_width": null,
            "min_height": null,
            "min_width": null,
            "object_fit": null,
            "object_position": null,
            "order": null,
            "overflow": null,
            "overflow_x": null,
            "overflow_y": null,
            "padding": null,
            "right": null,
            "top": null,
            "visibility": null,
            "width": null
          }
        },
        "0af140b59c434248aa68e51eb1df72d8": {
          "model_module": "@jupyter-widgets/controls",
          "model_name": "DescriptionStyleModel",
          "model_module_version": "1.5.0",
          "state": {
            "_model_module": "@jupyter-widgets/controls",
            "_model_module_version": "1.5.0",
            "_model_name": "DescriptionStyleModel",
            "_view_count": null,
            "_view_module": "@jupyter-widgets/base",
            "_view_module_version": "1.2.0",
            "_view_name": "StyleView",
            "description_width": ""
          }
        },
        "9b53aa2c35b64f7eb5a8677e775d850d": {
          "model_module": "@jupyter-widgets/base",
          "model_name": "LayoutModel",
          "model_module_version": "1.2.0",
          "state": {
            "_model_module": "@jupyter-widgets/base",
            "_model_module_version": "1.2.0",
            "_model_name": "LayoutModel",
            "_view_count": null,
            "_view_module": "@jupyter-widgets/base",
            "_view_module_version": "1.2.0",
            "_view_name": "LayoutView",
            "align_content": null,
            "align_items": null,
            "align_self": null,
            "border": null,
            "bottom": null,
            "display": null,
            "flex": null,
            "flex_flow": null,
            "grid_area": null,
            "grid_auto_columns": null,
            "grid_auto_flow": null,
            "grid_auto_rows": null,
            "grid_column": null,
            "grid_gap": null,
            "grid_row": null,
            "grid_template_areas": null,
            "grid_template_columns": null,
            "grid_template_rows": null,
            "height": null,
            "justify_content": null,
            "justify_items": null,
            "left": null,
            "margin": null,
            "max_height": null,
            "max_width": null,
            "min_height": null,
            "min_width": null,
            "object_fit": null,
            "object_position": null,
            "order": null,
            "overflow": null,
            "overflow_x": null,
            "overflow_y": null,
            "padding": null,
            "right": null,
            "top": null,
            "visibility": null,
            "width": null
          }
        },
        "8d3b2940735b4b92b5ac215cd5315b2f": {
          "model_module": "@jupyter-widgets/controls",
          "model_name": "ProgressStyleModel",
          "model_module_version": "1.5.0",
          "state": {
            "_model_module": "@jupyter-widgets/controls",
            "_model_module_version": "1.5.0",
            "_model_name": "ProgressStyleModel",
            "_view_count": null,
            "_view_module": "@jupyter-widgets/base",
            "_view_module_version": "1.2.0",
            "_view_name": "StyleView",
            "bar_color": null,
            "description_width": ""
          }
        },
        "842f423f580943ee9366274783ef5791": {
          "model_module": "@jupyter-widgets/base",
          "model_name": "LayoutModel",
          "model_module_version": "1.2.0",
          "state": {
            "_model_module": "@jupyter-widgets/base",
            "_model_module_version": "1.2.0",
            "_model_name": "LayoutModel",
            "_view_count": null,
            "_view_module": "@jupyter-widgets/base",
            "_view_module_version": "1.2.0",
            "_view_name": "LayoutView",
            "align_content": null,
            "align_items": null,
            "align_self": null,
            "border": null,
            "bottom": null,
            "display": null,
            "flex": null,
            "flex_flow": null,
            "grid_area": null,
            "grid_auto_columns": null,
            "grid_auto_flow": null,
            "grid_auto_rows": null,
            "grid_column": null,
            "grid_gap": null,
            "grid_row": null,
            "grid_template_areas": null,
            "grid_template_columns": null,
            "grid_template_rows": null,
            "height": null,
            "justify_content": null,
            "justify_items": null,
            "left": null,
            "margin": null,
            "max_height": null,
            "max_width": null,
            "min_height": null,
            "min_width": null,
            "object_fit": null,
            "object_position": null,
            "order": null,
            "overflow": null,
            "overflow_x": null,
            "overflow_y": null,
            "padding": null,
            "right": null,
            "top": null,
            "visibility": null,
            "width": null
          }
        },
        "4217035277814b1fb5ef4db118f7e7d0": {
          "model_module": "@jupyter-widgets/controls",
          "model_name": "DescriptionStyleModel",
          "model_module_version": "1.5.0",
          "state": {
            "_model_module": "@jupyter-widgets/controls",
            "_model_module_version": "1.5.0",
            "_model_name": "DescriptionStyleModel",
            "_view_count": null,
            "_view_module": "@jupyter-widgets/base",
            "_view_module_version": "1.2.0",
            "_view_name": "StyleView",
            "description_width": ""
          }
        },
        "0c4f899e818e4c76b85d4099b3d9dfb9": {
          "model_module": "@jupyter-widgets/controls",
          "model_name": "HBoxModel",
          "model_module_version": "1.5.0",
          "state": {
            "_dom_classes": [],
            "_model_module": "@jupyter-widgets/controls",
            "_model_module_version": "1.5.0",
            "_model_name": "HBoxModel",
            "_view_count": null,
            "_view_module": "@jupyter-widgets/controls",
            "_view_module_version": "1.5.0",
            "_view_name": "HBoxView",
            "box_style": "",
            "children": [
              "IPY_MODEL_2c6f97e5f569480fbee94c78595d3890",
              "IPY_MODEL_426bbe86dd164559a1ce7e9c21b9f36b",
              "IPY_MODEL_f7fb2a34baea4672a75775e533790d65"
            ],
            "layout": "IPY_MODEL_216eed7b41444e27b9df1398165a26f5"
          }
        },
        "2c6f97e5f569480fbee94c78595d3890": {
          "model_module": "@jupyter-widgets/controls",
          "model_name": "HTMLModel",
          "model_module_version": "1.5.0",
          "state": {
            "_dom_classes": [],
            "_model_module": "@jupyter-widgets/controls",
            "_model_module_version": "1.5.0",
            "_model_name": "HTMLModel",
            "_view_count": null,
            "_view_module": "@jupyter-widgets/controls",
            "_view_module_version": "1.5.0",
            "_view_name": "HTMLView",
            "description": "",
            "description_tooltip": null,
            "layout": "IPY_MODEL_8dd0ac31845645478cf7e9c1a8ebd5a9",
            "placeholder": "​",
            "style": "IPY_MODEL_15869a2e976b4062b6e8b971fd4b821d",
            "value": "Downloading: 100%"
          }
        },
        "426bbe86dd164559a1ce7e9c21b9f36b": {
          "model_module": "@jupyter-widgets/controls",
          "model_name": "FloatProgressModel",
          "model_module_version": "1.5.0",
          "state": {
            "_dom_classes": [],
            "_model_module": "@jupyter-widgets/controls",
            "_model_module_version": "1.5.0",
            "_model_name": "FloatProgressModel",
            "_view_count": null,
            "_view_module": "@jupyter-widgets/controls",
            "_view_module_version": "1.5.0",
            "_view_name": "ProgressView",
            "bar_style": "success",
            "description": "",
            "description_tooltip": null,
            "layout": "IPY_MODEL_75c88fd6117e4810b33c875ff0922d29",
            "max": 109540,
            "min": 0,
            "orientation": "horizontal",
            "style": "IPY_MODEL_0e076d583b1f40e8a8b2cdd191634451",
            "value": 109540
          }
        },
        "f7fb2a34baea4672a75775e533790d65": {
          "model_module": "@jupyter-widgets/controls",
          "model_name": "HTMLModel",
          "model_module_version": "1.5.0",
          "state": {
            "_dom_classes": [],
            "_model_module": "@jupyter-widgets/controls",
            "_model_module_version": "1.5.0",
            "_model_name": "HTMLModel",
            "_view_count": null,
            "_view_module": "@jupyter-widgets/controls",
            "_view_module_version": "1.5.0",
            "_view_name": "HTMLView",
            "description": "",
            "description_tooltip": null,
            "layout": "IPY_MODEL_b01b9096d92141e7bc29cc76461d399c",
            "placeholder": "​",
            "style": "IPY_MODEL_b3f6f0069ffc4aaeaca50266031ef6ab",
            "value": " 107k/107k [00:00&lt;00:00, 168kB/s]"
          }
        },
        "216eed7b41444e27b9df1398165a26f5": {
          "model_module": "@jupyter-widgets/base",
          "model_name": "LayoutModel",
          "model_module_version": "1.2.0",
          "state": {
            "_model_module": "@jupyter-widgets/base",
            "_model_module_version": "1.2.0",
            "_model_name": "LayoutModel",
            "_view_count": null,
            "_view_module": "@jupyter-widgets/base",
            "_view_module_version": "1.2.0",
            "_view_name": "LayoutView",
            "align_content": null,
            "align_items": null,
            "align_self": null,
            "border": null,
            "bottom": null,
            "display": null,
            "flex": null,
            "flex_flow": null,
            "grid_area": null,
            "grid_auto_columns": null,
            "grid_auto_flow": null,
            "grid_auto_rows": null,
            "grid_column": null,
            "grid_gap": null,
            "grid_row": null,
            "grid_template_areas": null,
            "grid_template_columns": null,
            "grid_template_rows": null,
            "height": null,
            "justify_content": null,
            "justify_items": null,
            "left": null,
            "margin": null,
            "max_height": null,
            "max_width": null,
            "min_height": null,
            "min_width": null,
            "object_fit": null,
            "object_position": null,
            "order": null,
            "overflow": null,
            "overflow_x": null,
            "overflow_y": null,
            "padding": null,
            "right": null,
            "top": null,
            "visibility": null,
            "width": null
          }
        },
        "8dd0ac31845645478cf7e9c1a8ebd5a9": {
          "model_module": "@jupyter-widgets/base",
          "model_name": "LayoutModel",
          "model_module_version": "1.2.0",
          "state": {
            "_model_module": "@jupyter-widgets/base",
            "_model_module_version": "1.2.0",
            "_model_name": "LayoutModel",
            "_view_count": null,
            "_view_module": "@jupyter-widgets/base",
            "_view_module_version": "1.2.0",
            "_view_name": "LayoutView",
            "align_content": null,
            "align_items": null,
            "align_self": null,
            "border": null,
            "bottom": null,
            "display": null,
            "flex": null,
            "flex_flow": null,
            "grid_area": null,
            "grid_auto_columns": null,
            "grid_auto_flow": null,
            "grid_auto_rows": null,
            "grid_column": null,
            "grid_gap": null,
            "grid_row": null,
            "grid_template_areas": null,
            "grid_template_columns": null,
            "grid_template_rows": null,
            "height": null,
            "justify_content": null,
            "justify_items": null,
            "left": null,
            "margin": null,
            "max_height": null,
            "max_width": null,
            "min_height": null,
            "min_width": null,
            "object_fit": null,
            "object_position": null,
            "order": null,
            "overflow": null,
            "overflow_x": null,
            "overflow_y": null,
            "padding": null,
            "right": null,
            "top": null,
            "visibility": null,
            "width": null
          }
        },
        "15869a2e976b4062b6e8b971fd4b821d": {
          "model_module": "@jupyter-widgets/controls",
          "model_name": "DescriptionStyleModel",
          "model_module_version": "1.5.0",
          "state": {
            "_model_module": "@jupyter-widgets/controls",
            "_model_module_version": "1.5.0",
            "_model_name": "DescriptionStyleModel",
            "_view_count": null,
            "_view_module": "@jupyter-widgets/base",
            "_view_module_version": "1.2.0",
            "_view_name": "StyleView",
            "description_width": ""
          }
        },
        "75c88fd6117e4810b33c875ff0922d29": {
          "model_module": "@jupyter-widgets/base",
          "model_name": "LayoutModel",
          "model_module_version": "1.2.0",
          "state": {
            "_model_module": "@jupyter-widgets/base",
            "_model_module_version": "1.2.0",
            "_model_name": "LayoutModel",
            "_view_count": null,
            "_view_module": "@jupyter-widgets/base",
            "_view_module_version": "1.2.0",
            "_view_name": "LayoutView",
            "align_content": null,
            "align_items": null,
            "align_self": null,
            "border": null,
            "bottom": null,
            "display": null,
            "flex": null,
            "flex_flow": null,
            "grid_area": null,
            "grid_auto_columns": null,
            "grid_auto_flow": null,
            "grid_auto_rows": null,
            "grid_column": null,
            "grid_gap": null,
            "grid_row": null,
            "grid_template_areas": null,
            "grid_template_columns": null,
            "grid_template_rows": null,
            "height": null,
            "justify_content": null,
            "justify_items": null,
            "left": null,
            "margin": null,
            "max_height": null,
            "max_width": null,
            "min_height": null,
            "min_width": null,
            "object_fit": null,
            "object_position": null,
            "order": null,
            "overflow": null,
            "overflow_x": null,
            "overflow_y": null,
            "padding": null,
            "right": null,
            "top": null,
            "visibility": null,
            "width": null
          }
        },
        "0e076d583b1f40e8a8b2cdd191634451": {
          "model_module": "@jupyter-widgets/controls",
          "model_name": "ProgressStyleModel",
          "model_module_version": "1.5.0",
          "state": {
            "_model_module": "@jupyter-widgets/controls",
            "_model_module_version": "1.5.0",
            "_model_name": "ProgressStyleModel",
            "_view_count": null,
            "_view_module": "@jupyter-widgets/base",
            "_view_module_version": "1.2.0",
            "_view_name": "StyleView",
            "bar_color": null,
            "description_width": ""
          }
        },
        "b01b9096d92141e7bc29cc76461d399c": {
          "model_module": "@jupyter-widgets/base",
          "model_name": "LayoutModel",
          "model_module_version": "1.2.0",
          "state": {
            "_model_module": "@jupyter-widgets/base",
            "_model_module_version": "1.2.0",
            "_model_name": "LayoutModel",
            "_view_count": null,
            "_view_module": "@jupyter-widgets/base",
            "_view_module_version": "1.2.0",
            "_view_name": "LayoutView",
            "align_content": null,
            "align_items": null,
            "align_self": null,
            "border": null,
            "bottom": null,
            "display": null,
            "flex": null,
            "flex_flow": null,
            "grid_area": null,
            "grid_auto_columns": null,
            "grid_auto_flow": null,
            "grid_auto_rows": null,
            "grid_column": null,
            "grid_gap": null,
            "grid_row": null,
            "grid_template_areas": null,
            "grid_template_columns": null,
            "grid_template_rows": null,
            "height": null,
            "justify_content": null,
            "justify_items": null,
            "left": null,
            "margin": null,
            "max_height": null,
            "max_width": null,
            "min_height": null,
            "min_width": null,
            "object_fit": null,
            "object_position": null,
            "order": null,
            "overflow": null,
            "overflow_x": null,
            "overflow_y": null,
            "padding": null,
            "right": null,
            "top": null,
            "visibility": null,
            "width": null
          }
        },
        "b3f6f0069ffc4aaeaca50266031ef6ab": {
          "model_module": "@jupyter-widgets/controls",
          "model_name": "DescriptionStyleModel",
          "model_module_version": "1.5.0",
          "state": {
            "_model_module": "@jupyter-widgets/controls",
            "_model_module_version": "1.5.0",
            "_model_name": "DescriptionStyleModel",
            "_view_count": null,
            "_view_module": "@jupyter-widgets/base",
            "_view_module_version": "1.2.0",
            "_view_name": "StyleView",
            "description_width": ""
          }
        },
        "f070e31971af4b85b78bd703735be356": {
          "model_module": "@jupyter-widgets/controls",
          "model_name": "HBoxModel",
          "model_module_version": "1.5.0",
          "state": {
            "_dom_classes": [],
            "_model_module": "@jupyter-widgets/controls",
            "_model_module_version": "1.5.0",
            "_model_name": "HBoxModel",
            "_view_count": null,
            "_view_module": "@jupyter-widgets/controls",
            "_view_module_version": "1.5.0",
            "_view_name": "HBoxView",
            "box_style": "",
            "children": [
              "IPY_MODEL_352be2c5248542aa86090698a5000ce0",
              "IPY_MODEL_a53d50ba195b4fdb988a28b9f8c6c87e",
              "IPY_MODEL_12366da9ef444e4b88ba22b53c20cb9c"
            ],
            "layout": "IPY_MODEL_9e016e81f64f4653ae61fd2c847c9775"
          }
        },
        "352be2c5248542aa86090698a5000ce0": {
          "model_module": "@jupyter-widgets/controls",
          "model_name": "HTMLModel",
          "model_module_version": "1.5.0",
          "state": {
            "_dom_classes": [],
            "_model_module": "@jupyter-widgets/controls",
            "_model_module_version": "1.5.0",
            "_model_name": "HTMLModel",
            "_view_count": null,
            "_view_module": "@jupyter-widgets/controls",
            "_view_module_version": "1.5.0",
            "_view_name": "HTMLView",
            "description": "",
            "description_tooltip": null,
            "layout": "IPY_MODEL_064ce3a439494a509194f0bef1304a9d",
            "placeholder": "​",
            "style": "IPY_MODEL_27ccfe97157a4f9c87e0382f28638b87",
            "value": "Downloading: 100%"
          }
        },
        "a53d50ba195b4fdb988a28b9f8c6c87e": {
          "model_module": "@jupyter-widgets/controls",
          "model_name": "FloatProgressModel",
          "model_module_version": "1.5.0",
          "state": {
            "_dom_classes": [],
            "_model_module": "@jupyter-widgets/controls",
            "_model_module_version": "1.5.0",
            "_model_name": "FloatProgressModel",
            "_view_count": null,
            "_view_module": "@jupyter-widgets/controls",
            "_view_module_version": "1.5.0",
            "_view_name": "ProgressView",
            "bar_style": "success",
            "description": "",
            "description_tooltip": null,
            "layout": "IPY_MODEL_448aba3fa9d14b11986fdab16d469d9d",
            "max": 268943,
            "min": 0,
            "orientation": "horizontal",
            "style": "IPY_MODEL_2e284d7d3f3d4db8aa58092b15739ae5",
            "value": 268943
          }
        },
        "12366da9ef444e4b88ba22b53c20cb9c": {
          "model_module": "@jupyter-widgets/controls",
          "model_name": "HTMLModel",
          "model_module_version": "1.5.0",
          "state": {
            "_dom_classes": [],
            "_model_module": "@jupyter-widgets/controls",
            "_model_module_version": "1.5.0",
            "_model_name": "HTMLModel",
            "_view_count": null,
            "_view_module": "@jupyter-widgets/controls",
            "_view_module_version": "1.5.0",
            "_view_name": "HTMLView",
            "description": "",
            "description_tooltip": null,
            "layout": "IPY_MODEL_cf90f369acb24f6a84225e3d519292ff",
            "placeholder": "​",
            "style": "IPY_MODEL_34ceb73b88ab4c75aa2bd0d80fb8a7a4",
            "value": " 263k/263k [00:00&lt;00:00, 282kB/s]"
          }
        },
        "9e016e81f64f4653ae61fd2c847c9775": {
          "model_module": "@jupyter-widgets/base",
          "model_name": "LayoutModel",
          "model_module_version": "1.2.0",
          "state": {
            "_model_module": "@jupyter-widgets/base",
            "_model_module_version": "1.2.0",
            "_model_name": "LayoutModel",
            "_view_count": null,
            "_view_module": "@jupyter-widgets/base",
            "_view_module_version": "1.2.0",
            "_view_name": "LayoutView",
            "align_content": null,
            "align_items": null,
            "align_self": null,
            "border": null,
            "bottom": null,
            "display": null,
            "flex": null,
            "flex_flow": null,
            "grid_area": null,
            "grid_auto_columns": null,
            "grid_auto_flow": null,
            "grid_auto_rows": null,
            "grid_column": null,
            "grid_gap": null,
            "grid_row": null,
            "grid_template_areas": null,
            "grid_template_columns": null,
            "grid_template_rows": null,
            "height": null,
            "justify_content": null,
            "justify_items": null,
            "left": null,
            "margin": null,
            "max_height": null,
            "max_width": null,
            "min_height": null,
            "min_width": null,
            "object_fit": null,
            "object_position": null,
            "order": null,
            "overflow": null,
            "overflow_x": null,
            "overflow_y": null,
            "padding": null,
            "right": null,
            "top": null,
            "visibility": null,
            "width": null
          }
        },
        "064ce3a439494a509194f0bef1304a9d": {
          "model_module": "@jupyter-widgets/base",
          "model_name": "LayoutModel",
          "model_module_version": "1.2.0",
          "state": {
            "_model_module": "@jupyter-widgets/base",
            "_model_module_version": "1.2.0",
            "_model_name": "LayoutModel",
            "_view_count": null,
            "_view_module": "@jupyter-widgets/base",
            "_view_module_version": "1.2.0",
            "_view_name": "LayoutView",
            "align_content": null,
            "align_items": null,
            "align_self": null,
            "border": null,
            "bottom": null,
            "display": null,
            "flex": null,
            "flex_flow": null,
            "grid_area": null,
            "grid_auto_columns": null,
            "grid_auto_flow": null,
            "grid_auto_rows": null,
            "grid_column": null,
            "grid_gap": null,
            "grid_row": null,
            "grid_template_areas": null,
            "grid_template_columns": null,
            "grid_template_rows": null,
            "height": null,
            "justify_content": null,
            "justify_items": null,
            "left": null,
            "margin": null,
            "max_height": null,
            "max_width": null,
            "min_height": null,
            "min_width": null,
            "object_fit": null,
            "object_position": null,
            "order": null,
            "overflow": null,
            "overflow_x": null,
            "overflow_y": null,
            "padding": null,
            "right": null,
            "top": null,
            "visibility": null,
            "width": null
          }
        },
        "27ccfe97157a4f9c87e0382f28638b87": {
          "model_module": "@jupyter-widgets/controls",
          "model_name": "DescriptionStyleModel",
          "model_module_version": "1.5.0",
          "state": {
            "_model_module": "@jupyter-widgets/controls",
            "_model_module_version": "1.5.0",
            "_model_name": "DescriptionStyleModel",
            "_view_count": null,
            "_view_module": "@jupyter-widgets/base",
            "_view_module_version": "1.2.0",
            "_view_name": "StyleView",
            "description_width": ""
          }
        },
        "448aba3fa9d14b11986fdab16d469d9d": {
          "model_module": "@jupyter-widgets/base",
          "model_name": "LayoutModel",
          "model_module_version": "1.2.0",
          "state": {
            "_model_module": "@jupyter-widgets/base",
            "_model_module_version": "1.2.0",
            "_model_name": "LayoutModel",
            "_view_count": null,
            "_view_module": "@jupyter-widgets/base",
            "_view_module_version": "1.2.0",
            "_view_name": "LayoutView",
            "align_content": null,
            "align_items": null,
            "align_self": null,
            "border": null,
            "bottom": null,
            "display": null,
            "flex": null,
            "flex_flow": null,
            "grid_area": null,
            "grid_auto_columns": null,
            "grid_auto_flow": null,
            "grid_auto_rows": null,
            "grid_column": null,
            "grid_gap": null,
            "grid_row": null,
            "grid_template_areas": null,
            "grid_template_columns": null,
            "grid_template_rows": null,
            "height": null,
            "justify_content": null,
            "justify_items": null,
            "left": null,
            "margin": null,
            "max_height": null,
            "max_width": null,
            "min_height": null,
            "min_width": null,
            "object_fit": null,
            "object_position": null,
            "order": null,
            "overflow": null,
            "overflow_x": null,
            "overflow_y": null,
            "padding": null,
            "right": null,
            "top": null,
            "visibility": null,
            "width": null
          }
        },
        "2e284d7d3f3d4db8aa58092b15739ae5": {
          "model_module": "@jupyter-widgets/controls",
          "model_name": "ProgressStyleModel",
          "model_module_version": "1.5.0",
          "state": {
            "_model_module": "@jupyter-widgets/controls",
            "_model_module_version": "1.5.0",
            "_model_name": "ProgressStyleModel",
            "_view_count": null,
            "_view_module": "@jupyter-widgets/base",
            "_view_module_version": "1.2.0",
            "_view_name": "StyleView",
            "bar_color": null,
            "description_width": ""
          }
        },
        "cf90f369acb24f6a84225e3d519292ff": {
          "model_module": "@jupyter-widgets/base",
          "model_name": "LayoutModel",
          "model_module_version": "1.2.0",
          "state": {
            "_model_module": "@jupyter-widgets/base",
            "_model_module_version": "1.2.0",
            "_model_name": "LayoutModel",
            "_view_count": null,
            "_view_module": "@jupyter-widgets/base",
            "_view_module_version": "1.2.0",
            "_view_name": "LayoutView",
            "align_content": null,
            "align_items": null,
            "align_self": null,
            "border": null,
            "bottom": null,
            "display": null,
            "flex": null,
            "flex_flow": null,
            "grid_area": null,
            "grid_auto_columns": null,
            "grid_auto_flow": null,
            "grid_auto_rows": null,
            "grid_column": null,
            "grid_gap": null,
            "grid_row": null,
            "grid_template_areas": null,
            "grid_template_columns": null,
            "grid_template_rows": null,
            "height": null,
            "justify_content": null,
            "justify_items": null,
            "left": null,
            "margin": null,
            "max_height": null,
            "max_width": null,
            "min_height": null,
            "min_width": null,
            "object_fit": null,
            "object_position": null,
            "order": null,
            "overflow": null,
            "overflow_x": null,
            "overflow_y": null,
            "padding": null,
            "right": null,
            "top": null,
            "visibility": null,
            "width": null
          }
        },
        "34ceb73b88ab4c75aa2bd0d80fb8a7a4": {
          "model_module": "@jupyter-widgets/controls",
          "model_name": "DescriptionStyleModel",
          "model_module_version": "1.5.0",
          "state": {
            "_model_module": "@jupyter-widgets/controls",
            "_model_module_version": "1.5.0",
            "_model_name": "DescriptionStyleModel",
            "_view_count": null,
            "_view_module": "@jupyter-widgets/base",
            "_view_module_version": "1.2.0",
            "_view_name": "StyleView",
            "description_width": ""
          }
        },
        "021b9f585f354537b57e37558a9ecdb8": {
          "model_module": "@jupyter-widgets/controls",
          "model_name": "HBoxModel",
          "model_module_version": "1.5.0",
          "state": {
            "_dom_classes": [],
            "_model_module": "@jupyter-widgets/controls",
            "_model_module_version": "1.5.0",
            "_model_name": "HBoxModel",
            "_view_count": null,
            "_view_module": "@jupyter-widgets/controls",
            "_view_module_version": "1.5.0",
            "_view_name": "HBoxView",
            "box_style": "",
            "children": [
              "IPY_MODEL_7acb220e74b44658980af32d4fe186e5",
              "IPY_MODEL_c5c873da821646abad21dc3858af7ed2",
              "IPY_MODEL_30860cde11ed42869f148041a08c2fb5"
            ],
            "layout": "IPY_MODEL_bc7a505c3d3a4874859d8a1c4fa75e29"
          }
        },
        "7acb220e74b44658980af32d4fe186e5": {
          "model_module": "@jupyter-widgets/controls",
          "model_name": "HTMLModel",
          "model_module_version": "1.5.0",
          "state": {
            "_dom_classes": [],
            "_model_module": "@jupyter-widgets/controls",
            "_model_module_version": "1.5.0",
            "_model_name": "HTMLModel",
            "_view_count": null,
            "_view_module": "@jupyter-widgets/controls",
            "_view_module_version": "1.5.0",
            "_view_name": "HTMLView",
            "description": "",
            "description_tooltip": null,
            "layout": "IPY_MODEL_21f5877ecafc48b3bb8bec4a0563d6c8",
            "placeholder": "​",
            "style": "IPY_MODEL_09c040b1bb8a4686b6e903c73d462aa1",
            "value": "Downloading: 100%"
          }
        },
        "c5c873da821646abad21dc3858af7ed2": {
          "model_module": "@jupyter-widgets/controls",
          "model_name": "FloatProgressModel",
          "model_module_version": "1.5.0",
          "state": {
            "_dom_classes": [],
            "_model_module": "@jupyter-widgets/controls",
            "_model_module_version": "1.5.0",
            "_model_name": "FloatProgressModel",
            "_view_count": null,
            "_view_module": "@jupyter-widgets/controls",
            "_view_module_version": "1.5.0",
            "_view_name": "ProgressView",
            "bar_style": "success",
            "description": "",
            "description_tooltip": null,
            "layout": "IPY_MODEL_53ba517982124791a01e492e08d7f110",
            "max": 624,
            "min": 0,
            "orientation": "horizontal",
            "style": "IPY_MODEL_12bf130488824bcb9b6609743f239ed5",
            "value": 624
          }
        },
        "30860cde11ed42869f148041a08c2fb5": {
          "model_module": "@jupyter-widgets/controls",
          "model_name": "HTMLModel",
          "model_module_version": "1.5.0",
          "state": {
            "_dom_classes": [],
            "_model_module": "@jupyter-widgets/controls",
            "_model_module_version": "1.5.0",
            "_model_name": "HTMLModel",
            "_view_count": null,
            "_view_module": "@jupyter-widgets/controls",
            "_view_module_version": "1.5.0",
            "_view_name": "HTMLView",
            "description": "",
            "description_tooltip": null,
            "layout": "IPY_MODEL_c87ad7b618fa4a92986524235826a655",
            "placeholder": "​",
            "style": "IPY_MODEL_7e13238be1b4443d8e9b61ef3c0b4647",
            "value": " 624/624 [00:00&lt;00:00, 18.5kB/s]"
          }
        },
        "bc7a505c3d3a4874859d8a1c4fa75e29": {
          "model_module": "@jupyter-widgets/base",
          "model_name": "LayoutModel",
          "model_module_version": "1.2.0",
          "state": {
            "_model_module": "@jupyter-widgets/base",
            "_model_module_version": "1.2.0",
            "_model_name": "LayoutModel",
            "_view_count": null,
            "_view_module": "@jupyter-widgets/base",
            "_view_module_version": "1.2.0",
            "_view_name": "LayoutView",
            "align_content": null,
            "align_items": null,
            "align_self": null,
            "border": null,
            "bottom": null,
            "display": null,
            "flex": null,
            "flex_flow": null,
            "grid_area": null,
            "grid_auto_columns": null,
            "grid_auto_flow": null,
            "grid_auto_rows": null,
            "grid_column": null,
            "grid_gap": null,
            "grid_row": null,
            "grid_template_areas": null,
            "grid_template_columns": null,
            "grid_template_rows": null,
            "height": null,
            "justify_content": null,
            "justify_items": null,
            "left": null,
            "margin": null,
            "max_height": null,
            "max_width": null,
            "min_height": null,
            "min_width": null,
            "object_fit": null,
            "object_position": null,
            "order": null,
            "overflow": null,
            "overflow_x": null,
            "overflow_y": null,
            "padding": null,
            "right": null,
            "top": null,
            "visibility": null,
            "width": null
          }
        },
        "21f5877ecafc48b3bb8bec4a0563d6c8": {
          "model_module": "@jupyter-widgets/base",
          "model_name": "LayoutModel",
          "model_module_version": "1.2.0",
          "state": {
            "_model_module": "@jupyter-widgets/base",
            "_model_module_version": "1.2.0",
            "_model_name": "LayoutModel",
            "_view_count": null,
            "_view_module": "@jupyter-widgets/base",
            "_view_module_version": "1.2.0",
            "_view_name": "LayoutView",
            "align_content": null,
            "align_items": null,
            "align_self": null,
            "border": null,
            "bottom": null,
            "display": null,
            "flex": null,
            "flex_flow": null,
            "grid_area": null,
            "grid_auto_columns": null,
            "grid_auto_flow": null,
            "grid_auto_rows": null,
            "grid_column": null,
            "grid_gap": null,
            "grid_row": null,
            "grid_template_areas": null,
            "grid_template_columns": null,
            "grid_template_rows": null,
            "height": null,
            "justify_content": null,
            "justify_items": null,
            "left": null,
            "margin": null,
            "max_height": null,
            "max_width": null,
            "min_height": null,
            "min_width": null,
            "object_fit": null,
            "object_position": null,
            "order": null,
            "overflow": null,
            "overflow_x": null,
            "overflow_y": null,
            "padding": null,
            "right": null,
            "top": null,
            "visibility": null,
            "width": null
          }
        },
        "09c040b1bb8a4686b6e903c73d462aa1": {
          "model_module": "@jupyter-widgets/controls",
          "model_name": "DescriptionStyleModel",
          "model_module_version": "1.5.0",
          "state": {
            "_model_module": "@jupyter-widgets/controls",
            "_model_module_version": "1.5.0",
            "_model_name": "DescriptionStyleModel",
            "_view_count": null,
            "_view_module": "@jupyter-widgets/base",
            "_view_module_version": "1.2.0",
            "_view_name": "StyleView",
            "description_width": ""
          }
        },
        "53ba517982124791a01e492e08d7f110": {
          "model_module": "@jupyter-widgets/base",
          "model_name": "LayoutModel",
          "model_module_version": "1.2.0",
          "state": {
            "_model_module": "@jupyter-widgets/base",
            "_model_module_version": "1.2.0",
            "_model_name": "LayoutModel",
            "_view_count": null,
            "_view_module": "@jupyter-widgets/base",
            "_view_module_version": "1.2.0",
            "_view_name": "LayoutView",
            "align_content": null,
            "align_items": null,
            "align_self": null,
            "border": null,
            "bottom": null,
            "display": null,
            "flex": null,
            "flex_flow": null,
            "grid_area": null,
            "grid_auto_columns": null,
            "grid_auto_flow": null,
            "grid_auto_rows": null,
            "grid_column": null,
            "grid_gap": null,
            "grid_row": null,
            "grid_template_areas": null,
            "grid_template_columns": null,
            "grid_template_rows": null,
            "height": null,
            "justify_content": null,
            "justify_items": null,
            "left": null,
            "margin": null,
            "max_height": null,
            "max_width": null,
            "min_height": null,
            "min_width": null,
            "object_fit": null,
            "object_position": null,
            "order": null,
            "overflow": null,
            "overflow_x": null,
            "overflow_y": null,
            "padding": null,
            "right": null,
            "top": null,
            "visibility": null,
            "width": null
          }
        },
        "12bf130488824bcb9b6609743f239ed5": {
          "model_module": "@jupyter-widgets/controls",
          "model_name": "ProgressStyleModel",
          "model_module_version": "1.5.0",
          "state": {
            "_model_module": "@jupyter-widgets/controls",
            "_model_module_version": "1.5.0",
            "_model_name": "ProgressStyleModel",
            "_view_count": null,
            "_view_module": "@jupyter-widgets/base",
            "_view_module_version": "1.2.0",
            "_view_name": "StyleView",
            "bar_color": null,
            "description_width": ""
          }
        },
        "c87ad7b618fa4a92986524235826a655": {
          "model_module": "@jupyter-widgets/base",
          "model_name": "LayoutModel",
          "model_module_version": "1.2.0",
          "state": {
            "_model_module": "@jupyter-widgets/base",
            "_model_module_version": "1.2.0",
            "_model_name": "LayoutModel",
            "_view_count": null,
            "_view_module": "@jupyter-widgets/base",
            "_view_module_version": "1.2.0",
            "_view_name": "LayoutView",
            "align_content": null,
            "align_items": null,
            "align_self": null,
            "border": null,
            "bottom": null,
            "display": null,
            "flex": null,
            "flex_flow": null,
            "grid_area": null,
            "grid_auto_columns": null,
            "grid_auto_flow": null,
            "grid_auto_rows": null,
            "grid_column": null,
            "grid_gap": null,
            "grid_row": null,
            "grid_template_areas": null,
            "grid_template_columns": null,
            "grid_template_rows": null,
            "height": null,
            "justify_content": null,
            "justify_items": null,
            "left": null,
            "margin": null,
            "max_height": null,
            "max_width": null,
            "min_height": null,
            "min_width": null,
            "object_fit": null,
            "object_position": null,
            "order": null,
            "overflow": null,
            "overflow_x": null,
            "overflow_y": null,
            "padding": null,
            "right": null,
            "top": null,
            "visibility": null,
            "width": null
          }
        },
        "7e13238be1b4443d8e9b61ef3c0b4647": {
          "model_module": "@jupyter-widgets/controls",
          "model_name": "DescriptionStyleModel",
          "model_module_version": "1.5.0",
          "state": {
            "_model_module": "@jupyter-widgets/controls",
            "_model_module_version": "1.5.0",
            "_model_name": "DescriptionStyleModel",
            "_view_count": null,
            "_view_module": "@jupyter-widgets/base",
            "_view_module_version": "1.2.0",
            "_view_name": "StyleView",
            "description_width": ""
          }
        }
      }
    }
  },
  "cells": [
    {
      "cell_type": "code",
      "execution_count": 1,
      "metadata": {
        "colab": {
          "base_uri": "https://localhost:8080/"
        },
        "id": "ahNK210JiQ7w",
        "outputId": "47a33971-ac9b-41d7-9522-9578effc33cc"
      },
      "outputs": [
        {
          "output_type": "stream",
          "name": "stdout",
          "text": [
            "Collecting transformers\n",
            "  Downloading transformers-4.18.0-py3-none-any.whl (4.0 MB)\n",
            "\u001b[K     |████████████████████████████████| 4.0 MB 31.3 MB/s \n",
            "\u001b[?25hRequirement already satisfied: regex!=2019.12.17 in /usr/local/lib/python3.7/dist-packages (from transformers) (2019.12.20)\n",
            "Collecting tokenizers!=0.11.3,<0.13,>=0.11.1\n",
            "  Downloading tokenizers-0.12.1-cp37-cp37m-manylinux_2_12_x86_64.manylinux2010_x86_64.whl (6.6 MB)\n",
            "\u001b[K     |████████████████████████████████| 6.6 MB 65.5 MB/s \n",
            "\u001b[?25hRequirement already satisfied: tqdm>=4.27 in /usr/local/lib/python3.7/dist-packages (from transformers) (4.64.0)\n",
            "Collecting pyyaml>=5.1\n",
            "  Downloading PyYAML-6.0-cp37-cp37m-manylinux_2_5_x86_64.manylinux1_x86_64.manylinux_2_12_x86_64.manylinux2010_x86_64.whl (596 kB)\n",
            "\u001b[K     |████████████████████████████████| 596 kB 61.9 MB/s \n",
            "\u001b[?25hRequirement already satisfied: numpy>=1.17 in /usr/local/lib/python3.7/dist-packages (from transformers) (1.21.6)\n",
            "Requirement already satisfied: packaging>=20.0 in /usr/local/lib/python3.7/dist-packages (from transformers) (21.3)\n",
            "Collecting sacremoses\n",
            "  Downloading sacremoses-0.0.49-py3-none-any.whl (895 kB)\n",
            "\u001b[K     |████████████████████████████████| 895 kB 56.4 MB/s \n",
            "\u001b[?25hCollecting huggingface-hub<1.0,>=0.1.0\n",
            "  Downloading huggingface_hub-0.5.1-py3-none-any.whl (77 kB)\n",
            "\u001b[K     |████████████████████████████████| 77 kB 4.8 MB/s \n",
            "\u001b[?25hRequirement already satisfied: importlib-metadata in /usr/local/lib/python3.7/dist-packages (from transformers) (4.11.3)\n",
            "Requirement already satisfied: filelock in /usr/local/lib/python3.7/dist-packages (from transformers) (3.6.0)\n",
            "Requirement already satisfied: requests in /usr/local/lib/python3.7/dist-packages (from transformers) (2.23.0)\n",
            "Requirement already satisfied: typing-extensions>=3.7.4.3 in /usr/local/lib/python3.7/dist-packages (from huggingface-hub<1.0,>=0.1.0->transformers) (4.1.1)\n",
            "Requirement already satisfied: pyparsing!=3.0.5,>=2.0.2 in /usr/local/lib/python3.7/dist-packages (from packaging>=20.0->transformers) (3.0.8)\n",
            "Requirement already satisfied: zipp>=0.5 in /usr/local/lib/python3.7/dist-packages (from importlib-metadata->transformers) (3.8.0)\n",
            "Requirement already satisfied: chardet<4,>=3.0.2 in /usr/local/lib/python3.7/dist-packages (from requests->transformers) (3.0.4)\n",
            "Requirement already satisfied: certifi>=2017.4.17 in /usr/local/lib/python3.7/dist-packages (from requests->transformers) (2021.10.8)\n",
            "Requirement already satisfied: urllib3!=1.25.0,!=1.25.1,<1.26,>=1.21.1 in /usr/local/lib/python3.7/dist-packages (from requests->transformers) (1.24.3)\n",
            "Requirement already satisfied: idna<3,>=2.5 in /usr/local/lib/python3.7/dist-packages (from requests->transformers) (2.10)\n",
            "Requirement already satisfied: joblib in /usr/local/lib/python3.7/dist-packages (from sacremoses->transformers) (1.1.0)\n",
            "Requirement already satisfied: click in /usr/local/lib/python3.7/dist-packages (from sacremoses->transformers) (7.1.2)\n",
            "Requirement already satisfied: six in /usr/local/lib/python3.7/dist-packages (from sacremoses->transformers) (1.15.0)\n",
            "Installing collected packages: pyyaml, tokenizers, sacremoses, huggingface-hub, transformers\n",
            "  Attempting uninstall: pyyaml\n",
            "    Found existing installation: PyYAML 3.13\n",
            "    Uninstalling PyYAML-3.13:\n",
            "      Successfully uninstalled PyYAML-3.13\n",
            "Successfully installed huggingface-hub-0.5.1 pyyaml-6.0 sacremoses-0.0.49 tokenizers-0.12.1 transformers-4.18.0\n"
          ]
        }
      ],
      "source": [
        "!pip install transformers"
      ]
    },
    {
      "cell_type": "code",
      "source": [
        "import json\n",
        "import os\n",
        "from collections import Counter\n",
        "\n",
        "import numpy as np\n",
        "\n",
        "from transformers import BertModel, BertTokenizer,BertTokenizerFast\n",
        "import torch\n",
        "import torch\n",
        "from torch.utils.data import TensorDataset, DataLoader\n",
        "from tqdm import tqdm\n"
      ],
      "metadata": {
        "id": "5h7aaCCxjEPD"
      },
      "execution_count": 2,
      "outputs": []
    },
    {
      "cell_type": "code",
      "source": [
        "\"\"\"\n",
        "Date: 2021-06-01 17:18:25\n",
        "LastEditors: GodK\n",
        "\"\"\"\n",
        "import time\n",
        "\n",
        "common = {\n",
        "    \"exp_name\": \"cluener\",\n",
        "    \"encoder\": \"BERT\",\n",
        "    \"data_home\": \"data\",\n",
        "    \"bert_path\": \"./pretrained_models/bert-base-chinese\",  # bert-base-cased， bert-base-chinese\n",
        "    \"run_type\": \"train\",  # train,eval\n",
        "    \"f1_2_save\": 0.5,  # 存模型的最低f1值\n",
        "    \"logger\": \"default\"  # wandb or default，default意味着只输出日志到控制台\n",
        "}\n",
        "\n",
        "# wandb的配置，只有在logger=wandb时生效。用于可视化训练过程\n",
        "wandb_config = {\n",
        "    \"run_name\": time.strftime('%Y-%m-%d %H:%M:%S', time.gmtime()),\n",
        "    \"log_interval\": 10\n",
        "}\n",
        "\n",
        "train_config = {\n",
        "    \"train_data\": \"train.json\",\n",
        "    \"valid_data\": \"dev.json\",\n",
        "    \"ent2id\": \"ent2id.json\",\n",
        "    \"path_to_save_model\": \"./outputs\",  # 在logger不是wandb时生效\n",
        "    \"hyper_parameters\": {\n",
        "        \"lr\": 5e-5,\n",
        "        \"batch_size\": 1,\n",
        "        \"epochs\": 50,\n",
        "        \"seed\": 2333,\n",
        "        \"max_seq_len\": 128,\n",
        "        \"scheduler\": \"CAWR\"\n",
        "    }\n",
        "}\n",
        "\n",
        "eval_config = {\n",
        "    \"model_state_dir\": \"./outputs/cluener/\",  # 预测时注意填写模型路径（时间tag文件夹）\n",
        "    \"run_id\": \"\",\n",
        "    \"last_k_model\": 1,  # 取倒数第几个model_state\n",
        "    \"test_data\": \"test.json\",\n",
        "    \"ent2id\": \"ent2id.json\",\n",
        "    \"save_res_dir\": \"./results\",\n",
        "    \"hyper_parameters\": {\n",
        "        \"batch_size\": 16,\n",
        "        \"max_seq_len\": 512,\n",
        "    }\n",
        "\n",
        "}\n",
        "\n",
        "cawr_scheduler = {\n",
        "    # CosineAnnealingWarmRestarts\n",
        "    \"T_mult\": 1,\n",
        "    \"rewarm_epoch_num\": 2,\n",
        "}\n",
        "step_scheduler = {\n",
        "    # StepLR\n",
        "    \"decay_rate\": 0.999,\n",
        "    \"decay_steps\": 100,\n",
        "}\n",
        "\n",
        "# ---------------------------------------------\n",
        "train_config[\"hyper_parameters\"].update(**cawr_scheduler, **step_scheduler)\n",
        "train_config = {**train_config, **common, **wandb_config}\n",
        "eval_config = {**eval_config, **common}\n"
      ],
      "metadata": {
        "id": "Olyq0rkyjlWW"
      },
      "execution_count": 3,
      "outputs": []
    },
    {
      "cell_type": "code",
      "source": [
        "model_name='bert-base-chinese'\n",
        "seq_length=128\n",
        "tokenizer = BertTokenizerFast.from_pretrained(model_name)"
      ],
      "metadata": {
        "colab": {
          "base_uri": "https://localhost:8080/",
          "height": 145,
          "referenced_widgets": [
            "9ca0bbb5b8b74f6b9a83c9b5da465d64",
            "da3ddb3d82fe431299094df60e72047e",
            "d4f9956d3f444b98a46387c4821cf0e6",
            "9112b3a0f2df4bada96dca373eda742e",
            "148bf560b367443b9c29868e140b60ce",
            "c0c39cb63bbc421591802865196b1bfd",
            "0af140b59c434248aa68e51eb1df72d8",
            "9b53aa2c35b64f7eb5a8677e775d850d",
            "8d3b2940735b4b92b5ac215cd5315b2f",
            "842f423f580943ee9366274783ef5791",
            "4217035277814b1fb5ef4db118f7e7d0",
            "0c4f899e818e4c76b85d4099b3d9dfb9",
            "2c6f97e5f569480fbee94c78595d3890",
            "426bbe86dd164559a1ce7e9c21b9f36b",
            "f7fb2a34baea4672a75775e533790d65",
            "216eed7b41444e27b9df1398165a26f5",
            "8dd0ac31845645478cf7e9c1a8ebd5a9",
            "15869a2e976b4062b6e8b971fd4b821d",
            "75c88fd6117e4810b33c875ff0922d29",
            "0e076d583b1f40e8a8b2cdd191634451",
            "b01b9096d92141e7bc29cc76461d399c",
            "b3f6f0069ffc4aaeaca50266031ef6ab",
            "f070e31971af4b85b78bd703735be356",
            "352be2c5248542aa86090698a5000ce0",
            "a53d50ba195b4fdb988a28b9f8c6c87e",
            "12366da9ef444e4b88ba22b53c20cb9c",
            "9e016e81f64f4653ae61fd2c847c9775",
            "064ce3a439494a509194f0bef1304a9d",
            "27ccfe97157a4f9c87e0382f28638b87",
            "448aba3fa9d14b11986fdab16d469d9d",
            "2e284d7d3f3d4db8aa58092b15739ae5",
            "cf90f369acb24f6a84225e3d519292ff",
            "34ceb73b88ab4c75aa2bd0d80fb8a7a4",
            "021b9f585f354537b57e37558a9ecdb8",
            "7acb220e74b44658980af32d4fe186e5",
            "c5c873da821646abad21dc3858af7ed2",
            "30860cde11ed42869f148041a08c2fb5",
            "bc7a505c3d3a4874859d8a1c4fa75e29",
            "21f5877ecafc48b3bb8bec4a0563d6c8",
            "09c040b1bb8a4686b6e903c73d462aa1",
            "53ba517982124791a01e492e08d7f110",
            "12bf130488824bcb9b6609743f239ed5",
            "c87ad7b618fa4a92986524235826a655",
            "7e13238be1b4443d8e9b61ef3c0b4647"
          ]
        },
        "id": "YgNOUvU2joPx",
        "outputId": "a32c7a66-379a-429e-babe-f29ed3a55c62"
      },
      "execution_count": 5,
      "outputs": [
        {
          "output_type": "display_data",
          "data": {
            "text/plain": [
              "Downloading:   0%|          | 0.00/29.0 [00:00<?, ?B/s]"
            ],
            "application/vnd.jupyter.widget-view+json": {
              "version_major": 2,
              "version_minor": 0,
              "model_id": "9ca0bbb5b8b74f6b9a83c9b5da465d64"
            }
          },
          "metadata": {}
        },
        {
          "output_type": "display_data",
          "data": {
            "text/plain": [
              "Downloading:   0%|          | 0.00/107k [00:00<?, ?B/s]"
            ],
            "application/vnd.jupyter.widget-view+json": {
              "version_major": 2,
              "version_minor": 0,
              "model_id": "0c4f899e818e4c76b85d4099b3d9dfb9"
            }
          },
          "metadata": {}
        },
        {
          "output_type": "display_data",
          "data": {
            "text/plain": [
              "Downloading:   0%|          | 0.00/263k [00:00<?, ?B/s]"
            ],
            "application/vnd.jupyter.widget-view+json": {
              "version_major": 2,
              "version_minor": 0,
              "model_id": "f070e31971af4b85b78bd703735be356"
            }
          },
          "metadata": {}
        },
        {
          "output_type": "display_data",
          "data": {
            "text/plain": [
              "Downloading:   0%|          | 0.00/624 [00:00<?, ?B/s]"
            ],
            "application/vnd.jupyter.widget-view+json": {
              "version_major": 2,
              "version_minor": 0,
              "model_id": "021b9f585f354537b57e37558a9ecdb8"
            }
          },
          "metadata": {}
        }
      ]
    },
    {
      "cell_type": "code",
      "source": [
        "def load_data(data_path, data_type=\"train\"):\n",
        "    \"\"\"读取数据集\n",
        "\n",
        "    Args:\n",
        "        data_path (str): 数据存放路径\n",
        "        data_type (str, optional): 数据类型. Defaults to \"train\".\n",
        "\n",
        "    Returns:\n",
        "        (json): train和valid中一条数据格式：{\"text\":\"\",\"entity_list\":[(start, end, label), (start, end, label)...]}\n",
        "    \"\"\"\n",
        "    if data_type == \"train\" or data_type == \"valid\":\n",
        "        # datas = []\n",
        "        # with open(data_path, encoding=\"utf-8\") as f:\n",
        "        #     for line in f:\n",
        "        #         line = json.loads(line)\n",
        "        #         item = {}\n",
        "        #         item[\"text\"] = line[\"text\"]\n",
        "        #         item[\"entity_list\"] = []\n",
        "        #         for k, v in line['label'].items():\n",
        "        #             for spans in v.values():\n",
        "        #                 for start, end in spans:\n",
        "        #                     item[\"entity_list\"].append((start, end, k))\n",
        "        #\n",
        "        #         datas.append(item)\n",
        "        datas = []\n",
        "        with open(data_path, encoding=\"utf-8\") as f:\n",
        "            for line in f.readlines():\n",
        "                line = json.loads(line)\n",
        "                item = {}\n",
        "                item[\"text\"] = line[\"text\"]\n",
        "                item[\"entity_list\"] = []\n",
        "                for k, v in line['label'].items():\n",
        "                    for k_, span in v.items():\n",
        "                        for spans in span:\n",
        "                            item[\"entity_list\"].append((spans[0], spans[1], k))\n",
        "\n",
        "                datas.append(item)\n",
        "        return datas\n",
        "    else:\n",
        "        return json.load(open(data_path, encoding=\"utf-8\"))\n",
        "\n",
        "def find_head_idx(source, target):\n",
        "    target_len = len(target)\n",
        "    for i in range(len(source)):\n",
        "        if source[i: i + target_len] == target:\n",
        "            return i,i + target_len-1\n",
        "    return -1,-1\n",
        "\n",
        "\n",
        "entity2id={\n",
        "    \"O\":0,\n",
        "\"B-address\": 1, \"I-address\": 2,\n",
        "\"B-book\": 3,\"I-book\": 4,\n",
        "\"B-company\": 5,\"I-company\": 6,\n",
        "\"B-game\": 7, \"I-game\":8,\n",
        "\"B-government\": 9, \"I-government\": 10,\n",
        "    \"B-movie\": 11, \"I-movie\": 12,\n",
        "    \"B-name\": 13, \"I-name\": 14,\n",
        "    \"B-organization\": 15,\"I-organization\": 16,\n",
        "    \"B-position\": 17, \"I-position\": 18,\n",
        "    \"B-scene\": 19,\"I-scene\": 20\n",
        "}\n",
        "\n",
        "BERT_MAX_LEN = 128"
      ],
      "metadata": {
        "id": "gzk5L-Lrjrd9"
      },
      "execution_count": 6,
      "outputs": []
    },
    {
      "cell_type": "markdown",
      "source": [
        "## data generator"
      ],
      "metadata": {
        "id": "bK8oeg4GQdop"
      }
    },
    {
      "cell_type": "code",
      "source": [
        "class Preprocessor(object):\n",
        "    def __init__(self, tokenizer):\n",
        "        super(Preprocessor, self).__init__()\n",
        "        self.tokenizer = tokenizer\n",
        "        self.add_special_tokens = True\n",
        "\n",
        "    def get_ent2token_spans(self, text, entity_list):\n",
        "        \"\"\"实体列表转为token_spans\n",
        "\n",
        "        Args:\n",
        "            text (str): 原始文本\n",
        "            entity_list (list): [(start, end, ent_type),(start, end, ent_type)...]\n",
        "        \"\"\"\n",
        "        ent2token_spans = []\n",
        "\n",
        "        inputs = self.tokenizer(text, add_special_tokens=True, return_offsets_mapping=True)\n",
        "        token2char_span_mapping = inputs[\"offset_mapping\"]\n",
        "        text2tokens = self.tokenizer.tokenize(text, add_special_tokens=self.add_special_tokens)\n",
        "\n",
        "        for ent_span in entity_list:\n",
        "            ent = text[ent_span[0]:ent_span[1] + 1]\n",
        "            ent2token = self.tokenizer.tokenize(ent, add_special_tokens=False)\n",
        "\n",
        "            # 寻找ent的token_span\n",
        "            token_start_indexs = [i for i, v in enumerate(text2tokens) if v == ent2token[0]]\n",
        "\n",
        "            token_end_indexs = [i for i, v in enumerate(text2tokens) if v == ent2token[-1]]\n",
        "\n",
        "            token_start_index = list(filter(lambda x: token2char_span_mapping[x][0] == ent_span[0], token_start_indexs))\n",
        "            token_end_index = list(filter(lambda x: token2char_span_mapping[x][-1] - 1 == ent_span[1], token_end_indexs))  # token2char_span_mapping[x][-1]-1 减1是因为原始的char_span是闭区间，而token2char_span是开区间\n",
        "\n",
        "            if len(token_start_index) == 0 or len(token_end_index) == 0:\n",
        "                # print(f'[{ent}] 无法对应到 [{text}] 的token_span，已丢弃')\n",
        "                continue\n",
        "            token_span = (token_start_index[0], token_end_index[0], ent_span[2])\n",
        "            ent2token_spans.append(token_span)\n",
        "\n",
        "        return ent2token_spans\n",
        "\n",
        "class data_generator:\n",
        "    def __init__(self, data, tokenizer, maxlen):\n",
        "        self.data = data\n",
        "        self.batch_size = len(self.data)\n",
        "        self.tokenizer = tokenizer\n",
        "        self.maxlen = maxlen\n",
        "        self.preprocessor = Preprocessor(tokenizer)\n",
        "\n",
        "    def __len__(self):\n",
        "        return self.batch_size\n",
        "\n",
        "    def generator(self):\n",
        "        # while True:\n",
        "        # idxs = list(range(len(self.data)))\n",
        "        sent_lengths = []\n",
        "        tokens_batch, segments_batch, token_type_batch, labels_ids = [], [], [], []\n",
        "        start_indexs = []\n",
        "        end_indexs = []\n",
        "        # tokens_batch--------tokens ids;segments_batch-------attention mask; token_type_ids--------；labels_ids------ 每个实体的label标签\n",
        "        for sample in self.data:\n",
        "\n",
        "            text_len = BERT_MAX_LEN\n",
        "            inputs = self.tokenizer(sample['text'], return_tensors='pt', add_special_tokens=True, truncation=True, padding=True,\n",
        "                                    max_length=BERT_MAX_LEN)\n",
        "            token_ids, segment_ids, token_type_ids = inputs['input_ids'], inputs['attention_mask'], inputs[\n",
        "                'token_type_ids']\n",
        "\n",
        "            sent_lengths.append(token_ids.shape[1])\n",
        "            pad_len = BERT_MAX_LEN - token_ids.shape[1]\n",
        "            pad_seq = torch.zeros(1, pad_len)\n",
        "            token_ids = torch.cat((token_ids, pad_seq), dim=1)\n",
        "            segment_ids = torch.cat((segment_ids, pad_seq), dim=1)\n",
        "            token_type_ids = torch.cat((token_type_ids, pad_seq), dim=1)\n",
        "            #句子的label标签\n",
        "            labels=torch.zeros(self.maxlen)\n",
        "            ent2token_spans = self.preprocessor.get_ent2token_spans(\n",
        "                sample[\"text\"], sample[\"entity_list\"]\n",
        "            )\n",
        "            for start, end, label in ent2token_spans:\n",
        "                labels[start]=entity2id['B-'+label]\n",
        "                if start+1!=end+1:\n",
        "                    labels[start+1:end+1]=entity2id['I-'+label]\n",
        "\n",
        "            labels_ids.append(labels)\n",
        "            token_type_batch.append(token_type_ids)\n",
        "            tokens_batch.append(token_ids)\n",
        "            segments_batch.append(segment_ids)\n",
        "\n",
        "            # print(sub_heads,sub_tails,torch.where(obj_heads==1),torch.where(obj_tails)==1)\n",
        "        return tokens_batch, segments_batch, token_type_batch, labels_ids,sent_lengths"
      ],
      "metadata": {
        "id": "82K17PgWjzIB"
      },
      "execution_count": 31,
      "outputs": []
    },
    {
      "cell_type": "code",
      "source": [
        "if __name__ == '__main__':\n",
        "    train_path=os.path.join(common[\"data_home\"], common[\"exp_name\"], train_config[\"train_data\"])\n",
        "    train_data = load_data(train_path)\n",
        "    print('train_data_length',len(train_data))\n",
        "    train_config=train_config\n",
        "    maxlen = train_config[\"hyper_parameters\"]['max_seq_len']\n",
        "    train_tokens_batch, train_segments_batch, train_token_type_batch, train_labels_ids,sent_lengths = \\\n",
        "        data_generator(train_data,tokenizer,maxlen).generator()\n",
        "\n",
        "    vaild_path=os.path.join(common[\"data_home\"], common[\"exp_name\"], train_config[\"valid_data\"])\n",
        "    vaild_data=load_data(vaild_path)[:-500]\n",
        "    print('valid_data_length',len(vaild_data))\n",
        "    test_data=load_data(vaild_path)[-500:]\n",
        "    vaild_tokens_batch, vaild_segments_batch, vaild_token_type_batch, valid_labels_ids,sent_lengths = \\\n",
        "        data_generator(vaild_data, tokenizer, maxlen).generator()\n",
        "\n",
        "    test_tokens_batch, test_segments_batch, test_token_type_batch, test_labels_ids,test_sent_lengths = \\\n",
        "        data_generator(test_data, tokenizer, maxlen).generator()\n",
        "sign=['train_','valid_','test_']\n",
        "for di in sign:\n",
        "    if di == 'train_':\n",
        "        tokens_batch, segments_batch, token_type_batch, labels_ids= train_tokens_batch, train_segments_batch, train_token_type_batch, train_labels_ids\n",
        "        tokens_batch = torch.cat([l for l in tokens_batch]).int()\n",
        "        print(tokens_batch.shape)\n",
        "        segments_batch = torch.cat([l for l in segments_batch]).int()  # sents_length*128\n",
        "        # 命名实体识别\n",
        "\n",
        "        token_type_batch = torch.cat([l for l in token_type_batch]).int()\n",
        "        labels_ids_batch = torch.cat([l for l in labels_ids]).reshape(tokens_batch.shape[0], -1).int()\n",
        "        train_dataset=TensorDataset(tokens_batch,segments_batch,token_type_batch,labels_ids_batch)\n",
        "\n",
        "    elif di=='valid_':\n",
        "        tokens_batch, segments_batch, token_type_batch, labels_ids =  vaild_tokens_batch, vaild_segments_batch, vaild_token_type_batch, valid_labels_ids\n",
        "        tokens_batch = torch.cat([l for l in tokens_batch]).int()\n",
        "        print(tokens_batch.shape)\n",
        "        segments_batch = torch.cat([l for l in segments_batch]).int()  # sents_length*128\n",
        "        # 命名实体识别\n",
        "\n",
        "        token_type_batch = torch.cat([l for l in token_type_batch]).int()\n",
        "        labels_ids_batch = torch.cat([l for l in labels_ids]).reshape(tokens_batch.shape[0], -1).int()\n",
        "        valid_dataset=TensorDataset(tokens_batch,segments_batch,token_type_batch,labels_ids_batch)\n",
        "\n",
        "    elif di=='test_':\n",
        "        tokens_batch, segments_batch, token_type_batch, labels_ids,sent_lengths = test_tokens_batch, test_segments_batch, test_token_type_batch, test_labels_ids,test_sent_lengths\n",
        "        tokens_batch = torch.cat([l for l in tokens_batch]).int()\n",
        "        print(tokens_batch.shape)\n",
        "        segments_batch = torch.cat([l for l in segments_batch]).int()  # sents_length*128\n",
        "        # 命名实体识别\n",
        "        sent_lengths_batch = torch.tensor(sent_lengths).reshape(tokens_batch.shape[0], -1).int()\n",
        "        token_type_batch = torch.cat([l for l in token_type_batch]).int()\n",
        "        labels_ids_batch = torch.cat([l for l in labels_ids]).reshape(tokens_batch.shape[0], -1).int()\n",
        "        test_dataset = TensorDataset(tokens_batch, segments_batch, token_type_batch, labels_ids_batch,sent_lengths_batch)\n",
        "\n",
        "print('train_dataset_length',len(train_dataset))\n",
        "print('vaild_dataset_length',len(valid_dataset))\n",
        "print('test_dataset_length',len(test_dataset))"
      ],
      "metadata": {
        "colab": {
          "base_uri": "https://localhost:8080/"
        },
        "id": "52dwMlKaQrzm",
        "outputId": "2132c583-8f7f-453f-8469-badf4e187be1"
      },
      "execution_count": 33,
      "outputs": [
        {
          "output_type": "stream",
          "name": "stdout",
          "text": [
            "train_data_length 10748\n",
            "valid_data_length 843\n",
            "torch.Size([10748, 128])\n",
            "torch.Size([843, 128])\n",
            "torch.Size([500, 128])\n",
            "train_dataset_length 10748\n",
            "vaild_dataset_length 843\n",
            "test_dataset_length 500\n"
          ]
        }
      ]
    },
    {
      "cell_type": "code",
      "source": [
        "!pip install pytorch-crf"
      ],
      "metadata": {
        "colab": {
          "base_uri": "https://localhost:8080/"
        },
        "id": "FNchLb_UkECc",
        "outputId": "3c54c6c8-044a-4e10-9347-bbdcdaba512b"
      },
      "execution_count": 13,
      "outputs": [
        {
          "output_type": "stream",
          "name": "stdout",
          "text": [
            "Collecting pytorch-crf\n",
            "  Downloading pytorch_crf-0.7.2-py3-none-any.whl (9.5 kB)\n",
            "Installing collected packages: pytorch-crf\n",
            "Successfully installed pytorch-crf-0.7.2\n"
          ]
        }
      ]
    },
    {
      "cell_type": "markdown",
      "source": [
        ""
      ],
      "metadata": {
        "id": "YFJzPUr5kVhO"
      }
    },
    {
      "cell_type": "code",
      "source": [
        "from transformers import AdamW\n",
        "from transformers import BertModel\n",
        "from torch.nn import functional as F\n",
        "from torchcrf import CRF"
      ],
      "metadata": {
        "id": "9Y8R10ifkAxJ"
      },
      "execution_count": 14,
      "outputs": []
    },
    {
      "cell_type": "code",
      "source": [
        "import torch.nn as nn\n",
        "class E2EModel(nn.Module):\n",
        "    def __init__(self):\n",
        "        super(E2EModel, self).__init__()\n",
        "        self.tagset_size=len(entity2id.keys())\n",
        "        self.hidden_dim=768\n",
        "        self.encode=BertModel.from_pretrained(model_name)\n",
        "        # self.lstm = nn.LSTM(embedding_dim, hidden_dim // 2,\n",
        "        #                     num_layers=1, bidirectional=True)\n",
        "        self.classifier1 = nn.Linear(768, 128)\n",
        "        # Maps the output of the LSTM into tag space.\n",
        "        self.classifier2 = nn.Linear(128, self.tagset_size)\n",
        "\n",
        "        self.crf=CRF(self.tagset_size,batch_first=True)\n",
        "\n",
        "    def forward(self,inputs_id,att_mask,token_type_ids,labels_ids):\n",
        "        bo=self.encode(inputs_id,att_mask,token_type_ids)[0]#B*L*768\n",
        "        # x=x.view(128, -1, 768)\n",
        "        x=self.classifier1(bo)\n",
        "        # x=x.view(128, hidden_dim)\n",
        "        sub=self.classifier2(x)\n",
        "        slogits=sub\n",
        "        soutput = (slogits,)\n",
        "\n",
        "        sloss = self.crf(emissions=slogits, tags=labels_ids.long(), mask=att_mask.byte())\n",
        "        soutputs = (-1 * sloss,) + soutput\n",
        "        return bo,soutputs  # (loss), scores"
      ],
      "metadata": {
        "id": "JUoapPG_kJDT"
      },
      "execution_count": 15,
      "outputs": []
    },
    {
      "cell_type": "code",
      "source": [
        "def same_seeds(seed):\n",
        "    # torch.manual_seed(seed)\n",
        "    if torch.cuda.is_available():\n",
        "        torch.cuda.manual_seed(seed)\n",
        "        torch.cuda.manual_seed_all(seed)\n",
        "    # np.random.seed(seed)\n",
        "    # random.seed(seed)\n",
        "    torch.backends.cudnn.benchmark = True\n",
        "    torch.backends.cudnn.deterministic = True\n",
        "same_seeds(0)"
      ],
      "metadata": {
        "id": "mV5qdPmVkiQA"
      },
      "execution_count": 16,
      "outputs": []
    },
    {
      "cell_type": "code",
      "source": [
        "device = 'cuda' if torch.cuda.is_available() else 'cpu'\n",
        "from torch.optim.lr_scheduler import LambdaLR\n",
        "def get_linear_schedule_with_warmup(optimizer, num_warmup_steps, num_training_steps, last_epoch=-1):\n",
        "    \"\"\" Create a schedule with a learning rate that decreases linearly after\n",
        "    linearly increasing during a warmup period.\n",
        "    \"\"\"\n",
        "    def lr_lambda(current_step):\n",
        "        if current_step < num_warmup_steps:\n",
        "            return float(current_step) / float(max(1, num_warmup_steps))\n",
        "        return max(0.0, float(num_training_steps - current_step) / float(max(1, num_training_steps - num_warmup_steps)))\n",
        "\n",
        "    return LambdaLR(optimizer, lr_lambda, last_epoch)\n"
      ],
      "metadata": {
        "id": "J71Uy-MMkobv"
      },
      "execution_count": 17,
      "outputs": []
    },
    {
      "cell_type": "code",
      "source": [
        "def train(eenet, train_dataset, val_set, num_epochs, learning_rate, batch_size):\n",
        "    i = 1\n",
        "    model_path = 'model'\n",
        "    train_loader = DataLoader(train_dataset, batch_size=batch_size, num_workers=2)\n",
        "    print('执行次数为：{}'.format(i))\n",
        "    t_total = len(train_loader) * num_epochs\n",
        "    # warmup_steps = int(t_total * warmup_proportion)\n",
        "    warmup_steps = 50\n",
        "    optimizer = AdamW(eenet.parameters(), lr=learning_rate)\n",
        "    scheduler = get_linear_schedule_with_warmup(optimizer, num_warmup_steps=warmup_steps,\n",
        "                                                num_training_steps=t_total)\n",
        "\n",
        "    eenet = eenet.to(device)\n",
        "\n",
        "    # tokens_batch[:rc_train_size], segments_batch[:rc_train_size], token_type_batch[:rc_train_size], labels_ids_batch[:rc_train_size], sub_batch_tags[:rc_train_size], obj_batch_tags[:rc_train_size]\n",
        "    for epoch in range(num_epochs):\n",
        "        eenet.train()\n",
        "        train_loss = 0.\n",
        "        step = 0\n",
        "        for batch_idx, data in enumerate(tqdm(train_loader)):\n",
        "            torch.autograd.set_detect_anomaly(True)\n",
        "\n",
        "            inputs_id, att_mask, token_type_ids, labels_ids = data\n",
        "            text, mask, token_type_ids, labels_ids = inputs_id.to(device), att_mask.to(device), token_type_ids.to(\n",
        "                device), labels_ids.to(device)\n",
        "            optimizer.zero_grad()\n",
        "            # ee _model识别实体----------------------------------------------\n",
        "            x, soutputs = eenet(text, mask, token_type_ids, labels_ids)\n",
        "            s_loss, slogits = soutputs[:2]\n",
        "            # 准备一个batch(batch_size=1)的训练数据\n",
        "            spre = eenet.crf.decode(slogits, mask.byte())\n",
        "            # ee_type model 识别实体类型-----------------------------------------------\n",
        "            t_loss = s_loss\n",
        "            t_loss.backward()\n",
        "            # all_loss.backward()\n",
        "            train_loss += t_loss.item()\n",
        "            optimizer.step()\n",
        "            scheduler.step()\n",
        "            step += 1\n",
        "\n",
        "            if step % 100 == 0:\n",
        "                print('\\n')\n",
        "                print('*' * 10)\n",
        "                print(\n",
        "                    'train_epoch|{},average_loss={}'.format(epoch + 1,  train_loss /(batch_size*step)))\n",
        "\n",
        "        torch.save(eenet.state_dict(), 'ee2' + model_path)\n",
        "\n",
        "        eenet.eval()\n",
        "        min_loss = 1\n",
        "        with torch.no_grad():\n",
        "            val_loss = 0.\n",
        "            val_step = 0\n",
        "            vaild_loader = DataLoader(val_set, batch_size=batch_size)\n",
        "            for batch_idx, data in enumerate(tqdm(vaild_loader)):\n",
        "\n",
        "                inputs_id, att_mask, token_type_ids, labels_ids = data\n",
        "                text, mask, token_type_ids, labels_ids = inputs_id.to(device), att_mask.to(device), token_type_ids.to(\n",
        "                    device), labels_ids.to(device)\n",
        "                # ee _model识别实体----------------------------------------------\n",
        "                x, soutputs = eenet(text, mask, token_type_ids, labels_ids)\n",
        "                s_loss, slogits = soutputs[:2]\n",
        "                # all_loss.backward()\n",
        "                val_loss += s_loss.item()\n",
        "\n",
        "                val_step += 1\n",
        "\n",
        "                if val_step % 100 == 0:\n",
        "                    print('\\n')\n",
        "                    print('-' * 10)\n",
        "                    print(\n",
        "                        'val_epoch|{},val_averge_loss={}'.format(epoch + 1, val_loss / (batch_size*val_step)))\n",
        "\n",
        "            if val_loss < min_loss:\n",
        "                min_loss = val_loss\n",
        "                print('save model')\n",
        "                torch.save(eenet.state_dict(), 'ee_best' + model_path)\n",
        "\n",
        "eenet=E2EModel()\n",
        "train(eenet,train_dataset, valid_dataset,20, 1e-5, 32)"
      ],
      "metadata": {
        "colab": {
          "base_uri": "https://localhost:8080/",
          "height": 1000
        },
        "id": "DyllDkaTkquQ",
        "outputId": "917fd32e-ad03-4835-c281-e55e2e51dcc2"
      },
      "execution_count": 22,
      "outputs": [
        {
          "output_type": "stream",
          "name": "stderr",
          "text": [
            "Some weights of the model checkpoint at bert-base-chinese were not used when initializing BertModel: ['cls.seq_relationship.weight', 'cls.predictions.bias', 'cls.predictions.transform.dense.weight', 'cls.predictions.decoder.weight', 'cls.seq_relationship.bias', 'cls.predictions.transform.LayerNorm.bias', 'cls.predictions.transform.dense.bias', 'cls.predictions.transform.LayerNorm.weight']\n",
            "- This IS expected if you are initializing BertModel from the checkpoint of a model trained on another task or with another architecture (e.g. initializing a BertForSequenceClassification model from a BertForPreTraining model).\n",
            "- This IS NOT expected if you are initializing BertModel from the checkpoint of a model that you expect to be exactly identical (initializing a BertForSequenceClassification model from a BertForSequenceClassification model).\n",
            "/usr/local/lib/python3.7/dist-packages/transformers/optimization.py:309: FutureWarning: This implementation of AdamW is deprecated and will be removed in a future version. Use the PyTorch implementation torch.optim.AdamW instead, or set `no_deprecation_warning=True` to disable this warning\n",
            "  FutureWarning,\n"
          ]
        },
        {
          "output_type": "stream",
          "name": "stdout",
          "text": [
            "执行次数为：1\n"
          ]
        },
        {
          "output_type": "stream",
          "name": "stderr",
          "text": [
            " 30%|██▉       | 100/336 [02:48<06:35,  1.68s/it]"
          ]
        },
        {
          "output_type": "stream",
          "name": "stdout",
          "text": [
            "\n",
            "\n",
            "**********\n",
            "train_epoch|1,average_loss=58.130461349487305\n"
          ]
        },
        {
          "output_type": "stream",
          "name": "stderr",
          "text": [
            " 60%|█████▉    | 200/336 [05:37<03:49,  1.68s/it]"
          ]
        },
        {
          "output_type": "stream",
          "name": "stdout",
          "text": [
            "\n",
            "\n",
            "**********\n",
            "train_epoch|1,average_loss=39.80197557449341\n"
          ]
        },
        {
          "output_type": "stream",
          "name": "stderr",
          "text": [
            " 89%|████████▉ | 300/336 [08:25<01:00,  1.67s/it]"
          ]
        },
        {
          "output_type": "stream",
          "name": "stdout",
          "text": [
            "\n",
            "\n",
            "**********\n",
            "train_epoch|1,average_loss=30.95521881421407\n"
          ]
        },
        {
          "output_type": "stream",
          "name": "stderr",
          "text": [
            "100%|██████████| 336/336 [09:26<00:00,  1.69s/it]\n",
            "100%|██████████| 27/27 [00:06<00:00,  4.21it/s]\n",
            " 30%|██▉       | 100/336 [02:49<06:42,  1.70s/it]"
          ]
        },
        {
          "output_type": "stream",
          "name": "stdout",
          "text": [
            "\n",
            "\n",
            "**********\n",
            "train_epoch|2,average_loss=9.69733693599701\n"
          ]
        },
        {
          "output_type": "stream",
          "name": "stderr",
          "text": [
            " 60%|█████▉    | 200/336 [05:38<03:49,  1.68s/it]"
          ]
        },
        {
          "output_type": "stream",
          "name": "stdout",
          "text": [
            "\n",
            "\n",
            "**********\n",
            "train_epoch|2,average_loss=9.164098937511444\n"
          ]
        },
        {
          "output_type": "stream",
          "name": "stderr",
          "text": [
            " 89%|████████▉ | 300/336 [08:27<00:59,  1.66s/it]"
          ]
        },
        {
          "output_type": "stream",
          "name": "stdout",
          "text": [
            "\n",
            "\n",
            "**********\n",
            "train_epoch|2,average_loss=8.583388728300731\n"
          ]
        },
        {
          "output_type": "stream",
          "name": "stderr",
          "text": [
            "100%|██████████| 336/336 [09:28<00:00,  1.69s/it]\n",
            "100%|██████████| 27/27 [00:06<00:00,  4.23it/s]\n",
            " 30%|██▉       | 100/336 [02:49<06:36,  1.68s/it]"
          ]
        },
        {
          "output_type": "stream",
          "name": "stdout",
          "text": [
            "\n",
            "\n",
            "**********\n",
            "train_epoch|3,average_loss=6.843464889526367\n"
          ]
        },
        {
          "output_type": "stream",
          "name": "stderr",
          "text": [
            " 60%|█████▉    | 200/336 [05:38<03:56,  1.74s/it]"
          ]
        },
        {
          "output_type": "stream",
          "name": "stdout",
          "text": [
            "\n",
            "\n",
            "**********\n",
            "train_epoch|3,average_loss=6.687037572860718\n"
          ]
        },
        {
          "output_type": "stream",
          "name": "stderr",
          "text": [
            " 89%|████████▉ | 300/336 [08:26<01:00,  1.67s/it]"
          ]
        },
        {
          "output_type": "stream",
          "name": "stdout",
          "text": [
            "\n",
            "\n",
            "**********\n",
            "train_epoch|3,average_loss=6.416750960350036\n"
          ]
        },
        {
          "output_type": "stream",
          "name": "stderr",
          "text": [
            "100%|██████████| 336/336 [09:26<00:00,  1.69s/it]\n",
            "100%|██████████| 27/27 [00:06<00:00,  4.20it/s]\n",
            " 30%|██▉       | 100/336 [02:48<06:38,  1.69s/it]"
          ]
        },
        {
          "output_type": "stream",
          "name": "stdout",
          "text": [
            "\n",
            "\n",
            "**********\n",
            "train_epoch|4,average_loss=5.572550456523896\n"
          ]
        },
        {
          "output_type": "stream",
          "name": "stderr",
          "text": [
            " 60%|█████▉    | 200/336 [05:37<03:48,  1.68s/it]"
          ]
        },
        {
          "output_type": "stream",
          "name": "stdout",
          "text": [
            "\n",
            "\n",
            "**********\n",
            "train_epoch|4,average_loss=5.492569981813431\n"
          ]
        },
        {
          "output_type": "stream",
          "name": "stderr",
          "text": [
            " 89%|████████▉ | 300/336 [08:26<01:00,  1.67s/it]"
          ]
        },
        {
          "output_type": "stream",
          "name": "stdout",
          "text": [
            "\n",
            "\n",
            "**********\n",
            "train_epoch|4,average_loss=5.306122080485026\n"
          ]
        },
        {
          "output_type": "stream",
          "name": "stderr",
          "text": [
            "100%|██████████| 336/336 [09:27<00:00,  1.69s/it]\n",
            "100%|██████████| 27/27 [00:06<00:00,  3.99it/s]\n",
            " 30%|██▉       | 100/336 [02:49<06:50,  1.74s/it]"
          ]
        },
        {
          "output_type": "stream",
          "name": "stdout",
          "text": [
            "\n",
            "\n",
            "**********\n",
            "train_epoch|5,average_loss=4.754248151779175\n"
          ]
        },
        {
          "output_type": "stream",
          "name": "stderr",
          "text": [
            " 60%|█████▉    | 200/336 [05:38<03:52,  1.71s/it]"
          ]
        },
        {
          "output_type": "stream",
          "name": "stdout",
          "text": [
            "\n",
            "\n",
            "**********\n",
            "train_epoch|5,average_loss=4.682039009332657\n"
          ]
        },
        {
          "output_type": "stream",
          "name": "stderr",
          "text": [
            " 89%|████████▉ | 300/336 [08:28<01:00,  1.68s/it]"
          ]
        },
        {
          "output_type": "stream",
          "name": "stdout",
          "text": [
            "\n",
            "\n",
            "**********\n",
            "train_epoch|5,average_loss=4.518847116629282\n"
          ]
        },
        {
          "output_type": "stream",
          "name": "stderr",
          "text": [
            "100%|██████████| 336/336 [09:29<00:00,  1.69s/it]\n",
            "100%|██████████| 27/27 [00:06<00:00,  3.99it/s]\n",
            " 30%|██▉       | 100/336 [02:49<06:39,  1.69s/it]"
          ]
        },
        {
          "output_type": "stream",
          "name": "stdout",
          "text": [
            "\n",
            "\n",
            "**********\n",
            "train_epoch|6,average_loss=4.207011156082153\n"
          ]
        },
        {
          "output_type": "stream",
          "name": "stderr",
          "text": [
            " 60%|█████▉    | 200/336 [05:39<03:50,  1.69s/it]"
          ]
        },
        {
          "output_type": "stream",
          "name": "stdout",
          "text": [
            "\n",
            "\n",
            "**********\n",
            "train_epoch|6,average_loss=4.10266646027565\n"
          ]
        },
        {
          "output_type": "stream",
          "name": "stderr",
          "text": [
            " 89%|████████▉ | 300/336 [08:28<01:01,  1.71s/it]"
          ]
        },
        {
          "output_type": "stream",
          "name": "stdout",
          "text": [
            "\n",
            "\n",
            "**********\n",
            "train_epoch|6,average_loss=3.9433957159519197\n"
          ]
        },
        {
          "output_type": "stream",
          "name": "stderr",
          "text": [
            "100%|██████████| 336/336 [09:30<00:00,  1.70s/it]\n",
            "100%|██████████| 27/27 [00:06<00:00,  3.99it/s]\n",
            " 30%|██▉       | 100/336 [02:49<06:37,  1.68s/it]"
          ]
        },
        {
          "output_type": "stream",
          "name": "stdout",
          "text": [
            "\n",
            "\n",
            "**********\n",
            "train_epoch|7,average_loss=3.693643810749054\n"
          ]
        },
        {
          "output_type": "stream",
          "name": "stderr",
          "text": [
            " 60%|█████▉    | 200/336 [05:39<03:49,  1.69s/it]"
          ]
        },
        {
          "output_type": "stream",
          "name": "stdout",
          "text": [
            "\n",
            "\n",
            "**********\n",
            "train_epoch|7,average_loss=3.5966575217247008\n"
          ]
        },
        {
          "output_type": "stream",
          "name": "stderr",
          "text": [
            " 89%|████████▉ | 300/336 [08:28<01:02,  1.74s/it]"
          ]
        },
        {
          "output_type": "stream",
          "name": "stdout",
          "text": [
            "\n",
            "\n",
            "**********\n",
            "train_epoch|7,average_loss=3.4570091744263967\n"
          ]
        },
        {
          "output_type": "stream",
          "name": "stderr",
          "text": [
            "100%|██████████| 336/336 [09:29<00:00,  1.70s/it]\n",
            "100%|██████████| 27/27 [00:06<00:00,  4.00it/s]\n",
            " 30%|██▉       | 100/336 [02:49<06:38,  1.69s/it]"
          ]
        },
        {
          "output_type": "stream",
          "name": "stdout",
          "text": [
            "\n",
            "\n",
            "**********\n",
            "train_epoch|8,average_loss=3.2743906712532045\n"
          ]
        },
        {
          "output_type": "stream",
          "name": "stderr",
          "text": [
            " 60%|█████▉    | 200/336 [05:38<03:54,  1.72s/it]"
          ]
        },
        {
          "output_type": "stream",
          "name": "stdout",
          "text": [
            "\n",
            "\n",
            "**********\n",
            "train_epoch|8,average_loss=3.206157926917076\n"
          ]
        },
        {
          "output_type": "stream",
          "name": "stderr",
          "text": [
            " 89%|████████▉ | 300/336 [08:28<01:00,  1.68s/it]"
          ]
        },
        {
          "output_type": "stream",
          "name": "stdout",
          "text": [
            "\n",
            "\n",
            "**********\n",
            "train_epoch|8,average_loss=3.061591362953186\n"
          ]
        },
        {
          "output_type": "stream",
          "name": "stderr",
          "text": [
            "100%|██████████| 336/336 [09:28<00:00,  1.69s/it]\n",
            "100%|██████████| 27/27 [00:06<00:00,  4.01it/s]\n",
            " 30%|██▉       | 100/336 [02:49<06:36,  1.68s/it]"
          ]
        },
        {
          "output_type": "stream",
          "name": "stdout",
          "text": [
            "\n",
            "\n",
            "**********\n",
            "train_epoch|9,average_loss=2.978748859167099\n"
          ]
        },
        {
          "output_type": "stream",
          "name": "stderr",
          "text": [
            " 60%|█████▉    | 200/336 [05:39<03:48,  1.68s/it]"
          ]
        },
        {
          "output_type": "stream",
          "name": "stdout",
          "text": [
            "\n",
            "\n",
            "**********\n",
            "train_epoch|9,average_loss=2.8603312373161316\n"
          ]
        },
        {
          "output_type": "stream",
          "name": "stderr",
          "text": [
            " 89%|████████▉ | 300/336 [08:28<01:00,  1.69s/it]"
          ]
        },
        {
          "output_type": "stream",
          "name": "stdout",
          "text": [
            "\n",
            "\n",
            "**********\n",
            "train_epoch|9,average_loss=2.731859248081843\n"
          ]
        },
        {
          "output_type": "stream",
          "name": "stderr",
          "text": [
            "100%|██████████| 336/336 [09:29<00:00,  1.70s/it]\n",
            "100%|██████████| 27/27 [00:06<00:00,  4.00it/s]\n",
            " 30%|██▉       | 100/336 [02:49<06:39,  1.69s/it]"
          ]
        },
        {
          "output_type": "stream",
          "name": "stdout",
          "text": [
            "\n",
            "\n",
            "**********\n",
            "train_epoch|10,average_loss=2.6229579532146454\n"
          ]
        },
        {
          "output_type": "stream",
          "name": "stderr",
          "text": [
            " 60%|█████▉    | 200/336 [05:38<03:48,  1.68s/it]"
          ]
        },
        {
          "output_type": "stream",
          "name": "stdout",
          "text": [
            "\n",
            "\n",
            "**********\n",
            "train_epoch|10,average_loss=2.5364594638347624\n"
          ]
        },
        {
          "output_type": "stream",
          "name": "stderr",
          "text": [
            " 89%|████████▉ | 300/336 [08:27<01:01,  1.70s/it]"
          ]
        },
        {
          "output_type": "stream",
          "name": "stdout",
          "text": [
            "\n",
            "\n",
            "**********\n",
            "train_epoch|10,average_loss=2.4291844590504965\n"
          ]
        },
        {
          "output_type": "stream",
          "name": "stderr",
          "text": [
            "100%|██████████| 336/336 [09:28<00:00,  1.69s/it]\n",
            "100%|██████████| 27/27 [00:06<00:00,  3.99it/s]\n",
            " 30%|██▉       | 100/336 [02:50<06:46,  1.72s/it]"
          ]
        },
        {
          "output_type": "stream",
          "name": "stdout",
          "text": [
            "\n",
            "\n",
            "**********\n",
            "train_epoch|11,average_loss=2.3757664799690246\n"
          ]
        },
        {
          "output_type": "stream",
          "name": "stderr",
          "text": [
            " 60%|█████▉    | 200/336 [05:40<03:53,  1.72s/it]"
          ]
        },
        {
          "output_type": "stream",
          "name": "stdout",
          "text": [
            "\n",
            "\n",
            "**********\n",
            "train_epoch|11,average_loss=2.327839229106903\n"
          ]
        },
        {
          "output_type": "stream",
          "name": "stderr",
          "text": [
            " 89%|████████▉ | 300/336 [08:31<01:01,  1.71s/it]"
          ]
        },
        {
          "output_type": "stream",
          "name": "stdout",
          "text": [
            "\n",
            "\n",
            "**********\n",
            "train_epoch|11,average_loss=2.1994695778687796\n"
          ]
        },
        {
          "output_type": "stream",
          "name": "stderr",
          "text": [
            "100%|██████████| 336/336 [09:33<00:00,  1.71s/it]\n",
            "100%|██████████| 27/27 [00:06<00:00,  3.96it/s]\n",
            " 30%|██▉       | 100/336 [02:49<06:35,  1.68s/it]"
          ]
        },
        {
          "output_type": "stream",
          "name": "stdout",
          "text": [
            "\n",
            "\n",
            "**********\n",
            "train_epoch|12,average_loss=2.1650555777549743\n"
          ]
        },
        {
          "output_type": "stream",
          "name": "stderr",
          "text": [
            " 60%|█████▉    | 200/336 [05:39<03:49,  1.69s/it]"
          ]
        },
        {
          "output_type": "stream",
          "name": "stdout",
          "text": [
            "\n",
            "\n",
            "**********\n",
            "train_epoch|12,average_loss=2.074055982232094\n"
          ]
        },
        {
          "output_type": "stream",
          "name": "stderr",
          "text": [
            " 89%|████████▉ | 300/336 [08:29<01:02,  1.73s/it]"
          ]
        },
        {
          "output_type": "stream",
          "name": "stdout",
          "text": [
            "\n",
            "\n",
            "**********\n",
            "train_epoch|12,average_loss=1.9762180825074513\n"
          ]
        },
        {
          "output_type": "stream",
          "name": "stderr",
          "text": [
            "100%|██████████| 336/336 [09:31<00:00,  1.70s/it]\n",
            "100%|██████████| 27/27 [00:06<00:00,  3.99it/s]\n",
            " 30%|██▉       | 100/336 [02:50<06:37,  1.68s/it]"
          ]
        },
        {
          "output_type": "stream",
          "name": "stdout",
          "text": [
            "\n",
            "\n",
            "**********\n",
            "train_epoch|13,average_loss=2.0072878193855286\n"
          ]
        },
        {
          "output_type": "stream",
          "name": "stderr",
          "text": [
            " 60%|█████▉    | 200/336 [05:40<03:50,  1.69s/it]"
          ]
        },
        {
          "output_type": "stream",
          "name": "stdout",
          "text": [
            "\n",
            "\n",
            "**********\n",
            "train_epoch|13,average_loss=1.9491668635606765\n"
          ]
        },
        {
          "output_type": "stream",
          "name": "stderr",
          "text": [
            " 89%|████████▉ | 300/336 [08:30<01:00,  1.68s/it]"
          ]
        },
        {
          "output_type": "stream",
          "name": "stdout",
          "text": [
            "\n",
            "\n",
            "**********\n",
            "train_epoch|13,average_loss=1.8174493972460428\n"
          ]
        },
        {
          "output_type": "stream",
          "name": "stderr",
          "text": [
            "100%|██████████| 336/336 [09:32<00:00,  1.70s/it]\n",
            "100%|██████████| 27/27 [00:06<00:00,  4.04it/s]\n",
            " 30%|██▉       | 100/336 [02:50<06:37,  1.68s/it]"
          ]
        },
        {
          "output_type": "stream",
          "name": "stdout",
          "text": [
            "\n",
            "\n",
            "**********\n",
            "train_epoch|14,average_loss=1.7974305868148803\n"
          ]
        },
        {
          "output_type": "stream",
          "name": "stderr",
          "text": [
            " 60%|█████▉    | 200/336 [05:40<03:53,  1.72s/it]"
          ]
        },
        {
          "output_type": "stream",
          "name": "stdout",
          "text": [
            "\n",
            "\n",
            "**********\n",
            "train_epoch|14,average_loss=1.7723235648870468\n"
          ]
        },
        {
          "output_type": "stream",
          "name": "stderr",
          "text": [
            " 89%|████████▉ | 300/336 [08:30<01:00,  1.68s/it]"
          ]
        },
        {
          "output_type": "stream",
          "name": "stdout",
          "text": [
            "\n",
            "\n",
            "**********\n",
            "train_epoch|14,average_loss=1.6715702950954436\n"
          ]
        },
        {
          "output_type": "stream",
          "name": "stderr",
          "text": [
            "100%|██████████| 336/336 [09:31<00:00,  1.70s/it]\n",
            "100%|██████████| 27/27 [00:06<00:00,  4.20it/s]\n",
            " 30%|██▉       | 100/336 [02:49<06:39,  1.69s/it]"
          ]
        },
        {
          "output_type": "stream",
          "name": "stdout",
          "text": [
            "\n",
            "\n",
            "**********\n",
            "train_epoch|15,average_loss=1.6449739694595338\n"
          ]
        },
        {
          "output_type": "stream",
          "name": "stderr",
          "text": [
            " 60%|█████▉    | 200/336 [05:38<03:55,  1.73s/it]"
          ]
        },
        {
          "output_type": "stream",
          "name": "stdout",
          "text": [
            "\n",
            "\n",
            "**********\n",
            "train_epoch|15,average_loss=1.6178591203689576\n"
          ]
        },
        {
          "output_type": "stream",
          "name": "stderr",
          "text": [
            " 89%|████████▉ | 300/336 [08:27<00:59,  1.66s/it]"
          ]
        },
        {
          "output_type": "stream",
          "name": "stdout",
          "text": [
            "\n",
            "\n",
            "**********\n",
            "train_epoch|15,average_loss=1.5289241806666056\n"
          ]
        },
        {
          "output_type": "stream",
          "name": "stderr",
          "text": [
            "100%|██████████| 336/336 [09:28<00:00,  1.69s/it]\n",
            "100%|██████████| 27/27 [00:06<00:00,  4.13it/s]\n",
            " 30%|██▉       | 100/336 [02:49<06:36,  1.68s/it]"
          ]
        },
        {
          "output_type": "stream",
          "name": "stdout",
          "text": [
            "\n",
            "\n",
            "**********\n",
            "train_epoch|16,average_loss=1.5116298770904542\n"
          ]
        },
        {
          "output_type": "stream",
          "name": "stderr",
          "text": [
            " 60%|█████▉    | 200/336 [05:38<03:46,  1.67s/it]"
          ]
        },
        {
          "output_type": "stream",
          "name": "stdout",
          "text": [
            "\n",
            "\n",
            "**********\n",
            "train_epoch|16,average_loss=1.5201425313949586\n"
          ]
        },
        {
          "output_type": "stream",
          "name": "stderr",
          "text": [
            " 89%|████████▉ | 300/336 [08:26<01:00,  1.68s/it]"
          ]
        },
        {
          "output_type": "stream",
          "name": "stdout",
          "text": [
            "\n",
            "\n",
            "**********\n",
            "train_epoch|16,average_loss=1.4350100107987722\n"
          ]
        },
        {
          "output_type": "stream",
          "name": "stderr",
          "text": [
            "100%|██████████| 336/336 [09:27<00:00,  1.69s/it]\n",
            "100%|██████████| 27/27 [00:06<00:00,  4.20it/s]\n",
            " 30%|██▉       | 100/336 [02:48<06:44,  1.71s/it]"
          ]
        },
        {
          "output_type": "stream",
          "name": "stdout",
          "text": [
            "\n",
            "\n",
            "**********\n",
            "train_epoch|17,average_loss=1.4627880716323853\n"
          ]
        },
        {
          "output_type": "stream",
          "name": "stderr",
          "text": [
            " 60%|█████▉    | 200/336 [05:36<03:47,  1.67s/it]"
          ]
        },
        {
          "output_type": "stream",
          "name": "stdout",
          "text": [
            "\n",
            "\n",
            "**********\n",
            "train_epoch|17,average_loss=1.4519072216749191\n"
          ]
        },
        {
          "output_type": "stream",
          "name": "stderr",
          "text": [
            " 89%|████████▉ | 300/336 [08:25<01:00,  1.69s/it]"
          ]
        },
        {
          "output_type": "stream",
          "name": "stdout",
          "text": [
            "\n",
            "\n",
            "**********\n",
            "train_epoch|17,average_loss=1.3558174693584442\n"
          ]
        },
        {
          "output_type": "stream",
          "name": "stderr",
          "text": [
            "100%|██████████| 336/336 [09:26<00:00,  1.69s/it]\n",
            "100%|██████████| 27/27 [00:06<00:00,  3.97it/s]\n",
            " 30%|██▉       | 100/336 [02:50<06:40,  1.70s/it]"
          ]
        },
        {
          "output_type": "stream",
          "name": "stdout",
          "text": [
            "\n",
            "\n",
            "**********\n",
            "train_epoch|18,average_loss=1.3877946770191192\n"
          ]
        },
        {
          "output_type": "stream",
          "name": "stderr",
          "text": [
            " 57%|█████▋    | 191/336 [05:26<04:07,  1.71s/it]\n"
          ]
        },
        {
          "output_type": "error",
          "ename": "KeyboardInterrupt",
          "evalue": "ignored",
          "traceback": [
            "\u001b[0;31m---------------------------------------------------------------------------\u001b[0m",
            "\u001b[0;31mKeyboardInterrupt\u001b[0m                         Traceback (most recent call last)",
            "\u001b[0;32m<ipython-input-22-12fce1acbddd>\u001b[0m in \u001b[0;36m<module>\u001b[0;34m()\u001b[0m\n\u001b[1;32m     78\u001b[0m \u001b[0;34m\u001b[0m\u001b[0m\n\u001b[1;32m     79\u001b[0m \u001b[0meenet\u001b[0m\u001b[0;34m=\u001b[0m\u001b[0mE2EModel\u001b[0m\u001b[0;34m(\u001b[0m\u001b[0;34m)\u001b[0m\u001b[0;34m\u001b[0m\u001b[0;34m\u001b[0m\u001b[0m\n\u001b[0;32m---> 80\u001b[0;31m \u001b[0mtrain\u001b[0m\u001b[0;34m(\u001b[0m\u001b[0meenet\u001b[0m\u001b[0;34m,\u001b[0m\u001b[0mtrain_dataset\u001b[0m\u001b[0;34m,\u001b[0m \u001b[0mvalid_dataset\u001b[0m\u001b[0;34m,\u001b[0m\u001b[0;36m20\u001b[0m\u001b[0;34m,\u001b[0m \u001b[0;36m1e-5\u001b[0m\u001b[0;34m,\u001b[0m \u001b[0;36m32\u001b[0m\u001b[0;34m)\u001b[0m\u001b[0;34m\u001b[0m\u001b[0;34m\u001b[0m\u001b[0m\n\u001b[0m",
            "\u001b[0;32m<ipython-input-22-12fce1acbddd>\u001b[0m in \u001b[0;36mtrain\u001b[0;34m(eenet, train_dataset, val_set, num_epochs, learning_rate, batch_size)\u001b[0m\n\u001b[1;32m     32\u001b[0m             \u001b[0;31m# ee_type model 识别实体类型-----------------------------------------------\u001b[0m\u001b[0;34m\u001b[0m\u001b[0;34m\u001b[0m\u001b[0;34m\u001b[0m\u001b[0m\n\u001b[1;32m     33\u001b[0m             \u001b[0mt_loss\u001b[0m \u001b[0;34m=\u001b[0m \u001b[0ms_loss\u001b[0m\u001b[0;34m\u001b[0m\u001b[0;34m\u001b[0m\u001b[0m\n\u001b[0;32m---> 34\u001b[0;31m             \u001b[0mt_loss\u001b[0m\u001b[0;34m.\u001b[0m\u001b[0mbackward\u001b[0m\u001b[0;34m(\u001b[0m\u001b[0;34m)\u001b[0m\u001b[0;34m\u001b[0m\u001b[0;34m\u001b[0m\u001b[0m\n\u001b[0m\u001b[1;32m     35\u001b[0m             \u001b[0;31m# all_loss.backward()\u001b[0m\u001b[0;34m\u001b[0m\u001b[0;34m\u001b[0m\u001b[0;34m\u001b[0m\u001b[0m\n\u001b[1;32m     36\u001b[0m             \u001b[0mtrain_loss\u001b[0m \u001b[0;34m+=\u001b[0m \u001b[0mt_loss\u001b[0m\u001b[0;34m.\u001b[0m\u001b[0mitem\u001b[0m\u001b[0;34m(\u001b[0m\u001b[0;34m)\u001b[0m\u001b[0;34m\u001b[0m\u001b[0;34m\u001b[0m\u001b[0m\n",
            "\u001b[0;32m/usr/local/lib/python3.7/dist-packages/torch/_tensor.py\u001b[0m in \u001b[0;36mbackward\u001b[0;34m(self, gradient, retain_graph, create_graph, inputs)\u001b[0m\n\u001b[1;32m    305\u001b[0m                 \u001b[0mcreate_graph\u001b[0m\u001b[0;34m=\u001b[0m\u001b[0mcreate_graph\u001b[0m\u001b[0;34m,\u001b[0m\u001b[0;34m\u001b[0m\u001b[0;34m\u001b[0m\u001b[0m\n\u001b[1;32m    306\u001b[0m                 inputs=inputs)\n\u001b[0;32m--> 307\u001b[0;31m         \u001b[0mtorch\u001b[0m\u001b[0;34m.\u001b[0m\u001b[0mautograd\u001b[0m\u001b[0;34m.\u001b[0m\u001b[0mbackward\u001b[0m\u001b[0;34m(\u001b[0m\u001b[0mself\u001b[0m\u001b[0;34m,\u001b[0m \u001b[0mgradient\u001b[0m\u001b[0;34m,\u001b[0m \u001b[0mretain_graph\u001b[0m\u001b[0;34m,\u001b[0m \u001b[0mcreate_graph\u001b[0m\u001b[0;34m,\u001b[0m \u001b[0minputs\u001b[0m\u001b[0;34m=\u001b[0m\u001b[0minputs\u001b[0m\u001b[0;34m)\u001b[0m\u001b[0;34m\u001b[0m\u001b[0;34m\u001b[0m\u001b[0m\n\u001b[0m\u001b[1;32m    308\u001b[0m \u001b[0;34m\u001b[0m\u001b[0m\n\u001b[1;32m    309\u001b[0m     \u001b[0;32mdef\u001b[0m \u001b[0mregister_hook\u001b[0m\u001b[0;34m(\u001b[0m\u001b[0mself\u001b[0m\u001b[0;34m,\u001b[0m \u001b[0mhook\u001b[0m\u001b[0;34m)\u001b[0m\u001b[0;34m:\u001b[0m\u001b[0;34m\u001b[0m\u001b[0;34m\u001b[0m\u001b[0m\n",
            "\u001b[0;32m/usr/local/lib/python3.7/dist-packages/torch/autograd/__init__.py\u001b[0m in \u001b[0;36mbackward\u001b[0;34m(tensors, grad_tensors, retain_graph, create_graph, grad_variables, inputs)\u001b[0m\n\u001b[1;32m    154\u001b[0m     Variable._execution_engine.run_backward(\n\u001b[1;32m    155\u001b[0m         \u001b[0mtensors\u001b[0m\u001b[0;34m,\u001b[0m \u001b[0mgrad_tensors_\u001b[0m\u001b[0;34m,\u001b[0m \u001b[0mretain_graph\u001b[0m\u001b[0;34m,\u001b[0m \u001b[0mcreate_graph\u001b[0m\u001b[0;34m,\u001b[0m \u001b[0minputs\u001b[0m\u001b[0;34m,\u001b[0m\u001b[0;34m\u001b[0m\u001b[0;34m\u001b[0m\u001b[0m\n\u001b[0;32m--> 156\u001b[0;31m         allow_unreachable=True, accumulate_grad=True)  # allow_unreachable flag\n\u001b[0m\u001b[1;32m    157\u001b[0m \u001b[0;34m\u001b[0m\u001b[0m\n\u001b[1;32m    158\u001b[0m \u001b[0;34m\u001b[0m\u001b[0m\n",
            "\u001b[0;31mKeyboardInterrupt\u001b[0m: "
          ]
        }
      ]
    },
    {
      "cell_type": "code",
      "source": [
        "#test-------------------------------\n",
        "eenet=E2EModel()\n",
        "model_path='model'\n",
        "eenet.load_state_dict(torch.load('ee2' + model_path))\n",
        "id2label={k:v for v,k in entity2id.items()}\n"
      ],
      "metadata": {
        "colab": {
          "base_uri": "https://localhost:8080/"
        },
        "id": "1RGrkunikzzP",
        "outputId": "48632778-cb1a-43e1-a91e-b4940c8c6a41"
      },
      "execution_count": 23,
      "outputs": [
        {
          "output_type": "stream",
          "name": "stderr",
          "text": [
            "Some weights of the model checkpoint at bert-base-chinese were not used when initializing BertModel: ['cls.seq_relationship.weight', 'cls.predictions.bias', 'cls.predictions.transform.dense.weight', 'cls.predictions.decoder.weight', 'cls.seq_relationship.bias', 'cls.predictions.transform.LayerNorm.bias', 'cls.predictions.transform.dense.bias', 'cls.predictions.transform.LayerNorm.weight']\n",
            "- This IS expected if you are initializing BertModel from the checkpoint of a model trained on another task or with another architecture (e.g. initializing a BertForSequenceClassification model from a BertForPreTraining model).\n",
            "- This IS NOT expected if you are initializing BertModel from the checkpoint of a model that you expect to be exactly identical (initializing a BertForSequenceClassification model from a BertForSequenceClassification model).\n"
          ]
        }
      ]
    },
    {
      "cell_type": "code",
      "source": [
        "def extrac_triple(text, pre_):  # 抽取一个triple\n",
        "\n",
        "    subjects = []\n",
        "    labels=[]\n",
        "    for i in range(len(text)):\n",
        "        sj = text[i]\n",
        "\n",
        "        if  '##' in sj:\n",
        "            sj = subjects[-1]+sj.lstrip(\"##\")\n",
        "            subjects[-1]=sj\n",
        "        else:\n",
        "            lb = pre_[i]\n",
        "            labels.append(id2label[lb])\n",
        "            subjects.append(sj)\n",
        "\n",
        "    # print(subjects,labels)\n",
        "    # print(len(subjects))\n",
        "    # print(len(labels))\n",
        "    return subjects,labels\n",
        "\n",
        "def get_entity_bio(seq,id2label):\n",
        "    \"\"\"Gets entities from sequence.\n",
        "    note: BIO\n",
        "    Args:\n",
        "        seq (list): sequence of labels.\n",
        "    Returns:\n",
        "        list: list of (chunk_type, chunk_start, chunk_end).\n",
        "    Example:\n",
        "        seq = ['B-PER', 'I-PER', 'O', 'B-LOC']\n",
        "        get_entity_bio(seq)\n",
        "        #output\n",
        "        [['PER', 0,1], ['LOC', 3, 3]]\n",
        "    \"\"\"\n",
        "    chunks = []\n",
        "    chunk = [-1, -1, -1]\n",
        "    for indx, tag in enumerate(seq):\n",
        "        if not isinstance(tag, str):\n",
        "            tag = id2label[tag]\n",
        "        if tag.startswith(\"B-\"):\n",
        "            if chunk[2] != -1:\n",
        "                chunks.append(chunk)\n",
        "            chunk = [-1, -1, -1]\n",
        "            chunk[1] = indx\n",
        "            chunk[0] = tag.split('-')[1]\n",
        "            chunk[2] = indx\n",
        "            if indx == len(seq) - 1:\n",
        "                chunks.append(chunk)\n",
        "        elif tag.startswith('I-') and chunk[1] != -1:\n",
        "            _type = tag.split('-')[1]\n",
        "            if _type == chunk[0]:\n",
        "                chunk[2] = indx\n",
        "\n",
        "            if indx == len(seq) - 1:\n",
        "                chunks.append(chunk)\n",
        "        else:\n",
        "            if chunk[2] != -1:\n",
        "                chunks.append(chunk)\n",
        "            chunk = [-1, -1, -1]\n",
        "    return chunks"
      ],
      "metadata": {
        "id": "SkzGQJ48k4ei"
      },
      "execution_count": 24,
      "outputs": []
    },
    {
      "cell_type": "code",
      "source": [
        "f = open('实体标签输出.json', mode='w+', encoding='utf_8')\n",
        "results = []\n",
        "preds_total = []\n",
        "true_total = []\n",
        "def get_entity_bios(seq,id2label):\n",
        "    \"\"\"Gets entities from sequence.\n",
        "    note: BIOS\n",
        "    Args:\n",
        "        seq (list): sequence of labels.\n",
        "    Returns:\n",
        "        list: list of (chunk_type, chunk_start, chunk_end).\n",
        "    Example:\n",
        "        # >>> seq = ['B-PER', 'I-PER', 'O', 'S-LOC']\n",
        "        # >>> get_entity_bios(seq)\n",
        "        [['PER', 0,1], ['LOC', 3, 3]]\n",
        "    \"\"\"\n",
        "    chunks = []\n",
        "    chunk = [-1, -1, -1]\n",
        "    for indx, tag in enumerate(seq):\n",
        "        if not isinstance(tag, str):\n",
        "            tag = id2label[tag]\n",
        "        if tag.startswith(\"S-\"):\n",
        "            if chunk[2] != -1:\n",
        "                chunks.append(chunk)\n",
        "            chunk = [-1, -1, -1]\n",
        "            chunk[1] = indx\n",
        "            chunk[2] = indx\n",
        "            chunk[0] = tag.split('-')[1]\n",
        "            chunks.append(chunk)\n",
        "            chunk = (-1, -1, -1)\n",
        "        if tag.startswith(\"B-\"):\n",
        "            if chunk[2] != -1:\n",
        "                chunks.append(chunk)\n",
        "            chunk = [-1, -1, -1]\n",
        "            chunk[1] = indx\n",
        "            chunk[0] = tag.split('-')[1]\n",
        "        elif tag.startswith('I-') and chunk[1] != -1:\n",
        "            _type = tag.split('-')[1]\n",
        "            if _type == chunk[0]:\n",
        "                chunk[2] = indx\n",
        "            if indx == len(seq) - 1:\n",
        "                chunks.append(chunk)\n",
        "        else:\n",
        "            if chunk[2] != -1:\n",
        "                chunks.append(chunk)\n",
        "            chunk = [-1, -1, -1]\n",
        "    return chunks\n",
        "\n",
        "def get_entity_bio(seq,id2label):\n",
        "    \"\"\"Gets entities from sequence.\n",
        "    note: BIO\n",
        "    Args:\n",
        "        seq (list): sequence of labels.\n",
        "    Returns:\n",
        "        list: list of (chunk_type, chunk_start, chunk_end).\n",
        "    Example:\n",
        "        seq = ['B-PER', 'I-PER', 'O', 'B-LOC']\n",
        "        get_entity_bio(seq)\n",
        "        #output\n",
        "        [['PER', 0,1], ['LOC', 3, 3]]\n",
        "    \"\"\"\n",
        "    chunks = []\n",
        "    chunk = [-1, -1, -1]\n",
        "    for indx, tag in enumerate(seq):\n",
        "        if not isinstance(tag, str):\n",
        "            tag = id2label[tag]\n",
        "        if tag.startswith(\"B-\"):\n",
        "            if chunk[2] != -1:\n",
        "                chunks.append(chunk)\n",
        "            chunk = [-1, -1, -1]\n",
        "            chunk[1] = indx\n",
        "            chunk[0] = tag.split('-')[1]\n",
        "            chunk[2] = indx\n",
        "            if indx == len(seq) - 1:\n",
        "                chunks.append(chunk)\n",
        "        elif tag.startswith('I-') and chunk[1] != -1:\n",
        "            _type = tag.split('-')[1]\n",
        "            if _type == chunk[0]:\n",
        "                chunk[2] = indx\n",
        "\n",
        "            if indx == len(seq) - 1:\n",
        "                chunks.append(chunk)\n",
        "        else:\n",
        "            if chunk[2] != -1:\n",
        "                chunks.append(chunk)\n",
        "            chunk = [-1, -1, -1]\n",
        "    return chunks\n",
        "\n",
        "def get_entities(seq,id2label,markup='bios'):\n",
        "    '''\n",
        "    :param seq:\n",
        "    :param id2label:\n",
        "    :param markup:\n",
        "    :return:\n",
        "    '''\n",
        "    assert markup in ['bio','bios']\n",
        "    if markup =='bio':\n",
        "        return get_entity_bio(seq,id2label)\n",
        "    else:\n",
        "        return get_entity_bios(seq,id2label)\n",
        "class SeqEntityScore(object):\n",
        "    def __init__(self, id2label,markup='bios'):\n",
        "        self.id2label = id2label\n",
        "        self.markup = markup\n",
        "        self.reset()\n",
        "\n",
        "    def reset(self):\n",
        "        self.origins = []\n",
        "        self.founds = []\n",
        "        self.rights = []\n",
        "\n",
        "    def compute(self, origin, found, right):\n",
        "        recall = 0 if origin == 0 else (right / origin)\n",
        "        precision = 0 if found == 0 else (right / found)\n",
        "        f1 = 0. if recall + precision == 0 else (2 * precision * recall) / (precision + recall)\n",
        "        return recall, precision, f1\n",
        "\n",
        "    def result(self):\n",
        "        class_info = {}\n",
        "        origin_counter = Counter([x[0] for x in self.origins])\n",
        "        found_counter = Counter([x[0] for x in self.founds])\n",
        "        right_counter = Counter([x[0] for x in self.rights])\n",
        "        for type_, count in origin_counter.items():\n",
        "            origin = count\n",
        "            found = found_counter.get(type_, 0)\n",
        "            right = right_counter.get(type_, 0)\n",
        "            recall, precision, f1 = self.compute(origin, found, right)\n",
        "            class_info[type_] = {\"acc\": round(precision, 4), 'recall': round(recall, 4), 'f1': round(f1, 4)}\n",
        "        origin = len(self.origins)\n",
        "        found = len(self.founds)\n",
        "        right = len(self.rights)\n",
        "        recall, precision, f1 = self.compute(origin, found, right)\n",
        "        return {'acc': precision, 'recall': recall, 'f1': f1}, class_info\n",
        "\n",
        "    def update(self, label_paths, pred_paths):\n",
        "        '''\n",
        "        labels_paths: [[],[],[],....]\n",
        "        pred_paths: [[],[],[],.....]\n",
        "\n",
        "        :param label_paths:\n",
        "        :param pred_paths:\n",
        "        :return:\n",
        "        Example:\n",
        "            >>> labels_paths = [['O', 'O', 'O', 'B-MISC', 'I-MISC', 'I-MISC', 'O'], ['B-PER', 'I-PER', 'O']]\n",
        "            >>> pred_paths = [['O', 'O', 'B-MISC', 'I-MISC', 'I-MISC', 'I-MISC', 'O'], ['B-PER', 'I-PER', 'O']]\n",
        "        '''\n",
        "        for label_path, pre_path in zip(label_paths, pred_paths):\n",
        "            label_entities = get_entities(label_path, self.id2label,self.markup)\n",
        "            pre_entities = get_entities(pre_path, self.id2label,self.markup)\n",
        "            self.origins.extend(label_entities)\n",
        "            self.founds.extend(pre_entities)\n",
        "            self.rights.extend([pre_entity for pre_entity in pre_entities if pre_entity in label_entities])\n",
        "\n",
        "metric = SeqEntityScore(id2label, markup='bio')"
      ],
      "metadata": {
        "id": "71uYHFVglD3l"
      },
      "execution_count": 25,
      "outputs": []
    },
    {
      "cell_type": "code",
      "source": [
        "with torch.no_grad():\n",
        "    eenet.eval()\n",
        "    eenet.cpu()\n",
        "    eval_loss = 0.0\n",
        "    epoch = 0\n",
        "    nb_eval_steps = 0\n",
        "    dict_t = {}\n",
        "    test_loader = DataLoader(test_dataset, batch_size=1)\n",
        "    step = 0\n",
        "    acc = 0\n",
        "    total = 0\n",
        "\n",
        "    for batch_idx, data in enumerate(tqdm(test_loader)):\n",
        "        json_d = {}\n",
        "        json_d['id'] = batch_idx\n",
        "        inputs_id, att_mask, token_type_ids, labels_ids ,dlength = data\n",
        "\n",
        "        inputs = {\"input_ids\": data[0], \"attention_mask\": data[1], \"labels\": data[3]}\n",
        "        # ee _model识别实体----------------------------------------------\n",
        "        x, soutputs = eenet(inputs_id, att_mask, token_type_ids, labels_ids)\n",
        "        tmp_eval_loss, logits = soutputs[:2]\n",
        "        # obj_htar, obj_ttar = obj_htar.unsqueeze(-1), obj_ttar.unsqueeze(-1)\n",
        "        # total_loss.backward()\n",
        "        tags = eenet.crf.decode(logits, att_mask.byte())\n",
        "        eval_loss += tmp_eval_loss.item()\n",
        "        nb_eval_steps += 1\n",
        "        out_label_ids = inputs['labels'].cpu().numpy().tolist()\n",
        "\n",
        "        input_lens = [len(i) for i in tags]\n",
        "        # tags = tags.squeeze(0).cpu().numpy().tolist()\n",
        "        i = 0\n",
        "        label = labels_ids[i]\n",
        "        text = tokenizer.convert_ids_to_tokens(inputs_id[[i][0]])\n",
        "        text = text[1:dlength[i] - 1]\n",
        "        pre_ = torch.tensor(tags[i][1:dlength[i] - 1])\n",
        "        true_ = label[1:len(pre_) + 1]\n",
        "        acc += (pre_ == true_).sum().item()\n",
        "        pre_ = tags[i][1:dlength[i] - 1]\n",
        "        true_ = true_.numpy().tolist()\n",
        "        json_d['tag_seq'] = \" \".join([id2label[x] for x in pre_])\n",
        "        pre_label_entities = get_entity_bio(pre_, id2label)\n",
        "        true_label_entites = get_entity_bio(true_, id2label)\n",
        "        json_d['pre_entities'] = pre_label_entities\n",
        "        json_d['true_label_entites'] = true_label_entites\n",
        "        results.append(json_d)\n",
        "        preds_total.append(pre_)\n",
        "        true_total.append(true_)\n",
        "\n",
        "        total += len(pre_)\n",
        "        subjects, labels = extrac_triple(text, pre_)\n",
        "        for w, t in zip(subjects, labels):\n",
        "            f.write(f'{w} {t}\\n')\n",
        "        f.write('\\n')\n",
        "\n",
        "se1=SeqEntityScore(id2label)\n",
        "se1.update(preds_total,true_total)\n",
        "s=se1.result()\n",
        "print(s)"
      ],
      "metadata": {
        "colab": {
          "base_uri": "https://localhost:8080/"
        },
        "id": "iqFaOl_ilHWA",
        "outputId": "94dcd934-21a0-46b8-bc99-9a17a6d571f8"
      },
      "execution_count": 35,
      "outputs": [
        {
          "output_type": "stream",
          "name": "stderr",
          "text": [
            "100%|██████████| 500/500 [03:35<00:00,  2.32it/s]"
          ]
        },
        {
          "output_type": "stream",
          "name": "stdout",
          "text": [
            "({'acc': 0.7954545454545454, 'recall': 0.7954545454545454, 'f1': 0.7954545454545455}, {'government': {'acc': 0.91, 'recall': 0.8349, 'f1': 0.8708}, 'company': {'acc': 0.8134, 'recall': 0.7676, 'f1': 0.7899}, 'organization': {'acc': 0.7311, 'recall': 0.8447, 'f1': 0.7838}, 'scene': {'acc': 0.725, 'recall': 0.7945, 'f1': 0.7582}, 'name': {'acc': 0.8889, 'recall': 0.8696, 'f1': 0.8791}, 'address': {'acc': 0.6693, 'recall': 0.6391, 'f1': 0.6538}, 'position': {'acc': 0.7747, 'recall': 0.7663, 'f1': 0.7705}, 'book': {'acc': 0.7377, 'recall': 0.8491, 'f1': 0.7895}, 'game': {'acc': 0.8429, 'recall': 0.7468, 'f1': 0.7919}, 'movie': {'acc': 0.8511, 'recall': 1.0, 'f1': 0.9195}})\n"
          ]
        },
        {
          "output_type": "stream",
          "name": "stderr",
          "text": [
            "\n"
          ]
        }
      ]
    }
  ]
}