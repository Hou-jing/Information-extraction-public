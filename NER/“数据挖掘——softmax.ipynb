{
  "nbformat": 4,
  "nbformat_minor": 0,
  "metadata": {
    "colab": {
      "name": "“数据挖掘——CRF.ipynb”的副本",
      "provenance": []
    },
    "kernelspec": {
      "name": "python3",
      "display_name": "Python 3"
    },
    "language_info": {
      "name": "python"
    },
    "accelerator": "GPU",
    "widgets": {
      "application/vnd.jupyter.widget-state+json": {
        "54a0152dbaa34df28b2a94b039119ff6": {
          "model_module": "@jupyter-widgets/controls",
          "model_name": "HBoxModel",
          "model_module_version": "1.5.0",
          "state": {
            "_dom_classes": [],
            "_model_module": "@jupyter-widgets/controls",
            "_model_module_version": "1.5.0",
            "_model_name": "HBoxModel",
            "_view_count": null,
            "_view_module": "@jupyter-widgets/controls",
            "_view_module_version": "1.5.0",
            "_view_name": "HBoxView",
            "box_style": "",
            "children": [
              "IPY_MODEL_51e4114f19234e8f9d674aaa36cd01c5",
              "IPY_MODEL_ceae11ac23ee49d6b17489a8845d8958",
              "IPY_MODEL_f9134f41d4b84720af18251951297e2b"
            ],
            "layout": "IPY_MODEL_fb888d24776a448faa55a783b4421ee8"
          }
        },
        "51e4114f19234e8f9d674aaa36cd01c5": {
          "model_module": "@jupyter-widgets/controls",
          "model_name": "HTMLModel",
          "model_module_version": "1.5.0",
          "state": {
            "_dom_classes": [],
            "_model_module": "@jupyter-widgets/controls",
            "_model_module_version": "1.5.0",
            "_model_name": "HTMLModel",
            "_view_count": null,
            "_view_module": "@jupyter-widgets/controls",
            "_view_module_version": "1.5.0",
            "_view_name": "HTMLView",
            "description": "",
            "description_tooltip": null,
            "layout": "IPY_MODEL_d14892b81bf7438796af71946d528840",
            "placeholder": "​",
            "style": "IPY_MODEL_90ab3ec2c1064cb88605d3ac7fe7c4cf",
            "value": "Downloading: 100%"
          }
        },
        "ceae11ac23ee49d6b17489a8845d8958": {
          "model_module": "@jupyter-widgets/controls",
          "model_name": "FloatProgressModel",
          "model_module_version": "1.5.0",
          "state": {
            "_dom_classes": [],
            "_model_module": "@jupyter-widgets/controls",
            "_model_module_version": "1.5.0",
            "_model_name": "FloatProgressModel",
            "_view_count": null,
            "_view_module": "@jupyter-widgets/controls",
            "_view_module_version": "1.5.0",
            "_view_name": "ProgressView",
            "bar_style": "success",
            "description": "",
            "description_tooltip": null,
            "layout": "IPY_MODEL_884ade17b582421b9bc7aa3f0ed8ef69",
            "max": 29,
            "min": 0,
            "orientation": "horizontal",
            "style": "IPY_MODEL_fd19c717dcd34c2c990eefd7bb4162ff",
            "value": 29
          }
        },
        "f9134f41d4b84720af18251951297e2b": {
          "model_module": "@jupyter-widgets/controls",
          "model_name": "HTMLModel",
          "model_module_version": "1.5.0",
          "state": {
            "_dom_classes": [],
            "_model_module": "@jupyter-widgets/controls",
            "_model_module_version": "1.5.0",
            "_model_name": "HTMLModel",
            "_view_count": null,
            "_view_module": "@jupyter-widgets/controls",
            "_view_module_version": "1.5.0",
            "_view_name": "HTMLView",
            "description": "",
            "description_tooltip": null,
            "layout": "IPY_MODEL_e4edddaceda34f858b789be19d4ae182",
            "placeholder": "​",
            "style": "IPY_MODEL_4ac44e5a349a428a9fd93edb4e72ce96",
            "value": " 29.0/29.0 [00:00&lt;00:00, 231B/s]"
          }
        },
        "fb888d24776a448faa55a783b4421ee8": {
          "model_module": "@jupyter-widgets/base",
          "model_name": "LayoutModel",
          "model_module_version": "1.2.0",
          "state": {
            "_model_module": "@jupyter-widgets/base",
            "_model_module_version": "1.2.0",
            "_model_name": "LayoutModel",
            "_view_count": null,
            "_view_module": "@jupyter-widgets/base",
            "_view_module_version": "1.2.0",
            "_view_name": "LayoutView",
            "align_content": null,
            "align_items": null,
            "align_self": null,
            "border": null,
            "bottom": null,
            "display": null,
            "flex": null,
            "flex_flow": null,
            "grid_area": null,
            "grid_auto_columns": null,
            "grid_auto_flow": null,
            "grid_auto_rows": null,
            "grid_column": null,
            "grid_gap": null,
            "grid_row": null,
            "grid_template_areas": null,
            "grid_template_columns": null,
            "grid_template_rows": null,
            "height": null,
            "justify_content": null,
            "justify_items": null,
            "left": null,
            "margin": null,
            "max_height": null,
            "max_width": null,
            "min_height": null,
            "min_width": null,
            "object_fit": null,
            "object_position": null,
            "order": null,
            "overflow": null,
            "overflow_x": null,
            "overflow_y": null,
            "padding": null,
            "right": null,
            "top": null,
            "visibility": null,
            "width": null
          }
        },
        "d14892b81bf7438796af71946d528840": {
          "model_module": "@jupyter-widgets/base",
          "model_name": "LayoutModel",
          "model_module_version": "1.2.0",
          "state": {
            "_model_module": "@jupyter-widgets/base",
            "_model_module_version": "1.2.0",
            "_model_name": "LayoutModel",
            "_view_count": null,
            "_view_module": "@jupyter-widgets/base",
            "_view_module_version": "1.2.0",
            "_view_name": "LayoutView",
            "align_content": null,
            "align_items": null,
            "align_self": null,
            "border": null,
            "bottom": null,
            "display": null,
            "flex": null,
            "flex_flow": null,
            "grid_area": null,
            "grid_auto_columns": null,
            "grid_auto_flow": null,
            "grid_auto_rows": null,
            "grid_column": null,
            "grid_gap": null,
            "grid_row": null,
            "grid_template_areas": null,
            "grid_template_columns": null,
            "grid_template_rows": null,
            "height": null,
            "justify_content": null,
            "justify_items": null,
            "left": null,
            "margin": null,
            "max_height": null,
            "max_width": null,
            "min_height": null,
            "min_width": null,
            "object_fit": null,
            "object_position": null,
            "order": null,
            "overflow": null,
            "overflow_x": null,
            "overflow_y": null,
            "padding": null,
            "right": null,
            "top": null,
            "visibility": null,
            "width": null
          }
        },
        "90ab3ec2c1064cb88605d3ac7fe7c4cf": {
          "model_module": "@jupyter-widgets/controls",
          "model_name": "DescriptionStyleModel",
          "model_module_version": "1.5.0",
          "state": {
            "_model_module": "@jupyter-widgets/controls",
            "_model_module_version": "1.5.0",
            "_model_name": "DescriptionStyleModel",
            "_view_count": null,
            "_view_module": "@jupyter-widgets/base",
            "_view_module_version": "1.2.0",
            "_view_name": "StyleView",
            "description_width": ""
          }
        },
        "884ade17b582421b9bc7aa3f0ed8ef69": {
          "model_module": "@jupyter-widgets/base",
          "model_name": "LayoutModel",
          "model_module_version": "1.2.0",
          "state": {
            "_model_module": "@jupyter-widgets/base",
            "_model_module_version": "1.2.0",
            "_model_name": "LayoutModel",
            "_view_count": null,
            "_view_module": "@jupyter-widgets/base",
            "_view_module_version": "1.2.0",
            "_view_name": "LayoutView",
            "align_content": null,
            "align_items": null,
            "align_self": null,
            "border": null,
            "bottom": null,
            "display": null,
            "flex": null,
            "flex_flow": null,
            "grid_area": null,
            "grid_auto_columns": null,
            "grid_auto_flow": null,
            "grid_auto_rows": null,
            "grid_column": null,
            "grid_gap": null,
            "grid_row": null,
            "grid_template_areas": null,
            "grid_template_columns": null,
            "grid_template_rows": null,
            "height": null,
            "justify_content": null,
            "justify_items": null,
            "left": null,
            "margin": null,
            "max_height": null,
            "max_width": null,
            "min_height": null,
            "min_width": null,
            "object_fit": null,
            "object_position": null,
            "order": null,
            "overflow": null,
            "overflow_x": null,
            "overflow_y": null,
            "padding": null,
            "right": null,
            "top": null,
            "visibility": null,
            "width": null
          }
        },
        "fd19c717dcd34c2c990eefd7bb4162ff": {
          "model_module": "@jupyter-widgets/controls",
          "model_name": "ProgressStyleModel",
          "model_module_version": "1.5.0",
          "state": {
            "_model_module": "@jupyter-widgets/controls",
            "_model_module_version": "1.5.0",
            "_model_name": "ProgressStyleModel",
            "_view_count": null,
            "_view_module": "@jupyter-widgets/base",
            "_view_module_version": "1.2.0",
            "_view_name": "StyleView",
            "bar_color": null,
            "description_width": ""
          }
        },
        "e4edddaceda34f858b789be19d4ae182": {
          "model_module": "@jupyter-widgets/base",
          "model_name": "LayoutModel",
          "model_module_version": "1.2.0",
          "state": {
            "_model_module": "@jupyter-widgets/base",
            "_model_module_version": "1.2.0",
            "_model_name": "LayoutModel",
            "_view_count": null,
            "_view_module": "@jupyter-widgets/base",
            "_view_module_version": "1.2.0",
            "_view_name": "LayoutView",
            "align_content": null,
            "align_items": null,
            "align_self": null,
            "border": null,
            "bottom": null,
            "display": null,
            "flex": null,
            "flex_flow": null,
            "grid_area": null,
            "grid_auto_columns": null,
            "grid_auto_flow": null,
            "grid_auto_rows": null,
            "grid_column": null,
            "grid_gap": null,
            "grid_row": null,
            "grid_template_areas": null,
            "grid_template_columns": null,
            "grid_template_rows": null,
            "height": null,
            "justify_content": null,
            "justify_items": null,
            "left": null,
            "margin": null,
            "max_height": null,
            "max_width": null,
            "min_height": null,
            "min_width": null,
            "object_fit": null,
            "object_position": null,
            "order": null,
            "overflow": null,
            "overflow_x": null,
            "overflow_y": null,
            "padding": null,
            "right": null,
            "top": null,
            "visibility": null,
            "width": null
          }
        },
        "4ac44e5a349a428a9fd93edb4e72ce96": {
          "model_module": "@jupyter-widgets/controls",
          "model_name": "DescriptionStyleModel",
          "model_module_version": "1.5.0",
          "state": {
            "_model_module": "@jupyter-widgets/controls",
            "_model_module_version": "1.5.0",
            "_model_name": "DescriptionStyleModel",
            "_view_count": null,
            "_view_module": "@jupyter-widgets/base",
            "_view_module_version": "1.2.0",
            "_view_name": "StyleView",
            "description_width": ""
          }
        },
        "18c103f06d674235a92dd9544bdf32ee": {
          "model_module": "@jupyter-widgets/controls",
          "model_name": "HBoxModel",
          "model_module_version": "1.5.0",
          "state": {
            "_dom_classes": [],
            "_model_module": "@jupyter-widgets/controls",
            "_model_module_version": "1.5.0",
            "_model_name": "HBoxModel",
            "_view_count": null,
            "_view_module": "@jupyter-widgets/controls",
            "_view_module_version": "1.5.0",
            "_view_name": "HBoxView",
            "box_style": "",
            "children": [
              "IPY_MODEL_ec8d17877d484331bb8ead9a7a64f126",
              "IPY_MODEL_143144c809414acca9aeef9ef1664504",
              "IPY_MODEL_19c6aace55f94c898d7178dbf47b2c70"
            ],
            "layout": "IPY_MODEL_f4ac178fa17142158213a97f9423a3fd"
          }
        },
        "ec8d17877d484331bb8ead9a7a64f126": {
          "model_module": "@jupyter-widgets/controls",
          "model_name": "HTMLModel",
          "model_module_version": "1.5.0",
          "state": {
            "_dom_classes": [],
            "_model_module": "@jupyter-widgets/controls",
            "_model_module_version": "1.5.0",
            "_model_name": "HTMLModel",
            "_view_count": null,
            "_view_module": "@jupyter-widgets/controls",
            "_view_module_version": "1.5.0",
            "_view_name": "HTMLView",
            "description": "",
            "description_tooltip": null,
            "layout": "IPY_MODEL_11a1b5316bb0408f9fcb9fe9aae6dcc4",
            "placeholder": "​",
            "style": "IPY_MODEL_4c7cce43263d43a3a8cb166d63f7976f",
            "value": "Downloading: 100%"
          }
        },
        "143144c809414acca9aeef9ef1664504": {
          "model_module": "@jupyter-widgets/controls",
          "model_name": "FloatProgressModel",
          "model_module_version": "1.5.0",
          "state": {
            "_dom_classes": [],
            "_model_module": "@jupyter-widgets/controls",
            "_model_module_version": "1.5.0",
            "_model_name": "FloatProgressModel",
            "_view_count": null,
            "_view_module": "@jupyter-widgets/controls",
            "_view_module_version": "1.5.0",
            "_view_name": "ProgressView",
            "bar_style": "success",
            "description": "",
            "description_tooltip": null,
            "layout": "IPY_MODEL_b599b5ad81c34f319416e09fedf5b61e",
            "max": 109540,
            "min": 0,
            "orientation": "horizontal",
            "style": "IPY_MODEL_c8fa0fde66e249d5a7c16fce5eb96db5",
            "value": 109540
          }
        },
        "19c6aace55f94c898d7178dbf47b2c70": {
          "model_module": "@jupyter-widgets/controls",
          "model_name": "HTMLModel",
          "model_module_version": "1.5.0",
          "state": {
            "_dom_classes": [],
            "_model_module": "@jupyter-widgets/controls",
            "_model_module_version": "1.5.0",
            "_model_name": "HTMLModel",
            "_view_count": null,
            "_view_module": "@jupyter-widgets/controls",
            "_view_module_version": "1.5.0",
            "_view_name": "HTMLView",
            "description": "",
            "description_tooltip": null,
            "layout": "IPY_MODEL_baea557758ec41bb9f58a0162ce2b838",
            "placeholder": "​",
            "style": "IPY_MODEL_4f5a767f50384e3a806242937c868cb9",
            "value": " 107k/107k [00:00&lt;00:00, 7.49kB/s]"
          }
        },
        "f4ac178fa17142158213a97f9423a3fd": {
          "model_module": "@jupyter-widgets/base",
          "model_name": "LayoutModel",
          "model_module_version": "1.2.0",
          "state": {
            "_model_module": "@jupyter-widgets/base",
            "_model_module_version": "1.2.0",
            "_model_name": "LayoutModel",
            "_view_count": null,
            "_view_module": "@jupyter-widgets/base",
            "_view_module_version": "1.2.0",
            "_view_name": "LayoutView",
            "align_content": null,
            "align_items": null,
            "align_self": null,
            "border": null,
            "bottom": null,
            "display": null,
            "flex": null,
            "flex_flow": null,
            "grid_area": null,
            "grid_auto_columns": null,
            "grid_auto_flow": null,
            "grid_auto_rows": null,
            "grid_column": null,
            "grid_gap": null,
            "grid_row": null,
            "grid_template_areas": null,
            "grid_template_columns": null,
            "grid_template_rows": null,
            "height": null,
            "justify_content": null,
            "justify_items": null,
            "left": null,
            "margin": null,
            "max_height": null,
            "max_width": null,
            "min_height": null,
            "min_width": null,
            "object_fit": null,
            "object_position": null,
            "order": null,
            "overflow": null,
            "overflow_x": null,
            "overflow_y": null,
            "padding": null,
            "right": null,
            "top": null,
            "visibility": null,
            "width": null
          }
        },
        "11a1b5316bb0408f9fcb9fe9aae6dcc4": {
          "model_module": "@jupyter-widgets/base",
          "model_name": "LayoutModel",
          "model_module_version": "1.2.0",
          "state": {
            "_model_module": "@jupyter-widgets/base",
            "_model_module_version": "1.2.0",
            "_model_name": "LayoutModel",
            "_view_count": null,
            "_view_module": "@jupyter-widgets/base",
            "_view_module_version": "1.2.0",
            "_view_name": "LayoutView",
            "align_content": null,
            "align_items": null,
            "align_self": null,
            "border": null,
            "bottom": null,
            "display": null,
            "flex": null,
            "flex_flow": null,
            "grid_area": null,
            "grid_auto_columns": null,
            "grid_auto_flow": null,
            "grid_auto_rows": null,
            "grid_column": null,
            "grid_gap": null,
            "grid_row": null,
            "grid_template_areas": null,
            "grid_template_columns": null,
            "grid_template_rows": null,
            "height": null,
            "justify_content": null,
            "justify_items": null,
            "left": null,
            "margin": null,
            "max_height": null,
            "max_width": null,
            "min_height": null,
            "min_width": null,
            "object_fit": null,
            "object_position": null,
            "order": null,
            "overflow": null,
            "overflow_x": null,
            "overflow_y": null,
            "padding": null,
            "right": null,
            "top": null,
            "visibility": null,
            "width": null
          }
        },
        "4c7cce43263d43a3a8cb166d63f7976f": {
          "model_module": "@jupyter-widgets/controls",
          "model_name": "DescriptionStyleModel",
          "model_module_version": "1.5.0",
          "state": {
            "_model_module": "@jupyter-widgets/controls",
            "_model_module_version": "1.5.0",
            "_model_name": "DescriptionStyleModel",
            "_view_count": null,
            "_view_module": "@jupyter-widgets/base",
            "_view_module_version": "1.2.0",
            "_view_name": "StyleView",
            "description_width": ""
          }
        },
        "b599b5ad81c34f319416e09fedf5b61e": {
          "model_module": "@jupyter-widgets/base",
          "model_name": "LayoutModel",
          "model_module_version": "1.2.0",
          "state": {
            "_model_module": "@jupyter-widgets/base",
            "_model_module_version": "1.2.0",
            "_model_name": "LayoutModel",
            "_view_count": null,
            "_view_module": "@jupyter-widgets/base",
            "_view_module_version": "1.2.0",
            "_view_name": "LayoutView",
            "align_content": null,
            "align_items": null,
            "align_self": null,
            "border": null,
            "bottom": null,
            "display": null,
            "flex": null,
            "flex_flow": null,
            "grid_area": null,
            "grid_auto_columns": null,
            "grid_auto_flow": null,
            "grid_auto_rows": null,
            "grid_column": null,
            "grid_gap": null,
            "grid_row": null,
            "grid_template_areas": null,
            "grid_template_columns": null,
            "grid_template_rows": null,
            "height": null,
            "justify_content": null,
            "justify_items": null,
            "left": null,
            "margin": null,
            "max_height": null,
            "max_width": null,
            "min_height": null,
            "min_width": null,
            "object_fit": null,
            "object_position": null,
            "order": null,
            "overflow": null,
            "overflow_x": null,
            "overflow_y": null,
            "padding": null,
            "right": null,
            "top": null,
            "visibility": null,
            "width": null
          }
        },
        "c8fa0fde66e249d5a7c16fce5eb96db5": {
          "model_module": "@jupyter-widgets/controls",
          "model_name": "ProgressStyleModel",
          "model_module_version": "1.5.0",
          "state": {
            "_model_module": "@jupyter-widgets/controls",
            "_model_module_version": "1.5.0",
            "_model_name": "ProgressStyleModel",
            "_view_count": null,
            "_view_module": "@jupyter-widgets/base",
            "_view_module_version": "1.2.0",
            "_view_name": "StyleView",
            "bar_color": null,
            "description_width": ""
          }
        },
        "baea557758ec41bb9f58a0162ce2b838": {
          "model_module": "@jupyter-widgets/base",
          "model_name": "LayoutModel",
          "model_module_version": "1.2.0",
          "state": {
            "_model_module": "@jupyter-widgets/base",
            "_model_module_version": "1.2.0",
            "_model_name": "LayoutModel",
            "_view_count": null,
            "_view_module": "@jupyter-widgets/base",
            "_view_module_version": "1.2.0",
            "_view_name": "LayoutView",
            "align_content": null,
            "align_items": null,
            "align_self": null,
            "border": null,
            "bottom": null,
            "display": null,
            "flex": null,
            "flex_flow": null,
            "grid_area": null,
            "grid_auto_columns": null,
            "grid_auto_flow": null,
            "grid_auto_rows": null,
            "grid_column": null,
            "grid_gap": null,
            "grid_row": null,
            "grid_template_areas": null,
            "grid_template_columns": null,
            "grid_template_rows": null,
            "height": null,
            "justify_content": null,
            "justify_items": null,
            "left": null,
            "margin": null,
            "max_height": null,
            "max_width": null,
            "min_height": null,
            "min_width": null,
            "object_fit": null,
            "object_position": null,
            "order": null,
            "overflow": null,
            "overflow_x": null,
            "overflow_y": null,
            "padding": null,
            "right": null,
            "top": null,
            "visibility": null,
            "width": null
          }
        },
        "4f5a767f50384e3a806242937c868cb9": {
          "model_module": "@jupyter-widgets/controls",
          "model_name": "DescriptionStyleModel",
          "model_module_version": "1.5.0",
          "state": {
            "_model_module": "@jupyter-widgets/controls",
            "_model_module_version": "1.5.0",
            "_model_name": "DescriptionStyleModel",
            "_view_count": null,
            "_view_module": "@jupyter-widgets/base",
            "_view_module_version": "1.2.0",
            "_view_name": "StyleView",
            "description_width": ""
          }
        },
        "0a52da6c610447e8b910f192e66ba7e6": {
          "model_module": "@jupyter-widgets/controls",
          "model_name": "HBoxModel",
          "model_module_version": "1.5.0",
          "state": {
            "_dom_classes": [],
            "_model_module": "@jupyter-widgets/controls",
            "_model_module_version": "1.5.0",
            "_model_name": "HBoxModel",
            "_view_count": null,
            "_view_module": "@jupyter-widgets/controls",
            "_view_module_version": "1.5.0",
            "_view_name": "HBoxView",
            "box_style": "",
            "children": [
              "IPY_MODEL_fbeb49153e5248c09baa6217e0030a79",
              "IPY_MODEL_09df38dcfe89435991ccb0756471f0d9",
              "IPY_MODEL_7123043fbdc44b36ab70731486464955"
            ],
            "layout": "IPY_MODEL_26f10a7457b048bb95f55144b97b43fb"
          }
        },
        "fbeb49153e5248c09baa6217e0030a79": {
          "model_module": "@jupyter-widgets/controls",
          "model_name": "HTMLModel",
          "model_module_version": "1.5.0",
          "state": {
            "_dom_classes": [],
            "_model_module": "@jupyter-widgets/controls",
            "_model_module_version": "1.5.0",
            "_model_name": "HTMLModel",
            "_view_count": null,
            "_view_module": "@jupyter-widgets/controls",
            "_view_module_version": "1.5.0",
            "_view_name": "HTMLView",
            "description": "",
            "description_tooltip": null,
            "layout": "IPY_MODEL_6a2b271f7bd24628bd8c1f605aa944de",
            "placeholder": "​",
            "style": "IPY_MODEL_23ca2b27e57142c99f66fb90909651b3",
            "value": "Downloading: 100%"
          }
        },
        "09df38dcfe89435991ccb0756471f0d9": {
          "model_module": "@jupyter-widgets/controls",
          "model_name": "FloatProgressModel",
          "model_module_version": "1.5.0",
          "state": {
            "_dom_classes": [],
            "_model_module": "@jupyter-widgets/controls",
            "_model_module_version": "1.5.0",
            "_model_name": "FloatProgressModel",
            "_view_count": null,
            "_view_module": "@jupyter-widgets/controls",
            "_view_module_version": "1.5.0",
            "_view_name": "ProgressView",
            "bar_style": "success",
            "description": "",
            "description_tooltip": null,
            "layout": "IPY_MODEL_0b19508a7d0f454bbb216d1660a4585b",
            "max": 268943,
            "min": 0,
            "orientation": "horizontal",
            "style": "IPY_MODEL_ea398c667875481ca50b7addc0c5200e",
            "value": 268943
          }
        },
        "7123043fbdc44b36ab70731486464955": {
          "model_module": "@jupyter-widgets/controls",
          "model_name": "HTMLModel",
          "model_module_version": "1.5.0",
          "state": {
            "_dom_classes": [],
            "_model_module": "@jupyter-widgets/controls",
            "_model_module_version": "1.5.0",
            "_model_name": "HTMLModel",
            "_view_count": null,
            "_view_module": "@jupyter-widgets/controls",
            "_view_module_version": "1.5.0",
            "_view_name": "HTMLView",
            "description": "",
            "description_tooltip": null,
            "layout": "IPY_MODEL_a9b43b1cba1245679ef65196b8b40fc7",
            "placeholder": "​",
            "style": "IPY_MODEL_ca19aef52d0141f982aa493f16ae9f0f",
            "value": " 263k/263k [00:00&lt;00:00, 924kB/s]"
          }
        },
        "26f10a7457b048bb95f55144b97b43fb": {
          "model_module": "@jupyter-widgets/base",
          "model_name": "LayoutModel",
          "model_module_version": "1.2.0",
          "state": {
            "_model_module": "@jupyter-widgets/base",
            "_model_module_version": "1.2.0",
            "_model_name": "LayoutModel",
            "_view_count": null,
            "_view_module": "@jupyter-widgets/base",
            "_view_module_version": "1.2.0",
            "_view_name": "LayoutView",
            "align_content": null,
            "align_items": null,
            "align_self": null,
            "border": null,
            "bottom": null,
            "display": null,
            "flex": null,
            "flex_flow": null,
            "grid_area": null,
            "grid_auto_columns": null,
            "grid_auto_flow": null,
            "grid_auto_rows": null,
            "grid_column": null,
            "grid_gap": null,
            "grid_row": null,
            "grid_template_areas": null,
            "grid_template_columns": null,
            "grid_template_rows": null,
            "height": null,
            "justify_content": null,
            "justify_items": null,
            "left": null,
            "margin": null,
            "max_height": null,
            "max_width": null,
            "min_height": null,
            "min_width": null,
            "object_fit": null,
            "object_position": null,
            "order": null,
            "overflow": null,
            "overflow_x": null,
            "overflow_y": null,
            "padding": null,
            "right": null,
            "top": null,
            "visibility": null,
            "width": null
          }
        },
        "6a2b271f7bd24628bd8c1f605aa944de": {
          "model_module": "@jupyter-widgets/base",
          "model_name": "LayoutModel",
          "model_module_version": "1.2.0",
          "state": {
            "_model_module": "@jupyter-widgets/base",
            "_model_module_version": "1.2.0",
            "_model_name": "LayoutModel",
            "_view_count": null,
            "_view_module": "@jupyter-widgets/base",
            "_view_module_version": "1.2.0",
            "_view_name": "LayoutView",
            "align_content": null,
            "align_items": null,
            "align_self": null,
            "border": null,
            "bottom": null,
            "display": null,
            "flex": null,
            "flex_flow": null,
            "grid_area": null,
            "grid_auto_columns": null,
            "grid_auto_flow": null,
            "grid_auto_rows": null,
            "grid_column": null,
            "grid_gap": null,
            "grid_row": null,
            "grid_template_areas": null,
            "grid_template_columns": null,
            "grid_template_rows": null,
            "height": null,
            "justify_content": null,
            "justify_items": null,
            "left": null,
            "margin": null,
            "max_height": null,
            "max_width": null,
            "min_height": null,
            "min_width": null,
            "object_fit": null,
            "object_position": null,
            "order": null,
            "overflow": null,
            "overflow_x": null,
            "overflow_y": null,
            "padding": null,
            "right": null,
            "top": null,
            "visibility": null,
            "width": null
          }
        },
        "23ca2b27e57142c99f66fb90909651b3": {
          "model_module": "@jupyter-widgets/controls",
          "model_name": "DescriptionStyleModel",
          "model_module_version": "1.5.0",
          "state": {
            "_model_module": "@jupyter-widgets/controls",
            "_model_module_version": "1.5.0",
            "_model_name": "DescriptionStyleModel",
            "_view_count": null,
            "_view_module": "@jupyter-widgets/base",
            "_view_module_version": "1.2.0",
            "_view_name": "StyleView",
            "description_width": ""
          }
        },
        "0b19508a7d0f454bbb216d1660a4585b": {
          "model_module": "@jupyter-widgets/base",
          "model_name": "LayoutModel",
          "model_module_version": "1.2.0",
          "state": {
            "_model_module": "@jupyter-widgets/base",
            "_model_module_version": "1.2.0",
            "_model_name": "LayoutModel",
            "_view_count": null,
            "_view_module": "@jupyter-widgets/base",
            "_view_module_version": "1.2.0",
            "_view_name": "LayoutView",
            "align_content": null,
            "align_items": null,
            "align_self": null,
            "border": null,
            "bottom": null,
            "display": null,
            "flex": null,
            "flex_flow": null,
            "grid_area": null,
            "grid_auto_columns": null,
            "grid_auto_flow": null,
            "grid_auto_rows": null,
            "grid_column": null,
            "grid_gap": null,
            "grid_row": null,
            "grid_template_areas": null,
            "grid_template_columns": null,
            "grid_template_rows": null,
            "height": null,
            "justify_content": null,
            "justify_items": null,
            "left": null,
            "margin": null,
            "max_height": null,
            "max_width": null,
            "min_height": null,
            "min_width": null,
            "object_fit": null,
            "object_position": null,
            "order": null,
            "overflow": null,
            "overflow_x": null,
            "overflow_y": null,
            "padding": null,
            "right": null,
            "top": null,
            "visibility": null,
            "width": null
          }
        },
        "ea398c667875481ca50b7addc0c5200e": {
          "model_module": "@jupyter-widgets/controls",
          "model_name": "ProgressStyleModel",
          "model_module_version": "1.5.0",
          "state": {
            "_model_module": "@jupyter-widgets/controls",
            "_model_module_version": "1.5.0",
            "_model_name": "ProgressStyleModel",
            "_view_count": null,
            "_view_module": "@jupyter-widgets/base",
            "_view_module_version": "1.2.0",
            "_view_name": "StyleView",
            "bar_color": null,
            "description_width": ""
          }
        },
        "a9b43b1cba1245679ef65196b8b40fc7": {
          "model_module": "@jupyter-widgets/base",
          "model_name": "LayoutModel",
          "model_module_version": "1.2.0",
          "state": {
            "_model_module": "@jupyter-widgets/base",
            "_model_module_version": "1.2.0",
            "_model_name": "LayoutModel",
            "_view_count": null,
            "_view_module": "@jupyter-widgets/base",
            "_view_module_version": "1.2.0",
            "_view_name": "LayoutView",
            "align_content": null,
            "align_items": null,
            "align_self": null,
            "border": null,
            "bottom": null,
            "display": null,
            "flex": null,
            "flex_flow": null,
            "grid_area": null,
            "grid_auto_columns": null,
            "grid_auto_flow": null,
            "grid_auto_rows": null,
            "grid_column": null,
            "grid_gap": null,
            "grid_row": null,
            "grid_template_areas": null,
            "grid_template_columns": null,
            "grid_template_rows": null,
            "height": null,
            "justify_content": null,
            "justify_items": null,
            "left": null,
            "margin": null,
            "max_height": null,
            "max_width": null,
            "min_height": null,
            "min_width": null,
            "object_fit": null,
            "object_position": null,
            "order": null,
            "overflow": null,
            "overflow_x": null,
            "overflow_y": null,
            "padding": null,
            "right": null,
            "top": null,
            "visibility": null,
            "width": null
          }
        },
        "ca19aef52d0141f982aa493f16ae9f0f": {
          "model_module": "@jupyter-widgets/controls",
          "model_name": "DescriptionStyleModel",
          "model_module_version": "1.5.0",
          "state": {
            "_model_module": "@jupyter-widgets/controls",
            "_model_module_version": "1.5.0",
            "_model_name": "DescriptionStyleModel",
            "_view_count": null,
            "_view_module": "@jupyter-widgets/base",
            "_view_module_version": "1.2.0",
            "_view_name": "StyleView",
            "description_width": ""
          }
        },
        "00d925a2a21c483aa6dd94fd309b6052": {
          "model_module": "@jupyter-widgets/controls",
          "model_name": "HBoxModel",
          "model_module_version": "1.5.0",
          "state": {
            "_dom_classes": [],
            "_model_module": "@jupyter-widgets/controls",
            "_model_module_version": "1.5.0",
            "_model_name": "HBoxModel",
            "_view_count": null,
            "_view_module": "@jupyter-widgets/controls",
            "_view_module_version": "1.5.0",
            "_view_name": "HBoxView",
            "box_style": "",
            "children": [
              "IPY_MODEL_72ac0ddae8f3478297957d8b5d0c393e",
              "IPY_MODEL_70b32223e2a946fcb1889853778f479f",
              "IPY_MODEL_4ca440fee4624a209be8372b42c0620c"
            ],
            "layout": "IPY_MODEL_70409a5d24b0494cabe4ccc2c32f100e"
          }
        },
        "72ac0ddae8f3478297957d8b5d0c393e": {
          "model_module": "@jupyter-widgets/controls",
          "model_name": "HTMLModel",
          "model_module_version": "1.5.0",
          "state": {
            "_dom_classes": [],
            "_model_module": "@jupyter-widgets/controls",
            "_model_module_version": "1.5.0",
            "_model_name": "HTMLModel",
            "_view_count": null,
            "_view_module": "@jupyter-widgets/controls",
            "_view_module_version": "1.5.0",
            "_view_name": "HTMLView",
            "description": "",
            "description_tooltip": null,
            "layout": "IPY_MODEL_4be80b4bde8541fc98dfd25a3f2ff5fb",
            "placeholder": "​",
            "style": "IPY_MODEL_ce8731c328df4e19a4a5fa1b67efe93f",
            "value": "Downloading: 100%"
          }
        },
        "70b32223e2a946fcb1889853778f479f": {
          "model_module": "@jupyter-widgets/controls",
          "model_name": "FloatProgressModel",
          "model_module_version": "1.5.0",
          "state": {
            "_dom_classes": [],
            "_model_module": "@jupyter-widgets/controls",
            "_model_module_version": "1.5.0",
            "_model_name": "FloatProgressModel",
            "_view_count": null,
            "_view_module": "@jupyter-widgets/controls",
            "_view_module_version": "1.5.0",
            "_view_name": "ProgressView",
            "bar_style": "success",
            "description": "",
            "description_tooltip": null,
            "layout": "IPY_MODEL_43357ff9074f4bbeb7bc6585fc62db95",
            "max": 624,
            "min": 0,
            "orientation": "horizontal",
            "style": "IPY_MODEL_c25c9bef455243e09cda4483f4bb9066",
            "value": 624
          }
        },
        "4ca440fee4624a209be8372b42c0620c": {
          "model_module": "@jupyter-widgets/controls",
          "model_name": "HTMLModel",
          "model_module_version": "1.5.0",
          "state": {
            "_dom_classes": [],
            "_model_module": "@jupyter-widgets/controls",
            "_model_module_version": "1.5.0",
            "_model_name": "HTMLModel",
            "_view_count": null,
            "_view_module": "@jupyter-widgets/controls",
            "_view_module_version": "1.5.0",
            "_view_name": "HTMLView",
            "description": "",
            "description_tooltip": null,
            "layout": "IPY_MODEL_3a00daaf24e140c1a783239c7b374b47",
            "placeholder": "​",
            "style": "IPY_MODEL_ed57de2e27a24c08a96d18627139e669",
            "value": " 624/624 [00:00&lt;00:00, 20.3kB/s]"
          }
        },
        "70409a5d24b0494cabe4ccc2c32f100e": {
          "model_module": "@jupyter-widgets/base",
          "model_name": "LayoutModel",
          "model_module_version": "1.2.0",
          "state": {
            "_model_module": "@jupyter-widgets/base",
            "_model_module_version": "1.2.0",
            "_model_name": "LayoutModel",
            "_view_count": null,
            "_view_module": "@jupyter-widgets/base",
            "_view_module_version": "1.2.0",
            "_view_name": "LayoutView",
            "align_content": null,
            "align_items": null,
            "align_self": null,
            "border": null,
            "bottom": null,
            "display": null,
            "flex": null,
            "flex_flow": null,
            "grid_area": null,
            "grid_auto_columns": null,
            "grid_auto_flow": null,
            "grid_auto_rows": null,
            "grid_column": null,
            "grid_gap": null,
            "grid_row": null,
            "grid_template_areas": null,
            "grid_template_columns": null,
            "grid_template_rows": null,
            "height": null,
            "justify_content": null,
            "justify_items": null,
            "left": null,
            "margin": null,
            "max_height": null,
            "max_width": null,
            "min_height": null,
            "min_width": null,
            "object_fit": null,
            "object_position": null,
            "order": null,
            "overflow": null,
            "overflow_x": null,
            "overflow_y": null,
            "padding": null,
            "right": null,
            "top": null,
            "visibility": null,
            "width": null
          }
        },
        "4be80b4bde8541fc98dfd25a3f2ff5fb": {
          "model_module": "@jupyter-widgets/base",
          "model_name": "LayoutModel",
          "model_module_version": "1.2.0",
          "state": {
            "_model_module": "@jupyter-widgets/base",
            "_model_module_version": "1.2.0",
            "_model_name": "LayoutModel",
            "_view_count": null,
            "_view_module": "@jupyter-widgets/base",
            "_view_module_version": "1.2.0",
            "_view_name": "LayoutView",
            "align_content": null,
            "align_items": null,
            "align_self": null,
            "border": null,
            "bottom": null,
            "display": null,
            "flex": null,
            "flex_flow": null,
            "grid_area": null,
            "grid_auto_columns": null,
            "grid_auto_flow": null,
            "grid_auto_rows": null,
            "grid_column": null,
            "grid_gap": null,
            "grid_row": null,
            "grid_template_areas": null,
            "grid_template_columns": null,
            "grid_template_rows": null,
            "height": null,
            "justify_content": null,
            "justify_items": null,
            "left": null,
            "margin": null,
            "max_height": null,
            "max_width": null,
            "min_height": null,
            "min_width": null,
            "object_fit": null,
            "object_position": null,
            "order": null,
            "overflow": null,
            "overflow_x": null,
            "overflow_y": null,
            "padding": null,
            "right": null,
            "top": null,
            "visibility": null,
            "width": null
          }
        },
        "ce8731c328df4e19a4a5fa1b67efe93f": {
          "model_module": "@jupyter-widgets/controls",
          "model_name": "DescriptionStyleModel",
          "model_module_version": "1.5.0",
          "state": {
            "_model_module": "@jupyter-widgets/controls",
            "_model_module_version": "1.5.0",
            "_model_name": "DescriptionStyleModel",
            "_view_count": null,
            "_view_module": "@jupyter-widgets/base",
            "_view_module_version": "1.2.0",
            "_view_name": "StyleView",
            "description_width": ""
          }
        },
        "43357ff9074f4bbeb7bc6585fc62db95": {
          "model_module": "@jupyter-widgets/base",
          "model_name": "LayoutModel",
          "model_module_version": "1.2.0",
          "state": {
            "_model_module": "@jupyter-widgets/base",
            "_model_module_version": "1.2.0",
            "_model_name": "LayoutModel",
            "_view_count": null,
            "_view_module": "@jupyter-widgets/base",
            "_view_module_version": "1.2.0",
            "_view_name": "LayoutView",
            "align_content": null,
            "align_items": null,
            "align_self": null,
            "border": null,
            "bottom": null,
            "display": null,
            "flex": null,
            "flex_flow": null,
            "grid_area": null,
            "grid_auto_columns": null,
            "grid_auto_flow": null,
            "grid_auto_rows": null,
            "grid_column": null,
            "grid_gap": null,
            "grid_row": null,
            "grid_template_areas": null,
            "grid_template_columns": null,
            "grid_template_rows": null,
            "height": null,
            "justify_content": null,
            "justify_items": null,
            "left": null,
            "margin": null,
            "max_height": null,
            "max_width": null,
            "min_height": null,
            "min_width": null,
            "object_fit": null,
            "object_position": null,
            "order": null,
            "overflow": null,
            "overflow_x": null,
            "overflow_y": null,
            "padding": null,
            "right": null,
            "top": null,
            "visibility": null,
            "width": null
          }
        },
        "c25c9bef455243e09cda4483f4bb9066": {
          "model_module": "@jupyter-widgets/controls",
          "model_name": "ProgressStyleModel",
          "model_module_version": "1.5.0",
          "state": {
            "_model_module": "@jupyter-widgets/controls",
            "_model_module_version": "1.5.0",
            "_model_name": "ProgressStyleModel",
            "_view_count": null,
            "_view_module": "@jupyter-widgets/base",
            "_view_module_version": "1.2.0",
            "_view_name": "StyleView",
            "bar_color": null,
            "description_width": ""
          }
        },
        "3a00daaf24e140c1a783239c7b374b47": {
          "model_module": "@jupyter-widgets/base",
          "model_name": "LayoutModel",
          "model_module_version": "1.2.0",
          "state": {
            "_model_module": "@jupyter-widgets/base",
            "_model_module_version": "1.2.0",
            "_model_name": "LayoutModel",
            "_view_count": null,
            "_view_module": "@jupyter-widgets/base",
            "_view_module_version": "1.2.0",
            "_view_name": "LayoutView",
            "align_content": null,
            "align_items": null,
            "align_self": null,
            "border": null,
            "bottom": null,
            "display": null,
            "flex": null,
            "flex_flow": null,
            "grid_area": null,
            "grid_auto_columns": null,
            "grid_auto_flow": null,
            "grid_auto_rows": null,
            "grid_column": null,
            "grid_gap": null,
            "grid_row": null,
            "grid_template_areas": null,
            "grid_template_columns": null,
            "grid_template_rows": null,
            "height": null,
            "justify_content": null,
            "justify_items": null,
            "left": null,
            "margin": null,
            "max_height": null,
            "max_width": null,
            "min_height": null,
            "min_width": null,
            "object_fit": null,
            "object_position": null,
            "order": null,
            "overflow": null,
            "overflow_x": null,
            "overflow_y": null,
            "padding": null,
            "right": null,
            "top": null,
            "visibility": null,
            "width": null
          }
        },
        "ed57de2e27a24c08a96d18627139e669": {
          "model_module": "@jupyter-widgets/controls",
          "model_name": "DescriptionStyleModel",
          "model_module_version": "1.5.0",
          "state": {
            "_model_module": "@jupyter-widgets/controls",
            "_model_module_version": "1.5.0",
            "_model_name": "DescriptionStyleModel",
            "_view_count": null,
            "_view_module": "@jupyter-widgets/base",
            "_view_module_version": "1.2.0",
            "_view_name": "StyleView",
            "description_width": ""
          }
        },
        "e0ccfb83628348018da9a254726b8fed": {
          "model_module": "@jupyter-widgets/controls",
          "model_name": "HBoxModel",
          "model_module_version": "1.5.0",
          "state": {
            "_dom_classes": [],
            "_model_module": "@jupyter-widgets/controls",
            "_model_module_version": "1.5.0",
            "_model_name": "HBoxModel",
            "_view_count": null,
            "_view_module": "@jupyter-widgets/controls",
            "_view_module_version": "1.5.0",
            "_view_name": "HBoxView",
            "box_style": "",
            "children": [
              "IPY_MODEL_7b9e916a923343d8b40f608a82df0403",
              "IPY_MODEL_5f2e257132bc453f84013661f6ded6c7",
              "IPY_MODEL_040bfe81d76e4faa971eba6fc38c46a6"
            ],
            "layout": "IPY_MODEL_9734c391f89848178cd148c704f2ef41"
          }
        },
        "7b9e916a923343d8b40f608a82df0403": {
          "model_module": "@jupyter-widgets/controls",
          "model_name": "HTMLModel",
          "model_module_version": "1.5.0",
          "state": {
            "_dom_classes": [],
            "_model_module": "@jupyter-widgets/controls",
            "_model_module_version": "1.5.0",
            "_model_name": "HTMLModel",
            "_view_count": null,
            "_view_module": "@jupyter-widgets/controls",
            "_view_module_version": "1.5.0",
            "_view_name": "HTMLView",
            "description": "",
            "description_tooltip": null,
            "layout": "IPY_MODEL_50544401565f4bac98b69f7a9e156727",
            "placeholder": "​",
            "style": "IPY_MODEL_6817864d9f8b4f60926933abae4db123",
            "value": "Downloading: 100%"
          }
        },
        "5f2e257132bc453f84013661f6ded6c7": {
          "model_module": "@jupyter-widgets/controls",
          "model_name": "FloatProgressModel",
          "model_module_version": "1.5.0",
          "state": {
            "_dom_classes": [],
            "_model_module": "@jupyter-widgets/controls",
            "_model_module_version": "1.5.0",
            "_model_name": "FloatProgressModel",
            "_view_count": null,
            "_view_module": "@jupyter-widgets/controls",
            "_view_module_version": "1.5.0",
            "_view_name": "ProgressView",
            "bar_style": "success",
            "description": "",
            "description_tooltip": null,
            "layout": "IPY_MODEL_2b46712b75cf4ffe8e1fc154631d1801",
            "max": 411577189,
            "min": 0,
            "orientation": "horizontal",
            "style": "IPY_MODEL_84754f87a4ee45269197a131b7814829",
            "value": 411577189
          }
        },
        "040bfe81d76e4faa971eba6fc38c46a6": {
          "model_module": "@jupyter-widgets/controls",
          "model_name": "HTMLModel",
          "model_module_version": "1.5.0",
          "state": {
            "_dom_classes": [],
            "_model_module": "@jupyter-widgets/controls",
            "_model_module_version": "1.5.0",
            "_model_name": "HTMLModel",
            "_view_count": null,
            "_view_module": "@jupyter-widgets/controls",
            "_view_module_version": "1.5.0",
            "_view_name": "HTMLView",
            "description": "",
            "description_tooltip": null,
            "layout": "IPY_MODEL_12611f70227e433e99f86f7cbab1458e",
            "placeholder": "​",
            "style": "IPY_MODEL_e4667cf7b89940af94b1c575a476c352",
            "value": " 393M/393M [00:09&lt;00:00, 27.3MB/s]"
          }
        },
        "9734c391f89848178cd148c704f2ef41": {
          "model_module": "@jupyter-widgets/base",
          "model_name": "LayoutModel",
          "model_module_version": "1.2.0",
          "state": {
            "_model_module": "@jupyter-widgets/base",
            "_model_module_version": "1.2.0",
            "_model_name": "LayoutModel",
            "_view_count": null,
            "_view_module": "@jupyter-widgets/base",
            "_view_module_version": "1.2.0",
            "_view_name": "LayoutView",
            "align_content": null,
            "align_items": null,
            "align_self": null,
            "border": null,
            "bottom": null,
            "display": null,
            "flex": null,
            "flex_flow": null,
            "grid_area": null,
            "grid_auto_columns": null,
            "grid_auto_flow": null,
            "grid_auto_rows": null,
            "grid_column": null,
            "grid_gap": null,
            "grid_row": null,
            "grid_template_areas": null,
            "grid_template_columns": null,
            "grid_template_rows": null,
            "height": null,
            "justify_content": null,
            "justify_items": null,
            "left": null,
            "margin": null,
            "max_height": null,
            "max_width": null,
            "min_height": null,
            "min_width": null,
            "object_fit": null,
            "object_position": null,
            "order": null,
            "overflow": null,
            "overflow_x": null,
            "overflow_y": null,
            "padding": null,
            "right": null,
            "top": null,
            "visibility": null,
            "width": null
          }
        },
        "50544401565f4bac98b69f7a9e156727": {
          "model_module": "@jupyter-widgets/base",
          "model_name": "LayoutModel",
          "model_module_version": "1.2.0",
          "state": {
            "_model_module": "@jupyter-widgets/base",
            "_model_module_version": "1.2.0",
            "_model_name": "LayoutModel",
            "_view_count": null,
            "_view_module": "@jupyter-widgets/base",
            "_view_module_version": "1.2.0",
            "_view_name": "LayoutView",
            "align_content": null,
            "align_items": null,
            "align_self": null,
            "border": null,
            "bottom": null,
            "display": null,
            "flex": null,
            "flex_flow": null,
            "grid_area": null,
            "grid_auto_columns": null,
            "grid_auto_flow": null,
            "grid_auto_rows": null,
            "grid_column": null,
            "grid_gap": null,
            "grid_row": null,
            "grid_template_areas": null,
            "grid_template_columns": null,
            "grid_template_rows": null,
            "height": null,
            "justify_content": null,
            "justify_items": null,
            "left": null,
            "margin": null,
            "max_height": null,
            "max_width": null,
            "min_height": null,
            "min_width": null,
            "object_fit": null,
            "object_position": null,
            "order": null,
            "overflow": null,
            "overflow_x": null,
            "overflow_y": null,
            "padding": null,
            "right": null,
            "top": null,
            "visibility": null,
            "width": null
          }
        },
        "6817864d9f8b4f60926933abae4db123": {
          "model_module": "@jupyter-widgets/controls",
          "model_name": "DescriptionStyleModel",
          "model_module_version": "1.5.0",
          "state": {
            "_model_module": "@jupyter-widgets/controls",
            "_model_module_version": "1.5.0",
            "_model_name": "DescriptionStyleModel",
            "_view_count": null,
            "_view_module": "@jupyter-widgets/base",
            "_view_module_version": "1.2.0",
            "_view_name": "StyleView",
            "description_width": ""
          }
        },
        "2b46712b75cf4ffe8e1fc154631d1801": {
          "model_module": "@jupyter-widgets/base",
          "model_name": "LayoutModel",
          "model_module_version": "1.2.0",
          "state": {
            "_model_module": "@jupyter-widgets/base",
            "_model_module_version": "1.2.0",
            "_model_name": "LayoutModel",
            "_view_count": null,
            "_view_module": "@jupyter-widgets/base",
            "_view_module_version": "1.2.0",
            "_view_name": "LayoutView",
            "align_content": null,
            "align_items": null,
            "align_self": null,
            "border": null,
            "bottom": null,
            "display": null,
            "flex": null,
            "flex_flow": null,
            "grid_area": null,
            "grid_auto_columns": null,
            "grid_auto_flow": null,
            "grid_auto_rows": null,
            "grid_column": null,
            "grid_gap": null,
            "grid_row": null,
            "grid_template_areas": null,
            "grid_template_columns": null,
            "grid_template_rows": null,
            "height": null,
            "justify_content": null,
            "justify_items": null,
            "left": null,
            "margin": null,
            "max_height": null,
            "max_width": null,
            "min_height": null,
            "min_width": null,
            "object_fit": null,
            "object_position": null,
            "order": null,
            "overflow": null,
            "overflow_x": null,
            "overflow_y": null,
            "padding": null,
            "right": null,
            "top": null,
            "visibility": null,
            "width": null
          }
        },
        "84754f87a4ee45269197a131b7814829": {
          "model_module": "@jupyter-widgets/controls",
          "model_name": "ProgressStyleModel",
          "model_module_version": "1.5.0",
          "state": {
            "_model_module": "@jupyter-widgets/controls",
            "_model_module_version": "1.5.0",
            "_model_name": "ProgressStyleModel",
            "_view_count": null,
            "_view_module": "@jupyter-widgets/base",
            "_view_module_version": "1.2.0",
            "_view_name": "StyleView",
            "bar_color": null,
            "description_width": ""
          }
        },
        "12611f70227e433e99f86f7cbab1458e": {
          "model_module": "@jupyter-widgets/base",
          "model_name": "LayoutModel",
          "model_module_version": "1.2.0",
          "state": {
            "_model_module": "@jupyter-widgets/base",
            "_model_module_version": "1.2.0",
            "_model_name": "LayoutModel",
            "_view_count": null,
            "_view_module": "@jupyter-widgets/base",
            "_view_module_version": "1.2.0",
            "_view_name": "LayoutView",
            "align_content": null,
            "align_items": null,
            "align_self": null,
            "border": null,
            "bottom": null,
            "display": null,
            "flex": null,
            "flex_flow": null,
            "grid_area": null,
            "grid_auto_columns": null,
            "grid_auto_flow": null,
            "grid_auto_rows": null,
            "grid_column": null,
            "grid_gap": null,
            "grid_row": null,
            "grid_template_areas": null,
            "grid_template_columns": null,
            "grid_template_rows": null,
            "height": null,
            "justify_content": null,
            "justify_items": null,
            "left": null,
            "margin": null,
            "max_height": null,
            "max_width": null,
            "min_height": null,
            "min_width": null,
            "object_fit": null,
            "object_position": null,
            "order": null,
            "overflow": null,
            "overflow_x": null,
            "overflow_y": null,
            "padding": null,
            "right": null,
            "top": null,
            "visibility": null,
            "width": null
          }
        },
        "e4667cf7b89940af94b1c575a476c352": {
          "model_module": "@jupyter-widgets/controls",
          "model_name": "DescriptionStyleModel",
          "model_module_version": "1.5.0",
          "state": {
            "_model_module": "@jupyter-widgets/controls",
            "_model_module_version": "1.5.0",
            "_model_name": "DescriptionStyleModel",
            "_view_count": null,
            "_view_module": "@jupyter-widgets/base",
            "_view_module_version": "1.2.0",
            "_view_name": "StyleView",
            "description_width": ""
          }
        }
      }
    }
  },
  "cells": [
    {
      "cell_type": "code",
      "execution_count": 1,
      "metadata": {
        "id": "ahNK210JiQ7w",
        "colab": {
          "base_uri": "https://localhost:8080/"
        },
        "outputId": "11869965-9f9b-4fe1-e929-eb1959005738"
      },
      "outputs": [
        {
          "output_type": "stream",
          "name": "stdout",
          "text": [
            "Collecting transformers\n",
            "  Downloading transformers-4.18.0-py3-none-any.whl (4.0 MB)\n",
            "\u001b[K     |████████████████████████████████| 4.0 MB 7.3 MB/s \n",
            "\u001b[?25hCollecting pyyaml>=5.1\n",
            "  Downloading PyYAML-6.0-cp37-cp37m-manylinux_2_5_x86_64.manylinux1_x86_64.manylinux_2_12_x86_64.manylinux2010_x86_64.whl (596 kB)\n",
            "\u001b[K     |████████████████████████████████| 596 kB 63.5 MB/s \n",
            "\u001b[?25hCollecting sacremoses\n",
            "  Downloading sacremoses-0.0.49-py3-none-any.whl (895 kB)\n",
            "\u001b[K     |████████████████████████████████| 895 kB 65.0 MB/s \n",
            "\u001b[?25hRequirement already satisfied: tqdm>=4.27 in /usr/local/lib/python3.7/dist-packages (from transformers) (4.64.0)\n",
            "Collecting huggingface-hub<1.0,>=0.1.0\n",
            "  Downloading huggingface_hub-0.5.1-py3-none-any.whl (77 kB)\n",
            "\u001b[K     |████████████████████████████████| 77 kB 8.0 MB/s \n",
            "\u001b[?25hRequirement already satisfied: filelock in /usr/local/lib/python3.7/dist-packages (from transformers) (3.6.0)\n",
            "Requirement already satisfied: requests in /usr/local/lib/python3.7/dist-packages (from transformers) (2.23.0)\n",
            "Requirement already satisfied: regex!=2019.12.17 in /usr/local/lib/python3.7/dist-packages (from transformers) (2019.12.20)\n",
            "Requirement already satisfied: numpy>=1.17 in /usr/local/lib/python3.7/dist-packages (from transformers) (1.21.6)\n",
            "Requirement already satisfied: importlib-metadata in /usr/local/lib/python3.7/dist-packages (from transformers) (4.11.3)\n",
            "Requirement already satisfied: packaging>=20.0 in /usr/local/lib/python3.7/dist-packages (from transformers) (21.3)\n",
            "Collecting tokenizers!=0.11.3,<0.13,>=0.11.1\n",
            "  Downloading tokenizers-0.12.1-cp37-cp37m-manylinux_2_12_x86_64.manylinux2010_x86_64.whl (6.6 MB)\n",
            "\u001b[K     |████████████████████████████████| 6.6 MB 48.7 MB/s \n",
            "\u001b[?25hRequirement already satisfied: typing-extensions>=3.7.4.3 in /usr/local/lib/python3.7/dist-packages (from huggingface-hub<1.0,>=0.1.0->transformers) (4.1.1)\n",
            "Requirement already satisfied: pyparsing!=3.0.5,>=2.0.2 in /usr/local/lib/python3.7/dist-packages (from packaging>=20.0->transformers) (3.0.8)\n",
            "Requirement already satisfied: zipp>=0.5 in /usr/local/lib/python3.7/dist-packages (from importlib-metadata->transformers) (3.8.0)\n",
            "Requirement already satisfied: idna<3,>=2.5 in /usr/local/lib/python3.7/dist-packages (from requests->transformers) (2.10)\n",
            "Requirement already satisfied: certifi>=2017.4.17 in /usr/local/lib/python3.7/dist-packages (from requests->transformers) (2021.10.8)\n",
            "Requirement already satisfied: chardet<4,>=3.0.2 in /usr/local/lib/python3.7/dist-packages (from requests->transformers) (3.0.4)\n",
            "Requirement already satisfied: urllib3!=1.25.0,!=1.25.1,<1.26,>=1.21.1 in /usr/local/lib/python3.7/dist-packages (from requests->transformers) (1.24.3)\n",
            "Requirement already satisfied: click in /usr/local/lib/python3.7/dist-packages (from sacremoses->transformers) (7.1.2)\n",
            "Requirement already satisfied: six in /usr/local/lib/python3.7/dist-packages (from sacremoses->transformers) (1.15.0)\n",
            "Requirement already satisfied: joblib in /usr/local/lib/python3.7/dist-packages (from sacremoses->transformers) (1.1.0)\n",
            "Installing collected packages: pyyaml, tokenizers, sacremoses, huggingface-hub, transformers\n",
            "  Attempting uninstall: pyyaml\n",
            "    Found existing installation: PyYAML 3.13\n",
            "    Uninstalling PyYAML-3.13:\n",
            "      Successfully uninstalled PyYAML-3.13\n",
            "Successfully installed huggingface-hub-0.5.1 pyyaml-6.0 sacremoses-0.0.49 tokenizers-0.12.1 transformers-4.18.0\n"
          ]
        }
      ],
      "source": [
        "!pip install transformers"
      ]
    },
    {
      "cell_type": "markdown",
      "source": [
        "文件目录；需要新建data文件夹，文件夹下新建cluener,将数据拖放在文件下\n"
      ],
      "metadata": {
        "id": "FYnhTB-BbGX7"
      }
    },
    {
      "cell_type": "markdown",
      "source": [
        "![image.png](data:image/png;base64,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)"
      ],
      "metadata": {
        "id": "k01f1R_wbE-Q"
      }
    },
    {
      "cell_type": "code",
      "source": [
        "import json\n",
        "import os\n",
        "from collections import Counter\n",
        "\n",
        "import numpy as np\n",
        "\n",
        "from transformers import BertModel, BertTokenizer,BertTokenizerFast\n",
        "import torch\n",
        "import torch\n",
        "from torch.utils.data import TensorDataset, DataLoader\n",
        "from tqdm import tqdm\n"
      ],
      "metadata": {
        "id": "5h7aaCCxjEPD"
      },
      "execution_count": 2,
      "outputs": []
    },
    {
      "cell_type": "code",
      "source": [
        "\"\"\"\n",
        "Date: 2021-06-01 17:18:25\n",
        "LastEditors: GodK\n",
        "\"\"\"\n",
        "import time\n",
        "\n",
        "common = {\n",
        "    \"exp_name\": \"cluener\",\n",
        "    \"encoder\": \"BERT\",\n",
        "    \"data_home\": \"data\",\n",
        "    \"bert_path\": \"./pretrained_models/bert-base-chinese\",  # bert-base-cased， bert-base-chinese\n",
        "    \"run_type\": \"train\",  # train,eval\n",
        "    \"f1_2_save\": 0.5,  # 存模型的最低f1值\n",
        "    \"logger\": \"default\"  # wandb or default，default意味着只输出日志到控制台\n",
        "}\n",
        "\n",
        "# wandb的配置，只有在logger=wandb时生效。用于可视化训练过程\n",
        "wandb_config = {\n",
        "    \"run_name\": time.strftime('%Y-%m-%d %H:%M:%S', time.gmtime()),\n",
        "    \"log_interval\": 10\n",
        "}\n",
        "\n",
        "train_config = {\n",
        "    \"train_data\": \"train.json\",\n",
        "    \"valid_data\": \"dev.json\",\n",
        "    \"test_data\": \"test.json\",\n",
        "    \"ent2id\": \"ent2id.json\",\n",
        "    \"path_to_save_model\": \"./outputs\",  # 在logger不是wandb时生效\n",
        "    \"hyper_parameters\": {\n",
        "        \"lr\": 5e-5,\n",
        "        \"batch_size\": 1,\n",
        "        \"epochs\": 8,\n",
        "        \"seed\": 2333,\n",
        "        \"max_seq_len\": 128,\n",
        "        \"scheduler\": \"CAWR\"\n",
        "    }\n",
        "}\n",
        "\n",
        "eval_config = {\n",
        "    \"model_state_dir\": \"./outputs/cluener/\",  # 预测时注意填写模型路径（时间tag文件夹）\n",
        "    \"run_id\": \"\",\n",
        "    \"last_k_model\": 1,  # 取倒数第几个model_state\n",
        "    \"test_data\": \"test.json\",\n",
        "    \"ent2id\": \"ent2id.json\",\n",
        "    \"save_res_dir\": \"./results\",\n",
        "    \"hyper_parameters\": {\n",
        "        \"batch_size\": 16,\n",
        "        \"max_seq_len\": 512,\n",
        "    }\n",
        "\n",
        "}\n",
        "\n",
        "cawr_scheduler = {\n",
        "    # CosineAnnealingWarmRestarts\n",
        "    \"T_mult\": 1,\n",
        "    \"rewarm_epoch_num\": 2,\n",
        "}\n",
        "step_scheduler = {\n",
        "    # StepLR\n",
        "    \"decay_rate\": 0.999,\n",
        "    \"decay_steps\": 100,\n",
        "}\n",
        "\n",
        "# ---------------------------------------------\n",
        "train_config[\"hyper_parameters\"].update(**cawr_scheduler, **step_scheduler)\n",
        "train_config = {**train_config, **common, **wandb_config}\n",
        "eval_config = {**eval_config, **common}\n"
      ],
      "metadata": {
        "id": "Olyq0rkyjlWW"
      },
      "execution_count": 32,
      "outputs": []
    },
    {
      "cell_type": "code",
      "source": [
        "model_name='bert-base-chinese'\n",
        "seq_length=128\n",
        "tokenizer = BertTokenizerFast.from_pretrained(model_name)"
      ],
      "metadata": {
        "id": "YgNOUvU2joPx",
        "colab": {
          "base_uri": "https://localhost:8080/",
          "height": 145,
          "referenced_widgets": [
            "54a0152dbaa34df28b2a94b039119ff6",
            "51e4114f19234e8f9d674aaa36cd01c5",
            "ceae11ac23ee49d6b17489a8845d8958",
            "f9134f41d4b84720af18251951297e2b",
            "fb888d24776a448faa55a783b4421ee8",
            "d14892b81bf7438796af71946d528840",
            "90ab3ec2c1064cb88605d3ac7fe7c4cf",
            "884ade17b582421b9bc7aa3f0ed8ef69",
            "fd19c717dcd34c2c990eefd7bb4162ff",
            "e4edddaceda34f858b789be19d4ae182",
            "4ac44e5a349a428a9fd93edb4e72ce96",
            "18c103f06d674235a92dd9544bdf32ee",
            "ec8d17877d484331bb8ead9a7a64f126",
            "143144c809414acca9aeef9ef1664504",
            "19c6aace55f94c898d7178dbf47b2c70",
            "f4ac178fa17142158213a97f9423a3fd",
            "11a1b5316bb0408f9fcb9fe9aae6dcc4",
            "4c7cce43263d43a3a8cb166d63f7976f",
            "b599b5ad81c34f319416e09fedf5b61e",
            "c8fa0fde66e249d5a7c16fce5eb96db5",
            "baea557758ec41bb9f58a0162ce2b838",
            "4f5a767f50384e3a806242937c868cb9",
            "0a52da6c610447e8b910f192e66ba7e6",
            "fbeb49153e5248c09baa6217e0030a79",
            "09df38dcfe89435991ccb0756471f0d9",
            "7123043fbdc44b36ab70731486464955",
            "26f10a7457b048bb95f55144b97b43fb",
            "6a2b271f7bd24628bd8c1f605aa944de",
            "23ca2b27e57142c99f66fb90909651b3",
            "0b19508a7d0f454bbb216d1660a4585b",
            "ea398c667875481ca50b7addc0c5200e",
            "a9b43b1cba1245679ef65196b8b40fc7",
            "ca19aef52d0141f982aa493f16ae9f0f",
            "00d925a2a21c483aa6dd94fd309b6052",
            "72ac0ddae8f3478297957d8b5d0c393e",
            "70b32223e2a946fcb1889853778f479f",
            "4ca440fee4624a209be8372b42c0620c",
            "70409a5d24b0494cabe4ccc2c32f100e",
            "4be80b4bde8541fc98dfd25a3f2ff5fb",
            "ce8731c328df4e19a4a5fa1b67efe93f",
            "43357ff9074f4bbeb7bc6585fc62db95",
            "c25c9bef455243e09cda4483f4bb9066",
            "3a00daaf24e140c1a783239c7b374b47",
            "ed57de2e27a24c08a96d18627139e669"
          ]
        },
        "outputId": "d516d667-8780-4922-fe6c-cfc15e429988"
      },
      "execution_count": 4,
      "outputs": [
        {
          "output_type": "display_data",
          "data": {
            "text/plain": [
              "Downloading:   0%|          | 0.00/29.0 [00:00<?, ?B/s]"
            ],
            "application/vnd.jupyter.widget-view+json": {
              "version_major": 2,
              "version_minor": 0,
              "model_id": "54a0152dbaa34df28b2a94b039119ff6"
            }
          },
          "metadata": {}
        },
        {
          "output_type": "display_data",
          "data": {
            "text/plain": [
              "Downloading:   0%|          | 0.00/107k [00:00<?, ?B/s]"
            ],
            "application/vnd.jupyter.widget-view+json": {
              "version_major": 2,
              "version_minor": 0,
              "model_id": "18c103f06d674235a92dd9544bdf32ee"
            }
          },
          "metadata": {}
        },
        {
          "output_type": "display_data",
          "data": {
            "text/plain": [
              "Downloading:   0%|          | 0.00/263k [00:00<?, ?B/s]"
            ],
            "application/vnd.jupyter.widget-view+json": {
              "version_major": 2,
              "version_minor": 0,
              "model_id": "0a52da6c610447e8b910f192e66ba7e6"
            }
          },
          "metadata": {}
        },
        {
          "output_type": "display_data",
          "data": {
            "text/plain": [
              "Downloading:   0%|          | 0.00/624 [00:00<?, ?B/s]"
            ],
            "application/vnd.jupyter.widget-view+json": {
              "version_major": 2,
              "version_minor": 0,
              "model_id": "00d925a2a21c483aa6dd94fd309b6052"
            }
          },
          "metadata": {}
        }
      ]
    },
    {
      "cell_type": "code",
      "source": [
        "def load_data(data_path, data_type=\"train\"):\n",
        "    \"\"\"读取数据集\n",
        "\n",
        "    Args:\n",
        "        data_path (str): 数据存放路径\n",
        "        data_type (str, optional): 数据类型. Defaults to \"train\".\n",
        "\n",
        "    Returns:\n",
        "        (json): train和valid中一条数据格式：{\"text\":\"\",\"entity_list\":[(start, end, label), (start, end, label)...]}\n",
        "    \"\"\"\n",
        "    if data_type == \"train\" or data_type == \"valid\":\n",
        "        # datas = []\n",
        "        # with open(data_path, encoding=\"utf-8\") as f:\n",
        "        #     for line in f:\n",
        "        #         line = json.loads(line)\n",
        "        #         item = {}\n",
        "        #         item[\"text\"] = line[\"text\"]\n",
        "        #         item[\"entity_list\"] = []\n",
        "        #         for k, v in line['label'].items():\n",
        "        #             for spans in v.values():\n",
        "        #                 for start, end in spans:\n",
        "        #                     item[\"entity_list\"].append((start, end, k))\n",
        "        #\n",
        "        #         datas.append(item)\n",
        "        datas = []\n",
        "        with open(data_path, encoding=\"utf-8\") as f:\n",
        "            for line in f.readlines():\n",
        "                line = json.loads(line)\n",
        "                item = {}\n",
        "                item[\"text\"] = line[\"text\"]\n",
        "                item[\"entity_list\"] = []\n",
        "                for k, v in line['label'].items():\n",
        "                    for k_, span in v.items():\n",
        "                        for spans in span:\n",
        "                            item[\"entity_list\"].append((spans[0], spans[1], k))\n",
        "\n",
        "                datas.append(item)\n",
        "        return datas\n",
        "    else:\n",
        "        return json.load(open(data_path, encoding=\"utf-8\"))\n",
        "\n",
        "def find_head_idx(source, target):\n",
        "    target_len = len(target)\n",
        "    for i in range(len(source)):\n",
        "        if source[i: i + target_len] == target:\n",
        "            return i,i + target_len-1\n",
        "    return -1,-1"
      ],
      "metadata": {
        "id": "C8K-3QzOrird"
      },
      "execution_count": 5,
      "outputs": []
    },
    {
      "cell_type": "code",
      "source": [
        "# entity2id={\"O\":0,\"address\": 1, \"book\": 2, \"company\": 3, \"game\": 4, \"government\": 5, \"movie\": 6, \"name\": 7, \"organization\": 8, \"position\": 9, \"scene\": 10}\n",
        "\n",
        "BERT_MAX_LEN = 128"
      ],
      "metadata": {
        "id": "1HuLDkovrlSG"
      },
      "execution_count": 6,
      "outputs": []
    },
    {
      "cell_type": "code",
      "source": [
        "entity2id={\n",
        "    \"O\":0,\n",
        "\"B-address\": 1, \"I-address\": 2,\n",
        "\"B-book\": 3,\"I-book\": 4,\n",
        "\"B-company\": 5,\"I-company\": 6,\n",
        "\"B-game\": 7, \"I-game\":8,\n",
        "\"B-government\": 9, \"I-government\": 10,\n",
        "    \"B-movie\": 11, \"I-movie\": 12,\n",
        "    \"B-name\": 13, \"I-name\": 14,\n",
        "    \"B-organization\": 15,\"I-organization\": 16,\n",
        "    \"B-position\": 17, \"I-position\": 18,\n",
        "    \"B-scene\": 19,\"I-scene\": 20\n",
        "}"
      ],
      "metadata": {
        "id": "zpEuEIbtqjVT"
      },
      "execution_count": 7,
      "outputs": []
    },
    {
      "cell_type": "code",
      "source": [
        "class Preprocessor(object):\n",
        "    def __init__(self, tokenizer):\n",
        "        super(Preprocessor, self).__init__()\n",
        "        self.tokenizer = tokenizer\n",
        "        self.add_special_tokens = True\n",
        "\n",
        "    def get_ent2token_spans(self, text, entity_list):\n",
        "        \"\"\"实体列表转为token_spans\n",
        "\n",
        "        Args:\n",
        "            text (str): 原始文本\n",
        "            entity_list (list): [(start, end, ent_type),(start, end, ent_type)...]\n",
        "        \"\"\"\n",
        "        ent2token_spans = []\n",
        "\n",
        "        inputs = self.tokenizer(text, add_special_tokens=True, return_offsets_mapping=True)\n",
        "        token2char_span_mapping = inputs[\"offset_mapping\"]\n",
        "        text2tokens = self.tokenizer.tokenize(text, add_special_tokens=self.add_special_tokens)\n",
        "\n",
        "        for ent_span in entity_list:\n",
        "            ent = text[ent_span[0]:ent_span[1] + 1]\n",
        "            ent2token = self.tokenizer.tokenize(ent, add_special_tokens=False)\n",
        "\n",
        "            # 寻找ent的token_span\n",
        "            token_start_indexs = [i for i, v in enumerate(text2tokens) if v == ent2token[0]]\n",
        "\n",
        "            token_end_indexs = [i for i, v in enumerate(text2tokens) if v == ent2token[-1]]\n",
        "\n",
        "            token_start_index = list(filter(lambda x: token2char_span_mapping[x][0] == ent_span[0], token_start_indexs))\n",
        "            token_end_index = list(filter(lambda x: token2char_span_mapping[x][-1] - 1 == ent_span[1], token_end_indexs))  # token2char_span_mapping[x][-1]-1 减1是因为原始的char_span是闭区间，而token2char_span是开区间\n",
        "\n",
        "            if len(token_start_index) == 0 or len(token_end_index) == 0:\n",
        "                # print(f'[{ent}] 无法对应到 [{text}] 的token_span，已丢弃')\n",
        "                continue\n",
        "            token_span = (token_start_index[0], token_end_index[0], ent_span[2])\n",
        "            ent2token_spans.append(token_span)\n",
        "\n",
        "        return ent2token_spans"
      ],
      "metadata": {
        "id": "kxqgQZTornr7"
      },
      "execution_count": 8,
      "outputs": []
    },
    {
      "cell_type": "code",
      "source": [
        "class data_generator:\n",
        "    def __init__(self, data, tokenizer, maxlen):\n",
        "        self.data = data\n",
        "        self.batch_size = len(self.data)\n",
        "        self.tokenizer = tokenizer\n",
        "        self.maxlen = maxlen\n",
        "        self.preprocessor = Preprocessor(tokenizer)\n",
        "\n",
        "    def __len__(self):\n",
        "        return self.batch_size\n",
        "\n",
        "    def generator(self):\n",
        "        # while True:\n",
        "        # idxs = list(range(len(self.data)))\n",
        "        sent_lengths = []\n",
        "        tokens_batch, segments_batch, token_type_batch, labels_ids = [], [], [], []\n",
        "        start_indexs = []\n",
        "        end_indexs = []\n",
        "        # tokens_batch--------tokens ids;segments_batch-------attention mask; token_type_ids--------；labels_ids------ 每个实体的label标签\n",
        "        for sample in self.data:\n",
        "\n",
        "            text_len = BERT_MAX_LEN\n",
        "            inputs = self.tokenizer(sample['text'], return_tensors='pt', add_special_tokens=True, truncation=True, padding=True,\n",
        "                                    max_length=BERT_MAX_LEN)\n",
        "            token_ids, segment_ids, token_type_ids = inputs['input_ids'], inputs['attention_mask'], inputs[\n",
        "                'token_type_ids']\n",
        "\n",
        "            sent_lengths.append(token_ids.shape[1])\n",
        "            pad_len = BERT_MAX_LEN - token_ids.shape[1]\n",
        "            pad_seq = torch.zeros(1, pad_len)\n",
        "            token_ids = torch.cat((token_ids, pad_seq), dim=1)\n",
        "            segment_ids = torch.cat((segment_ids, pad_seq), dim=1)\n",
        "            token_type_ids = torch.cat((token_type_ids, pad_seq), dim=1)\n",
        "            #句子的label标签\n",
        "            labels=torch.zeros(self.maxlen)\n",
        "            ent2token_spans = self.preprocessor.get_ent2token_spans(\n",
        "                sample[\"text\"], sample[\"entity_list\"]\n",
        "            )\n",
        "            for start, end, label in ent2token_spans:\n",
        "                labels[start]=entity2id['B-'+label]\n",
        "                if start+1!=end+1:\n",
        "                    labels[start+1:end+1]=entity2id['I-'+label]\n",
        "\n",
        "            labels_ids.append(labels)\n",
        "            token_type_batch.append(token_type_ids)\n",
        "            tokens_batch.append(token_ids)\n",
        "            segments_batch.append(segment_ids)\n",
        "\n",
        "            # print(sub_heads,sub_tails,torch.where(obj_heads==1),torch.where(obj_tails)==1)\n",
        "        return tokens_batch, segments_batch, token_type_batch, labels_ids,sent_lengths"
      ],
      "metadata": {
        "id": "HvlUP_PKrpIp"
      },
      "execution_count": 9,
      "outputs": []
    },
    {
      "cell_type": "code",
      "source": [
        "if True:\n",
        "    train_path=os.path.join(common[\"data_home\"], common[\"exp_name\"], train_config[\"train_data\"])\n",
        "    train_data = load_data(train_path)\n",
        "    print('train_data_length',len(train_data))\n",
        "    train_config=train_config\n",
        "    maxlen = train_config[\"hyper_parameters\"]['max_seq_len']\n",
        "    train_tokens_batch, train_segments_batch, train_token_type_batch, train_labels_ids,train_length = \\\n",
        "        data_generator(train_data,tokenizer,maxlen).generator()\n",
        "\n",
        "    vaild_path=os.path.join(common[\"data_home\"], common[\"exp_name\"], train_config[\"valid_data\"])\n",
        "    vaild_data=load_data(vaild_path)\n",
        "    print('valid_data_length',len(vaild_data))\n",
        "    test_path=os.path.join(common[\"data_home\"], common[\"exp_name\"], train_config[\"test_data\"])\n",
        "    test_data=load_data(test_path)\n",
        "    vaild_tokens_batch, vaild_segments_batch, vaild_token_type_batch, valid_labels_ids ,valid_length= \\\n",
        "        data_generator(vaild_data, tokenizer, maxlen).generator()\n",
        "\n",
        "    test_tokens_batch, test_segments_batch, test_token_type_batch, test_labels_ids ,test_length= \\\n",
        "        data_generator(test_data, tokenizer, maxlen).generator()\n",
        "sign=['train_','valid_','test_']\n",
        "for di in sign:\n",
        "    if di == 'train_':\n",
        "        tokens_batch, segments_batch, token_type_batch, labels_ids = train_tokens_batch, train_segments_batch, train_token_type_batch, train_labels_ids\n",
        "        tokens_batch = torch.cat([l for l in tokens_batch]).int()\n",
        "        print(tokens_batch.shape)\n",
        "        segments_batch = torch.cat([l for l in segments_batch]).int()  # sents_length*128\n",
        "        # 命名实体识别\n",
        "\n",
        "        token_type_batch = torch.cat([l for l in token_type_batch]).int()\n",
        "        labels_ids_batch = torch.cat([l for l in labels_ids]).reshape(tokens_batch.shape[0], -1).int()\n",
        "        train_dataset=TensorDataset(tokens_batch,segments_batch,token_type_batch,labels_ids_batch)\n",
        "\n",
        "    elif di=='valid_':\n",
        "        tokens_batch, segments_batch, token_type_batch, labels_ids =  vaild_tokens_batch, vaild_segments_batch, vaild_token_type_batch, valid_labels_ids\n",
        "        tokens_batch = torch.cat([l for l in tokens_batch]).int()\n",
        "        print(tokens_batch.shape)\n",
        "        segments_batch = torch.cat([l for l in segments_batch]).int()  # sents_length*128\n",
        "        # 命名实体识别\n",
        "\n",
        "        token_type_batch = torch.cat([l for l in token_type_batch]).int()\n",
        "        labels_ids_batch = torch.cat([l for l in labels_ids]).reshape(tokens_batch.shape[0], -1).int()\n",
        "        valid_dataset=TensorDataset(tokens_batch,segments_batch,token_type_batch,labels_ids_batch)\n",
        "\n",
        "    elif di=='test_':\n",
        "        tokens_batch, segments_batch, token_type_batch, labels_ids,sent_lengths = test_tokens_batch, test_segments_batch, test_token_type_batch, test_labels_ids,test_length\n",
        "        tokens_batch = torch.cat([l for l in tokens_batch]).int()\n",
        "        print(tokens_batch.shape)\n",
        "        segments_batch = torch.cat([l for l in segments_batch]).int()  # sents_length*128\n",
        "        # 命名实体识别\n",
        "        sent_lengths_batch = torch.tensor(sent_lengths).reshape(tokens_batch.shape[0], -1).int()\n",
        "        token_type_batch = torch.cat([l for l in token_type_batch]).int()\n",
        "        labels_ids_batch = torch.cat([l for l in labels_ids]).reshape(tokens_batch.shape[0], -1).int()\n",
        "        test_dataset = TensorDataset(tokens_batch, segments_batch, token_type_batch, labels_ids_batch,sent_lengths_batch)\n",
        "\n",
        "print('train_dataset_length',len(train_dataset))\n",
        "print('vaild_dataset_length',len(valid_dataset))\n",
        "print('test_dataset_length',len(test_dataset))"
      ],
      "metadata": {
        "colab": {
          "base_uri": "https://localhost:8080/"
        },
        "id": "WYNwoL47sFbg",
        "outputId": "c8251c24-0df4-49d0-d424-fa57bb713b35"
      },
      "execution_count": 33,
      "outputs": [
        {
          "output_type": "stream",
          "name": "stdout",
          "text": [
            "train_data_length 10748\n",
            "valid_data_length 843\n",
            "torch.Size([10748, 128])\n",
            "torch.Size([843, 128])\n",
            "torch.Size([500, 128])\n",
            "train_dataset_length 10748\n",
            "vaild_dataset_length 843\n",
            "test_dataset_length 500\n"
          ]
        }
      ]
    },
    {
      "cell_type": "code",
      "source": [
        "test_data[:2]"
      ],
      "metadata": {
        "colab": {
          "base_uri": "https://localhost:8080/"
        },
        "id": "5xBGvS6HYhf8",
        "outputId": "6db96f6c-d27f-4ce1-9beb-5da44125359d"
      },
      "execution_count": 29,
      "outputs": [
        {
          "output_type": "execute_result",
          "data": {
            "text/plain": [
              "[{'entity_list': [(7, 8, 'address'), (2, 4, 'name')],\n",
              "  'text': '甚至朱自清都对西山有过描述。另外就是山林的感觉。'},\n",
              " {'entity_list': [(0, 6, 'game')], 'text': '《龙与地下城》影响业界'}]"
            ]
          },
          "metadata": {},
          "execution_count": 29
        }
      ]
    },
    {
      "cell_type": "markdown",
      "source": [
        "## data generator"
      ],
      "metadata": {
        "id": "bK8oeg4GQdop"
      }
    },
    {
      "cell_type": "code",
      "source": [
        "!pip install pytorch-crf"
      ],
      "metadata": {
        "colab": {
          "base_uri": "https://localhost:8080/"
        },
        "id": "FNchLb_UkECc",
        "outputId": "b027d285-3296-4410-ef7b-25fae17f852d"
      },
      "execution_count": 12,
      "outputs": [
        {
          "output_type": "stream",
          "name": "stdout",
          "text": [
            "Collecting pytorch-crf\n",
            "  Downloading pytorch_crf-0.7.2-py3-none-any.whl (9.5 kB)\n",
            "Installing collected packages: pytorch-crf\n",
            "Successfully installed pytorch-crf-0.7.2\n"
          ]
        }
      ]
    },
    {
      "cell_type": "markdown",
      "source": [
        ""
      ],
      "metadata": {
        "id": "YFJzPUr5kVhO"
      }
    },
    {
      "cell_type": "code",
      "source": [
        "from transformers import AdamW\n",
        "from transformers import BertModel\n",
        "from torch.nn import functional as F\n"
      ],
      "metadata": {
        "id": "9Y8R10ifkAxJ"
      },
      "execution_count": 13,
      "outputs": []
    },
    {
      "cell_type": "markdown",
      "source": [
        "## model"
      ],
      "metadata": {
        "id": "wz2RuBFygo-O"
      }
    },
    {
      "cell_type": "code",
      "source": [
        "import torch.nn as nn\n",
        "loss_fun = nn.CrossEntropyLoss()\n",
        "class E2EModel(nn.Module):\n",
        "    def __init__(self):\n",
        "        super(E2EModel, self).__init__()\n",
        "        self.tagset_size=len(entity2id.keys())\n",
        "        self.hidden_dim=768\n",
        "        self.encode=BertModel.from_pretrained(model_name)\n",
        "        # self.lstm = nn.LSTM(embedding_dim, hidden_dim // 2,\n",
        "        #                     num_layers=1, bidirectional=True)\n",
        "        # self.classifier1 = nn.Linear(768, 128)\n",
        "        # # Maps the output of the LSTM into tag space.\n",
        "        # self.classifier2 = nn.Linear(128, self.tagset_size)\n",
        "        self.classifier2=nn.Linear(768, self.tagset_size)\n",
        "\n",
        "\n",
        "    def forward(self,inputs_id,att_mask,token_type_ids,labels_ids):\n",
        "        bo=self.encode(inputs_id,att_mask,token_type_ids)[0]#B*L*768\n",
        "        # x=x.view(128, -1, 768)\n",
        "\n",
        "        # x=self.classifier1(bo)\n",
        "        # # x=x.view(128, hidden_dim)\n",
        "        # categories_numberic=self.classifier2(x)\n",
        "        categories_numberic=self.classifier2(bo)\n",
        "        categories_numberic=categories_numberic.reshape(-1,self.tagset_size)\n",
        "        return categories_numberic  #"
      ],
      "metadata": {
        "id": "Fe43bX02hNI5"
      },
      "execution_count": 14,
      "outputs": []
    },
    {
      "cell_type": "code",
      "source": [
        "def same_seeds(seed):\n",
        "    # torch.manual_seed(seed)\n",
        "    if torch.cuda.is_available():\n",
        "        torch.cuda.manual_seed(seed)\n",
        "        torch.cuda.manual_seed_all(seed)\n",
        "    # np.random.seed(seed)\n",
        "    # random.seed(seed)\n",
        "    torch.backends.cudnn.benchmark = True\n",
        "    torch.backends.cudnn.deterministic = True\n",
        "same_seeds(0)"
      ],
      "metadata": {
        "id": "mV5qdPmVkiQA"
      },
      "execution_count": 15,
      "outputs": []
    },
    {
      "cell_type": "code",
      "source": [
        "device = 'cuda' if torch.cuda.is_available() else 'cpu'\n",
        "from torch.optim.lr_scheduler import LambdaLR\n",
        "def get_linear_schedule_with_warmup(optimizer, num_warmup_steps, num_training_steps, last_epoch=-1):\n",
        "    \"\"\" Create a schedule with a learning rate that decreases linearly after\n",
        "    linearly increasing during a warmup period.\n",
        "    \"\"\"\n",
        "    def lr_lambda(current_step):\n",
        "        if current_step < num_warmup_steps:\n",
        "            return float(current_step) / float(max(1, num_warmup_steps))\n",
        "        return max(0.0, float(num_training_steps - current_step) / float(max(1, num_training_steps - num_warmup_steps)))\n",
        "\n",
        "    return LambdaLR(optimizer, lr_lambda, last_epoch)\n"
      ],
      "metadata": {
        "id": "J71Uy-MMkobv"
      },
      "execution_count": 16,
      "outputs": []
    },
    {
      "cell_type": "code",
      "source": [
        "def train(eenet, train_dataset, val_set, num_epochs, learning_rate, batch_size):\n",
        "    i = 1\n",
        "    model_path = 'model'\n",
        "    train_loader = DataLoader(train_dataset, batch_size=batch_size, num_workers=2)\n",
        "    print('执行次数为：{}'.format(i))\n",
        "    t_total = len(train_loader) * num_epochs\n",
        "    # warmup_steps = int(t_total * warmup_proportion)\n",
        "    warmup_steps = 50\n",
        "    optimizer = AdamW(eenet.parameters(), lr=learning_rate)\n",
        "    scheduler = get_linear_schedule_with_warmup(optimizer, num_warmup_steps=warmup_steps,\n",
        "                                                num_training_steps=t_total)\n",
        "\n",
        "    eenet = eenet.to(device)\n",
        "\n",
        "    # tokens_batch[:rc_train_size], segments_batch[:rc_train_size], token_type_batch[:rc_train_size], labels_ids_batch[:rc_train_size], sub_batch_tags[:rc_train_size], obj_batch_tags[:rc_train_size]\n",
        "    for epoch in range(num_epochs):\n",
        "        eenet.train()\n",
        "        train_loss = 0.\n",
        "        step = 0\n",
        "        for batch_idx, data in enumerate(tqdm(train_loader)):\n",
        "            torch.autograd.set_detect_anomaly(True)\n",
        "\n",
        "            inputs_id, att_mask, token_type_ids, labels_ids = data\n",
        "            text, mask, token_type_ids, labels_ids = inputs_id.to(device), att_mask.to(device), token_type_ids.to(\n",
        "                device), labels_ids.to(device)\n",
        "            optimizer.zero_grad()\n",
        "            targets = labels_ids.view(-1).to(torch.int64)\n",
        "            # print(targets.shape)\n",
        "            # ee _model识别实体----------------------------------------------\n",
        "            soutputs = eenet(text, mask, token_type_ids, labels_ids)\n",
        "            # print(soutputs.shape)\n",
        "            s_loss =loss_fun(soutputs, targets)\n",
        "            # 准备一个batch(batch_size=1)的训练数据\n",
        "\n",
        "            # ee_type model 识别实体类型-----------------------------------------------\n",
        "            t_loss = s_loss\n",
        "            t_loss.backward()\n",
        "            # all_loss.backward()\n",
        "            train_loss += t_loss.item()\n",
        "            optimizer.step()\n",
        "            scheduler.step()\n",
        "            step += 1\n",
        "\n",
        "            if step % 100 == 0:\n",
        "                print('\\n')\n",
        "                print('*' * 10)\n",
        "                print(\n",
        "                    'train_epoch|{},average_loss={}'.format(epoch + 1,  train_loss / step))\n",
        "\n",
        "        torch.save(eenet.state_dict(), 'ee2' + model_path)\n",
        "\n",
        "        eenet.eval()\n",
        "        min_loss = 1\n",
        "        with torch.no_grad():\n",
        "            val_loss = 0.\n",
        "            val_step = 0\n",
        "            vaild_loader = DataLoader(val_set, batch_size=batch_size)\n",
        "            for batch_idx, data in enumerate(tqdm(vaild_loader)):\n",
        "\n",
        "                inputs_id, att_mask, token_type_ids, labels_ids = data\n",
        "                text, mask, token_type_ids, labels_ids = inputs_id.to(device), att_mask.to(device), token_type_ids.to(\n",
        "                    device), labels_ids.to(device)\n",
        "                targets =  labels_ids.view(-1).to(torch.int64)\n",
        "                # ee _model识别实体----------------------------------------------\n",
        "                soutputs = eenet(text, mask, token_type_ids, labels_ids)\n",
        "                s_loss= loss_fun(soutputs, targets)\n",
        "\n",
        "                # all_loss.backward()\n",
        "                val_loss += s_loss.item()\n",
        "\n",
        "                val_step += 1\n",
        "\n",
        "                if val_step % 50 == 0:\n",
        "                    print('\\n')\n",
        "                    print('-' * 10)\n",
        "                    print(\n",
        "                        'val_epoch|{},val_averge_loss={}'.format(epoch + 1, val_loss / val_step))\n",
        "\n",
        "            if val_loss < min_loss:\n",
        "                min_loss = val_loss\n",
        "                print('save model')\n",
        "                torch.save(eenet.state_dict(), 'ee_best' + model_path)\n",
        "\n"
      ],
      "metadata": {
        "id": "dw64rGpYqvd9"
      },
      "execution_count": 17,
      "outputs": []
    },
    {
      "cell_type": "code",
      "source": [
        "eenet=E2EModel()\n",
        "train(eenet,train_dataset, valid_dataset,20, 1e-5, 32)"
      ],
      "metadata": {
        "colab": {
          "base_uri": "https://localhost:8080/",
          "height": 1000,
          "referenced_widgets": [
            "e0ccfb83628348018da9a254726b8fed",
            "7b9e916a923343d8b40f608a82df0403",
            "5f2e257132bc453f84013661f6ded6c7",
            "040bfe81d76e4faa971eba6fc38c46a6",
            "9734c391f89848178cd148c704f2ef41",
            "50544401565f4bac98b69f7a9e156727",
            "6817864d9f8b4f60926933abae4db123",
            "2b46712b75cf4ffe8e1fc154631d1801",
            "84754f87a4ee45269197a131b7814829",
            "12611f70227e433e99f86f7cbab1458e",
            "e4667cf7b89940af94b1c575a476c352"
          ]
        },
        "id": "p-fABbNTrL6P",
        "outputId": "e82e5604-9edb-4587-ce84-7fb9015dc0d5"
      },
      "execution_count": 18,
      "outputs": [
        {
          "output_type": "display_data",
          "data": {
            "text/plain": [
              "Downloading:   0%|          | 0.00/393M [00:00<?, ?B/s]"
            ],
            "application/vnd.jupyter.widget-view+json": {
              "version_major": 2,
              "version_minor": 0,
              "model_id": "e0ccfb83628348018da9a254726b8fed"
            }
          },
          "metadata": {}
        },
        {
          "output_type": "stream",
          "name": "stderr",
          "text": [
            "Some weights of the model checkpoint at bert-base-chinese were not used when initializing BertModel: ['cls.predictions.transform.dense.bias', 'cls.predictions.transform.dense.weight', 'cls.predictions.transform.LayerNorm.bias', 'cls.predictions.decoder.weight', 'cls.predictions.bias', 'cls.seq_relationship.weight', 'cls.predictions.transform.LayerNorm.weight', 'cls.seq_relationship.bias']\n",
            "- This IS expected if you are initializing BertModel from the checkpoint of a model trained on another task or with another architecture (e.g. initializing a BertForSequenceClassification model from a BertForPreTraining model).\n",
            "- This IS NOT expected if you are initializing BertModel from the checkpoint of a model that you expect to be exactly identical (initializing a BertForSequenceClassification model from a BertForSequenceClassification model).\n",
            "/usr/local/lib/python3.7/dist-packages/transformers/optimization.py:309: FutureWarning: This implementation of AdamW is deprecated and will be removed in a future version. Use the PyTorch implementation torch.optim.AdamW instead, or set `no_deprecation_warning=True` to disable this warning\n",
            "  FutureWarning,\n"
          ]
        },
        {
          "output_type": "stream",
          "name": "stdout",
          "text": [
            "执行次数为：1\n"
          ]
        },
        {
          "output_type": "stream",
          "name": "stderr",
          "text": [
            " 30%|██▉       | 100/336 [01:00<02:27,  1.60it/s]"
          ]
        },
        {
          "output_type": "stream",
          "name": "stdout",
          "text": [
            "\n",
            "\n",
            "**********\n",
            "train_epoch|1,average_loss=0.8943581216037273\n"
          ]
        },
        {
          "output_type": "stream",
          "name": "stderr",
          "text": [
            " 60%|█████▉    | 200/336 [01:59<01:20,  1.68it/s]"
          ]
        },
        {
          "output_type": "stream",
          "name": "stdout",
          "text": [
            "\n",
            "\n",
            "**********\n",
            "train_epoch|1,average_loss=0.5529305136948824\n"
          ]
        },
        {
          "output_type": "stream",
          "name": "stderr",
          "text": [
            " 89%|████████▉ | 300/336 [02:58<00:21,  1.70it/s]"
          ]
        },
        {
          "output_type": "stream",
          "name": "stdout",
          "text": [
            "\n",
            "\n",
            "**********\n",
            "train_epoch|1,average_loss=0.4083828128625949\n"
          ]
        },
        {
          "output_type": "stream",
          "name": "stderr",
          "text": [
            "100%|██████████| 336/336 [03:19<00:00,  1.68it/s]\n",
            "100%|██████████| 11/11 [00:01<00:00,  8.04it/s]\n"
          ]
        },
        {
          "output_type": "stream",
          "name": "stdout",
          "text": [
            "save model\n"
          ]
        },
        {
          "output_type": "stream",
          "name": "stderr",
          "text": [
            " 30%|██▉       | 100/336 [00:58<02:17,  1.71it/s]"
          ]
        },
        {
          "output_type": "stream",
          "name": "stdout",
          "text": [
            "\n",
            "\n",
            "**********\n",
            "train_epoch|2,average_loss=0.08087295614182949\n"
          ]
        },
        {
          "output_type": "stream",
          "name": "stderr",
          "text": [
            " 60%|█████▉    | 200/336 [01:57<01:19,  1.71it/s]"
          ]
        },
        {
          "output_type": "stream",
          "name": "stdout",
          "text": [
            "\n",
            "\n",
            "**********\n",
            "train_epoch|2,average_loss=0.07633908599615097\n"
          ]
        },
        {
          "output_type": "stream",
          "name": "stderr",
          "text": [
            " 89%|████████▉ | 300/336 [02:56<00:21,  1.71it/s]"
          ]
        },
        {
          "output_type": "stream",
          "name": "stdout",
          "text": [
            "\n",
            "\n",
            "**********\n",
            "train_epoch|2,average_loss=0.07106962742904822\n"
          ]
        },
        {
          "output_type": "stream",
          "name": "stderr",
          "text": [
            "100%|██████████| 336/336 [03:17<00:00,  1.70it/s]\n",
            "100%|██████████| 11/11 [00:01<00:00,  8.02it/s]\n"
          ]
        },
        {
          "output_type": "stream",
          "name": "stdout",
          "text": [
            "save model\n"
          ]
        },
        {
          "output_type": "stream",
          "name": "stderr",
          "text": [
            " 30%|██▉       | 100/336 [00:58<02:18,  1.70it/s]"
          ]
        },
        {
          "output_type": "stream",
          "name": "stdout",
          "text": [
            "\n",
            "\n",
            "**********\n",
            "train_epoch|3,average_loss=0.05538621712476015\n"
          ]
        },
        {
          "output_type": "stream",
          "name": "stderr",
          "text": [
            " 60%|█████▉    | 200/336 [01:57<01:19,  1.72it/s]"
          ]
        },
        {
          "output_type": "stream",
          "name": "stdout",
          "text": [
            "\n",
            "\n",
            "**********\n",
            "train_epoch|3,average_loss=0.05439607972279191\n"
          ]
        },
        {
          "output_type": "stream",
          "name": "stderr",
          "text": [
            " 89%|████████▉ | 300/336 [02:56<00:20,  1.72it/s]"
          ]
        },
        {
          "output_type": "stream",
          "name": "stdout",
          "text": [
            "\n",
            "\n",
            "**********\n",
            "train_epoch|3,average_loss=0.052531569780160985\n"
          ]
        },
        {
          "output_type": "stream",
          "name": "stderr",
          "text": [
            "100%|██████████| 336/336 [03:17<00:00,  1.70it/s]\n",
            "100%|██████████| 11/11 [00:01<00:00,  8.06it/s]\n"
          ]
        },
        {
          "output_type": "stream",
          "name": "stdout",
          "text": [
            "save model\n"
          ]
        },
        {
          "output_type": "stream",
          "name": "stderr",
          "text": [
            " 30%|██▉       | 100/336 [00:58<02:17,  1.71it/s]"
          ]
        },
        {
          "output_type": "stream",
          "name": "stdout",
          "text": [
            "\n",
            "\n",
            "**********\n",
            "train_epoch|4,average_loss=0.04547551902011037\n"
          ]
        },
        {
          "output_type": "stream",
          "name": "stderr",
          "text": [
            " 60%|█████▉    | 200/336 [01:57<01:19,  1.71it/s]"
          ]
        },
        {
          "output_type": "stream",
          "name": "stdout",
          "text": [
            "\n",
            "\n",
            "**********\n",
            "train_epoch|4,average_loss=0.04494387382641435\n"
          ]
        },
        {
          "output_type": "stream",
          "name": "stderr",
          "text": [
            " 89%|████████▉ | 300/336 [02:55<00:20,  1.72it/s]"
          ]
        },
        {
          "output_type": "stream",
          "name": "stdout",
          "text": [
            "\n",
            "\n",
            "**********\n",
            "train_epoch|4,average_loss=0.043478444113085664\n"
          ]
        },
        {
          "output_type": "stream",
          "name": "stderr",
          "text": [
            "100%|██████████| 336/336 [03:17<00:00,  1.70it/s]\n",
            "100%|██████████| 11/11 [00:01<00:00,  8.05it/s]\n"
          ]
        },
        {
          "output_type": "stream",
          "name": "stdout",
          "text": [
            "save model\n"
          ]
        },
        {
          "output_type": "stream",
          "name": "stderr",
          "text": [
            " 30%|██▉       | 100/336 [00:58<02:18,  1.70it/s]"
          ]
        },
        {
          "output_type": "stream",
          "name": "stdout",
          "text": [
            "\n",
            "\n",
            "**********\n",
            "train_epoch|5,average_loss=0.038733088169246914\n"
          ]
        },
        {
          "output_type": "stream",
          "name": "stderr",
          "text": [
            " 60%|█████▉    | 200/336 [01:57<01:19,  1.72it/s]"
          ]
        },
        {
          "output_type": "stream",
          "name": "stdout",
          "text": [
            "\n",
            "\n",
            "**********\n",
            "train_epoch|5,average_loss=0.03808973314706236\n"
          ]
        },
        {
          "output_type": "stream",
          "name": "stderr",
          "text": [
            " 89%|████████▉ | 300/336 [02:56<00:21,  1.70it/s]"
          ]
        },
        {
          "output_type": "stream",
          "name": "stdout",
          "text": [
            "\n",
            "\n",
            "**********\n",
            "train_epoch|5,average_loss=0.0369781596865505\n"
          ]
        },
        {
          "output_type": "stream",
          "name": "stderr",
          "text": [
            "100%|██████████| 336/336 [03:17<00:00,  1.70it/s]\n",
            "100%|██████████| 11/11 [00:01<00:00,  8.00it/s]\n"
          ]
        },
        {
          "output_type": "stream",
          "name": "stdout",
          "text": [
            "save model\n"
          ]
        },
        {
          "output_type": "stream",
          "name": "stderr",
          "text": [
            " 30%|██▉       | 100/336 [00:58<02:17,  1.72it/s]"
          ]
        },
        {
          "output_type": "stream",
          "name": "stdout",
          "text": [
            "\n",
            "\n",
            "**********\n",
            "train_epoch|6,average_loss=0.03451689653098583\n"
          ]
        },
        {
          "output_type": "stream",
          "name": "stderr",
          "text": [
            " 60%|█████▉    | 200/336 [01:57<01:19,  1.70it/s]"
          ]
        },
        {
          "output_type": "stream",
          "name": "stdout",
          "text": [
            "\n",
            "\n",
            "**********\n",
            "train_epoch|6,average_loss=0.03369938977994025\n"
          ]
        },
        {
          "output_type": "stream",
          "name": "stderr",
          "text": [
            " 89%|████████▉ | 300/336 [02:55<00:20,  1.71it/s]"
          ]
        },
        {
          "output_type": "stream",
          "name": "stdout",
          "text": [
            "\n",
            "\n",
            "**********\n",
            "train_epoch|6,average_loss=0.03269241401304801\n"
          ]
        },
        {
          "output_type": "stream",
          "name": "stderr",
          "text": [
            "100%|██████████| 336/336 [03:17<00:00,  1.71it/s]\n",
            "100%|██████████| 11/11 [00:01<00:00,  8.04it/s]\n"
          ]
        },
        {
          "output_type": "stream",
          "name": "stdout",
          "text": [
            "save model\n"
          ]
        },
        {
          "output_type": "stream",
          "name": "stderr",
          "text": [
            " 30%|██▉       | 100/336 [00:58<02:17,  1.71it/s]"
          ]
        },
        {
          "output_type": "stream",
          "name": "stdout",
          "text": [
            "\n",
            "\n",
            "**********\n",
            "train_epoch|7,average_loss=0.030258083092048763\n"
          ]
        },
        {
          "output_type": "stream",
          "name": "stderr",
          "text": [
            " 60%|█████▉    | 200/336 [01:57<01:20,  1.69it/s]"
          ]
        },
        {
          "output_type": "stream",
          "name": "stdout",
          "text": [
            "\n",
            "\n",
            "**********\n",
            "train_epoch|7,average_loss=0.029797350307926535\n"
          ]
        },
        {
          "output_type": "stream",
          "name": "stderr",
          "text": [
            " 89%|████████▉ | 300/336 [02:56<00:21,  1.71it/s]"
          ]
        },
        {
          "output_type": "stream",
          "name": "stdout",
          "text": [
            "\n",
            "\n",
            "**********\n",
            "train_epoch|7,average_loss=0.02881921108812094\n"
          ]
        },
        {
          "output_type": "stream",
          "name": "stderr",
          "text": [
            "100%|██████████| 336/336 [03:18<00:00,  1.70it/s]\n",
            "100%|██████████| 11/11 [00:01<00:00,  8.00it/s]\n"
          ]
        },
        {
          "output_type": "stream",
          "name": "stdout",
          "text": [
            "save model\n"
          ]
        },
        {
          "output_type": "stream",
          "name": "stderr",
          "text": [
            " 30%|██▉       | 100/336 [00:59<02:18,  1.70it/s]"
          ]
        },
        {
          "output_type": "stream",
          "name": "stdout",
          "text": [
            "\n",
            "\n",
            "**********\n",
            "train_epoch|8,average_loss=0.02715156491845846\n"
          ]
        },
        {
          "output_type": "stream",
          "name": "stderr",
          "text": [
            " 60%|█████▉    | 200/336 [01:58<01:20,  1.69it/s]"
          ]
        },
        {
          "output_type": "stream",
          "name": "stdout",
          "text": [
            "\n",
            "\n",
            "**********\n",
            "train_epoch|8,average_loss=0.026247818083502353\n"
          ]
        },
        {
          "output_type": "stream",
          "name": "stderr",
          "text": [
            " 89%|████████▉ | 300/336 [02:57<00:21,  1.69it/s]"
          ]
        },
        {
          "output_type": "stream",
          "name": "stdout",
          "text": [
            "\n",
            "\n",
            "**********\n",
            "train_epoch|8,average_loss=0.025198210591139893\n"
          ]
        },
        {
          "output_type": "stream",
          "name": "stderr",
          "text": [
            "100%|██████████| 336/336 [03:18<00:00,  1.69it/s]\n",
            "100%|██████████| 11/11 [00:01<00:00,  8.03it/s]\n"
          ]
        },
        {
          "output_type": "stream",
          "name": "stdout",
          "text": [
            "save model\n"
          ]
        },
        {
          "output_type": "stream",
          "name": "stderr",
          "text": [
            " 30%|██▉       | 100/336 [00:59<02:36,  1.51it/s]"
          ]
        },
        {
          "output_type": "stream",
          "name": "stdout",
          "text": [
            "\n",
            "\n",
            "**********\n",
            "train_epoch|9,average_loss=0.024204798555001617\n"
          ]
        },
        {
          "output_type": "stream",
          "name": "stderr",
          "text": [
            " 60%|█████▉    | 200/336 [01:58<01:19,  1.71it/s]"
          ]
        },
        {
          "output_type": "stream",
          "name": "stdout",
          "text": [
            "\n",
            "\n",
            "**********\n",
            "train_epoch|9,average_loss=0.023774720625951887\n"
          ]
        },
        {
          "output_type": "stream",
          "name": "stderr",
          "text": [
            " 89%|████████▉ | 300/336 [02:57<00:21,  1.70it/s]"
          ]
        },
        {
          "output_type": "stream",
          "name": "stdout",
          "text": [
            "\n",
            "\n",
            "**********\n",
            "train_epoch|9,average_loss=0.02296760892495513\n"
          ]
        },
        {
          "output_type": "stream",
          "name": "stderr",
          "text": [
            "100%|██████████| 336/336 [03:18<00:00,  1.69it/s]\n",
            "100%|██████████| 11/11 [00:01<00:00,  8.02it/s]\n"
          ]
        },
        {
          "output_type": "stream",
          "name": "stdout",
          "text": [
            "save model\n"
          ]
        },
        {
          "output_type": "stream",
          "name": "stderr",
          "text": [
            " 30%|██▉       | 100/336 [00:59<02:18,  1.71it/s]"
          ]
        },
        {
          "output_type": "stream",
          "name": "stdout",
          "text": [
            "\n",
            "\n",
            "**********\n",
            "train_epoch|10,average_loss=0.02190036709420383\n"
          ]
        },
        {
          "output_type": "stream",
          "name": "stderr",
          "text": [
            " 60%|█████▉    | 200/336 [01:58<01:20,  1.69it/s]"
          ]
        },
        {
          "output_type": "stream",
          "name": "stdout",
          "text": [
            "\n",
            "\n",
            "**********\n",
            "train_epoch|10,average_loss=0.021115425422322004\n"
          ]
        },
        {
          "output_type": "stream",
          "name": "stderr",
          "text": [
            " 89%|████████▉ | 300/336 [02:57<00:21,  1.64it/s]"
          ]
        },
        {
          "output_type": "stream",
          "name": "stdout",
          "text": [
            "\n",
            "\n",
            "**********\n",
            "train_epoch|10,average_loss=0.02012173109843085\n"
          ]
        },
        {
          "output_type": "stream",
          "name": "stderr",
          "text": [
            "100%|██████████| 336/336 [03:18<00:00,  1.69it/s]\n",
            "100%|██████████| 11/11 [00:01<00:00,  8.01it/s]\n"
          ]
        },
        {
          "output_type": "stream",
          "name": "stdout",
          "text": [
            "save model\n"
          ]
        },
        {
          "output_type": "stream",
          "name": "stderr",
          "text": [
            " 30%|██▉       | 100/336 [00:59<02:19,  1.70it/s]"
          ]
        },
        {
          "output_type": "stream",
          "name": "stdout",
          "text": [
            "\n",
            "\n",
            "**********\n",
            "train_epoch|11,average_loss=0.020032249675132334\n"
          ]
        },
        {
          "output_type": "stream",
          "name": "stderr",
          "text": [
            " 60%|█████▉    | 200/336 [01:58<01:20,  1.69it/s]"
          ]
        },
        {
          "output_type": "stream",
          "name": "stdout",
          "text": [
            "\n",
            "\n",
            "**********\n",
            "train_epoch|11,average_loss=0.019379331183154137\n"
          ]
        },
        {
          "output_type": "stream",
          "name": "stderr",
          "text": [
            " 89%|████████▉ | 300/336 [02:57<00:21,  1.71it/s]"
          ]
        },
        {
          "output_type": "stream",
          "name": "stdout",
          "text": [
            "\n",
            "\n",
            "**********\n",
            "train_epoch|11,average_loss=0.018448145425257582\n"
          ]
        },
        {
          "output_type": "stream",
          "name": "stderr",
          "text": [
            "100%|██████████| 336/336 [03:18<00:00,  1.69it/s]\n",
            "100%|██████████| 11/11 [00:01<00:00,  8.02it/s]\n"
          ]
        },
        {
          "output_type": "stream",
          "name": "stdout",
          "text": [
            "save model\n"
          ]
        },
        {
          "output_type": "stream",
          "name": "stderr",
          "text": [
            " 30%|██▉       | 100/336 [00:59<02:17,  1.72it/s]"
          ]
        },
        {
          "output_type": "stream",
          "name": "stdout",
          "text": [
            "\n",
            "\n",
            "**********\n",
            "train_epoch|12,average_loss=0.01798025539610535\n"
          ]
        },
        {
          "output_type": "stream",
          "name": "stderr",
          "text": [
            " 60%|█████▉    | 200/336 [01:57<01:19,  1.71it/s]"
          ]
        },
        {
          "output_type": "stream",
          "name": "stdout",
          "text": [
            "\n",
            "\n",
            "**********\n",
            "train_epoch|12,average_loss=0.01738105687079951\n"
          ]
        },
        {
          "output_type": "stream",
          "name": "stderr",
          "text": [
            " 89%|████████▉ | 300/336 [02:56<00:21,  1.70it/s]"
          ]
        },
        {
          "output_type": "stream",
          "name": "stdout",
          "text": [
            "\n",
            "\n",
            "**********\n",
            "train_epoch|12,average_loss=0.016527041027632854\n"
          ]
        },
        {
          "output_type": "stream",
          "name": "stderr",
          "text": [
            "100%|██████████| 336/336 [03:17<00:00,  1.70it/s]\n",
            "100%|██████████| 11/11 [00:01<00:00,  8.05it/s]\n"
          ]
        },
        {
          "output_type": "stream",
          "name": "stdout",
          "text": [
            "save model\n"
          ]
        },
        {
          "output_type": "stream",
          "name": "stderr",
          "text": [
            " 30%|██▉       | 100/336 [00:59<02:17,  1.71it/s]"
          ]
        },
        {
          "output_type": "stream",
          "name": "stdout",
          "text": [
            "\n",
            "\n",
            "**********\n",
            "train_epoch|13,average_loss=0.015927316839806735\n"
          ]
        },
        {
          "output_type": "stream",
          "name": "stderr",
          "text": [
            " 60%|█████▉    | 200/336 [01:57<01:20,  1.70it/s]"
          ]
        },
        {
          "output_type": "stream",
          "name": "stdout",
          "text": [
            "\n",
            "\n",
            "**********\n",
            "train_epoch|13,average_loss=0.01564621683675796\n"
          ]
        },
        {
          "output_type": "stream",
          "name": "stderr",
          "text": [
            " 89%|████████▉ | 300/336 [02:56<00:21,  1.71it/s]"
          ]
        },
        {
          "output_type": "stream",
          "name": "stdout",
          "text": [
            "\n",
            "\n",
            "**********\n",
            "train_epoch|13,average_loss=0.014950038019257287\n"
          ]
        },
        {
          "output_type": "stream",
          "name": "stderr",
          "text": [
            "100%|██████████| 336/336 [03:17<00:00,  1.70it/s]\n",
            "100%|██████████| 11/11 [00:01<00:00,  8.05it/s]\n"
          ]
        },
        {
          "output_type": "stream",
          "name": "stdout",
          "text": [
            "save model\n"
          ]
        },
        {
          "output_type": "stream",
          "name": "stderr",
          "text": [
            " 30%|██▉       | 100/336 [00:58<02:18,  1.70it/s]"
          ]
        },
        {
          "output_type": "stream",
          "name": "stdout",
          "text": [
            "\n",
            "\n",
            "**********\n",
            "train_epoch|14,average_loss=0.014914312432520092\n"
          ]
        },
        {
          "output_type": "stream",
          "name": "stderr",
          "text": [
            " 60%|█████▉    | 200/336 [01:57<01:19,  1.72it/s]"
          ]
        },
        {
          "output_type": "stream",
          "name": "stdout",
          "text": [
            "\n",
            "\n",
            "**********\n",
            "train_epoch|14,average_loss=0.014687943519093097\n"
          ]
        },
        {
          "output_type": "stream",
          "name": "stderr",
          "text": [
            " 89%|████████▉ | 300/336 [02:55<00:21,  1.70it/s]"
          ]
        },
        {
          "output_type": "stream",
          "name": "stdout",
          "text": [
            "\n",
            "\n",
            "**********\n",
            "train_epoch|14,average_loss=0.013933511107849577\n"
          ]
        },
        {
          "output_type": "stream",
          "name": "stderr",
          "text": [
            "100%|██████████| 336/336 [03:17<00:00,  1.71it/s]\n",
            "100%|██████████| 11/11 [00:01<00:00,  8.05it/s]\n"
          ]
        },
        {
          "output_type": "stream",
          "name": "stdout",
          "text": [
            "save model\n"
          ]
        },
        {
          "output_type": "stream",
          "name": "stderr",
          "text": [
            " 30%|██▉       | 100/336 [00:58<02:18,  1.71it/s]"
          ]
        },
        {
          "output_type": "stream",
          "name": "stdout",
          "text": [
            "\n",
            "\n",
            "**********\n",
            "train_epoch|15,average_loss=0.013845031154341996\n"
          ]
        },
        {
          "output_type": "stream",
          "name": "stderr",
          "text": [
            " 60%|█████▉    | 200/336 [01:57<01:19,  1.72it/s]"
          ]
        },
        {
          "output_type": "stream",
          "name": "stdout",
          "text": [
            "\n",
            "\n",
            "**********\n",
            "train_epoch|15,average_loss=0.01359762106090784\n"
          ]
        },
        {
          "output_type": "stream",
          "name": "stderr",
          "text": [
            " 89%|████████▉ | 300/336 [02:55<00:21,  1.69it/s]"
          ]
        },
        {
          "output_type": "stream",
          "name": "stdout",
          "text": [
            "\n",
            "\n",
            "**********\n",
            "train_epoch|15,average_loss=0.01297441498376429\n"
          ]
        },
        {
          "output_type": "stream",
          "name": "stderr",
          "text": [
            "100%|██████████| 336/336 [03:17<00:00,  1.70it/s]\n",
            "100%|██████████| 11/11 [00:01<00:00,  8.05it/s]\n"
          ]
        },
        {
          "output_type": "stream",
          "name": "stdout",
          "text": [
            "save model\n"
          ]
        },
        {
          "output_type": "stream",
          "name": "stderr",
          "text": [
            " 30%|██▉       | 100/336 [00:58<02:16,  1.72it/s]"
          ]
        },
        {
          "output_type": "stream",
          "name": "stdout",
          "text": [
            "\n",
            "\n",
            "**********\n",
            "train_epoch|16,average_loss=0.01314603250939399\n"
          ]
        },
        {
          "output_type": "stream",
          "name": "stderr",
          "text": [
            " 60%|█████▉    | 200/336 [01:57<01:20,  1.69it/s]"
          ]
        },
        {
          "output_type": "stream",
          "name": "stdout",
          "text": [
            "\n",
            "\n",
            "**********\n",
            "train_epoch|16,average_loss=0.012750955470837653\n"
          ]
        },
        {
          "output_type": "stream",
          "name": "stderr",
          "text": [
            " 89%|████████▉ | 300/336 [02:55<00:21,  1.71it/s]"
          ]
        },
        {
          "output_type": "stream",
          "name": "stdout",
          "text": [
            "\n",
            "\n",
            "**********\n",
            "train_epoch|16,average_loss=0.012231443455287566\n"
          ]
        },
        {
          "output_type": "stream",
          "name": "stderr",
          "text": [
            "100%|██████████| 336/336 [03:17<00:00,  1.70it/s]\n",
            "100%|██████████| 11/11 [00:01<00:00,  8.05it/s]\n"
          ]
        },
        {
          "output_type": "stream",
          "name": "stdout",
          "text": [
            "save model\n"
          ]
        },
        {
          "output_type": "stream",
          "name": "stderr",
          "text": [
            " 30%|██▉       | 100/336 [00:58<02:18,  1.71it/s]"
          ]
        },
        {
          "output_type": "stream",
          "name": "stdout",
          "text": [
            "\n",
            "\n",
            "**********\n",
            "train_epoch|17,average_loss=0.012103108447045088\n"
          ]
        },
        {
          "output_type": "stream",
          "name": "stderr",
          "text": [
            " 60%|█████▉    | 200/336 [01:57<01:20,  1.70it/s]"
          ]
        },
        {
          "output_type": "stream",
          "name": "stdout",
          "text": [
            "\n",
            "\n",
            "**********\n",
            "train_epoch|17,average_loss=0.011907209176570177\n"
          ]
        },
        {
          "output_type": "stream",
          "name": "stderr",
          "text": [
            " 89%|████████▉ | 300/336 [02:56<00:21,  1.71it/s]"
          ]
        },
        {
          "output_type": "stream",
          "name": "stdout",
          "text": [
            "\n",
            "\n",
            "**********\n",
            "train_epoch|17,average_loss=0.011357972701080143\n"
          ]
        },
        {
          "output_type": "stream",
          "name": "stderr",
          "text": [
            "100%|██████████| 336/336 [03:17<00:00,  1.70it/s]\n",
            "100%|██████████| 11/11 [00:01<00:00,  8.06it/s]\n"
          ]
        },
        {
          "output_type": "stream",
          "name": "stdout",
          "text": [
            "save model\n"
          ]
        },
        {
          "output_type": "stream",
          "name": "stderr",
          "text": [
            " 30%|██▉       | 100/336 [00:59<02:19,  1.70it/s]"
          ]
        },
        {
          "output_type": "stream",
          "name": "stdout",
          "text": [
            "\n",
            "\n",
            "**********\n",
            "train_epoch|18,average_loss=0.011716733968351037\n"
          ]
        },
        {
          "output_type": "stream",
          "name": "stderr",
          "text": [
            " 60%|█████▉    | 200/336 [01:57<01:19,  1.70it/s]"
          ]
        },
        {
          "output_type": "stream",
          "name": "stdout",
          "text": [
            "\n",
            "\n",
            "**********\n",
            "train_epoch|18,average_loss=0.011649571157759055\n"
          ]
        },
        {
          "output_type": "stream",
          "name": "stderr",
          "text": [
            " 89%|████████▉ | 300/336 [02:56<00:21,  1.69it/s]"
          ]
        },
        {
          "output_type": "stream",
          "name": "stdout",
          "text": [
            "\n",
            "\n",
            "**********\n",
            "train_epoch|18,average_loss=0.010993935955533137\n"
          ]
        },
        {
          "output_type": "stream",
          "name": "stderr",
          "text": [
            "100%|██████████| 336/336 [03:18<00:00,  1.70it/s]\n",
            "100%|██████████| 11/11 [00:01<00:00,  8.02it/s]\n"
          ]
        },
        {
          "output_type": "stream",
          "name": "stdout",
          "text": [
            "save model\n"
          ]
        },
        {
          "output_type": "stream",
          "name": "stderr",
          "text": [
            " 30%|██▉       | 100/336 [00:59<02:17,  1.71it/s]"
          ]
        },
        {
          "output_type": "stream",
          "name": "stdout",
          "text": [
            "\n",
            "\n",
            "**********\n",
            "train_epoch|19,average_loss=0.010720808070618659\n"
          ]
        },
        {
          "output_type": "stream",
          "name": "stderr",
          "text": [
            " 60%|█████▉    | 200/336 [01:57<01:19,  1.72it/s]"
          ]
        },
        {
          "output_type": "stream",
          "name": "stdout",
          "text": [
            "\n",
            "\n",
            "**********\n",
            "train_epoch|19,average_loss=0.010915044520515949\n"
          ]
        },
        {
          "output_type": "stream",
          "name": "stderr",
          "text": [
            " 89%|████████▉ | 300/336 [02:56<00:21,  1.71it/s]"
          ]
        },
        {
          "output_type": "stream",
          "name": "stdout",
          "text": [
            "\n",
            "\n",
            "**********\n",
            "train_epoch|19,average_loss=0.010384025312960147\n"
          ]
        },
        {
          "output_type": "stream",
          "name": "stderr",
          "text": [
            "100%|██████████| 336/336 [03:17<00:00,  1.70it/s]\n",
            "100%|██████████| 11/11 [00:01<00:00,  8.07it/s]\n"
          ]
        },
        {
          "output_type": "stream",
          "name": "stdout",
          "text": [
            "save model\n"
          ]
        },
        {
          "output_type": "stream",
          "name": "stderr",
          "text": [
            " 30%|██▉       | 100/336 [00:58<02:18,  1.70it/s]"
          ]
        },
        {
          "output_type": "stream",
          "name": "stdout",
          "text": [
            "\n",
            "\n",
            "**********\n",
            "train_epoch|20,average_loss=0.010701383207924664\n"
          ]
        },
        {
          "output_type": "stream",
          "name": "stderr",
          "text": [
            " 60%|█████▉    | 200/336 [01:57<01:19,  1.70it/s]"
          ]
        },
        {
          "output_type": "stream",
          "name": "stdout",
          "text": [
            "\n",
            "\n",
            "**********\n",
            "train_epoch|20,average_loss=0.010572049181209877\n"
          ]
        },
        {
          "output_type": "stream",
          "name": "stderr",
          "text": [
            " 89%|████████▉ | 300/336 [02:55<00:21,  1.71it/s]"
          ]
        },
        {
          "output_type": "stream",
          "name": "stdout",
          "text": [
            "\n",
            "\n",
            "**********\n",
            "train_epoch|20,average_loss=0.01010248988090704\n"
          ]
        },
        {
          "output_type": "stream",
          "name": "stderr",
          "text": [
            "100%|██████████| 336/336 [03:16<00:00,  1.71it/s]\n",
            "100%|██████████| 11/11 [00:01<00:00,  8.05it/s]\n"
          ]
        },
        {
          "output_type": "stream",
          "name": "stdout",
          "text": [
            "save model\n"
          ]
        }
      ]
    },
    {
      "cell_type": "code",
      "source": [
        "#test-------------------------------\n",
        "eenet=E2EModel()\n",
        "model_path='model'\n",
        "eenet.load_state_dict(torch.load('ee2' + model_path))\n",
        "id2label={k:v for v,k in entity2id.items()}\n",
        "def extrac_triple(text, pre_):  # 抽取一个triple\n",
        "\n",
        "    subjects = []\n",
        "    labels=[]\n",
        "    for i in range(len(text)):\n",
        "        sj = text[i]\n",
        "\n",
        "        if  '##' in sj:\n",
        "            sj = subjects[-1]+sj.lstrip(\"##\")\n",
        "            subjects[-1]=sj\n",
        "        else:\n",
        "            lb = pre_[i]\n",
        "            labels.append(id2label[lb])\n",
        "            subjects.append(sj)\n",
        "\n",
        "    # print(subjects,labels)\n",
        "    # print(len(subjects))\n",
        "    # print(len(labels))\n",
        "    return subjects,labels\n",
        "\n",
        "def get_entity_bio(seq,id2label):\n",
        "    \"\"\"Gets entities from sequence.\n",
        "    note: BIO\n",
        "    Args:\n",
        "        seq (list): sequence of labels.\n",
        "    Returns:\n",
        "        list: list of (chunk_type, chunk_start, chunk_end).\n",
        "    Example:\n",
        "        seq = ['B-PER', 'I-PER', 'O', 'B-LOC']\n",
        "        get_entity_bio(seq)\n",
        "        #output\n",
        "        [['PER', 0,1], ['LOC', 3, 3]]\n",
        "    \"\"\"\n",
        "    chunks = []\n",
        "    chunk = [-1, -1, -1]\n",
        "    for indx, tag in enumerate(seq):\n",
        "        if not isinstance(tag, str):\n",
        "            tag = id2label[tag]\n",
        "        if tag.startswith(\"B-\"):\n",
        "            if chunk[2] != -1:\n",
        "                chunks.append(chunk)\n",
        "            chunk = [-1, -1, -1]\n",
        "            chunk[1] = indx\n",
        "            chunk[0] = tag.split('-')[1]\n",
        "            chunk[2] = indx\n",
        "            if indx == len(seq) - 1:\n",
        "                chunks.append(chunk)\n",
        "        elif tag.startswith('I-') and chunk[1] != -1:\n",
        "            _type = tag.split('-')[1]\n",
        "            if _type == chunk[0]:\n",
        "                chunk[2] = indx\n",
        "\n",
        "            if indx == len(seq) - 1:\n",
        "                chunks.append(chunk)\n",
        "        else:\n",
        "            if chunk[2] != -1:\n",
        "                chunks.append(chunk)\n",
        "            chunk = [-1, -1, -1]\n",
        "    return chunks"
      ],
      "metadata": {
        "colab": {
          "base_uri": "https://localhost:8080/"
        },
        "id": "Xbl92xz3s8Ne",
        "outputId": "0d4f7edc-768b-4f74-aa52-699ec1d61c39"
      },
      "execution_count": 34,
      "outputs": [
        {
          "output_type": "stream",
          "name": "stderr",
          "text": [
            "Some weights of the model checkpoint at bert-base-chinese were not used when initializing BertModel: ['cls.predictions.transform.dense.bias', 'cls.predictions.transform.dense.weight', 'cls.predictions.transform.LayerNorm.bias', 'cls.predictions.decoder.weight', 'cls.predictions.bias', 'cls.seq_relationship.weight', 'cls.predictions.transform.LayerNorm.weight', 'cls.seq_relationship.bias']\n",
            "- This IS expected if you are initializing BertModel from the checkpoint of a model trained on another task or with another architecture (e.g. initializing a BertForSequenceClassification model from a BertForPreTraining model).\n",
            "- This IS NOT expected if you are initializing BertModel from the checkpoint of a model that you expect to be exactly identical (initializing a BertForSequenceClassification model from a BertForSequenceClassification model).\n"
          ]
        }
      ]
    },
    {
      "cell_type": "code",
      "source": [
        "results = []\n",
        "preds_total = []\n",
        "true_total = []\n",
        "def get_entity_bios(seq,id2label):\n",
        "    \"\"\"Gets entities from sequence.\n",
        "    note: BIOS\n",
        "    Args:\n",
        "        seq (list): sequence of labels.\n",
        "    Returns:\n",
        "        list: list of (chunk_type, chunk_start, chunk_end).\n",
        "    Example:\n",
        "        # >>> seq = ['B-PER', 'I-PER', 'O', 'S-LOC']\n",
        "        # >>> get_entity_bios(seq)\n",
        "        [['PER', 0,1], ['LOC', 3, 3]]\n",
        "    \"\"\"\n",
        "    chunks = []\n",
        "    chunk = [-1, -1, -1]\n",
        "    for indx, tag in enumerate(seq):\n",
        "        if not isinstance(tag, str):\n",
        "            tag = id2label[tag]\n",
        "        if tag.startswith(\"S-\"):\n",
        "            if chunk[2] != -1:\n",
        "                chunks.append(chunk)\n",
        "            chunk = [-1, -1, -1]\n",
        "            chunk[1] = indx\n",
        "            chunk[2] = indx\n",
        "            chunk[0] = tag.split('-')[1]\n",
        "            chunks.append(chunk)\n",
        "            chunk = (-1, -1, -1)\n",
        "        if tag.startswith(\"B-\"):\n",
        "            if chunk[2] != -1:\n",
        "                chunks.append(chunk)\n",
        "            chunk = [-1, -1, -1]\n",
        "            chunk[1] = indx\n",
        "            chunk[0] = tag.split('-')[1]\n",
        "        elif tag.startswith('I-') and chunk[1] != -1:\n",
        "            _type = tag.split('-')[1]\n",
        "            if _type == chunk[0]:\n",
        "                chunk[2] = indx\n",
        "            if indx == len(seq) - 1:\n",
        "                chunks.append(chunk)\n",
        "        else:\n",
        "            if chunk[2] != -1:\n",
        "                chunks.append(chunk)\n",
        "            chunk = [-1, -1, -1]\n",
        "    return chunks\n",
        "\n",
        "def get_entity_bio(seq,id2label):\n",
        "    \"\"\"Gets entities from sequence.\n",
        "    note: BIO\n",
        "    Args:\n",
        "        seq (list): sequence of labels.\n",
        "    Returns:\n",
        "        list: list of (chunk_type, chunk_start, chunk_end).\n",
        "    Example:\n",
        "        seq = ['B-PER', 'I-PER', 'O', 'B-LOC']\n",
        "        get_entity_bio(seq)\n",
        "        #output\n",
        "        [['PER', 0,1], ['LOC', 3, 3]]\n",
        "    \"\"\"\n",
        "    chunks = []\n",
        "    chunk = [-1, -1, -1]\n",
        "    for indx, tag in enumerate(seq):\n",
        "        if not isinstance(tag, str):\n",
        "            tag = id2label[tag]\n",
        "        if tag.startswith(\"B-\"):\n",
        "            if chunk[2] != -1:\n",
        "                chunks.append(chunk)\n",
        "            chunk = [-1, -1, -1]\n",
        "            chunk[1] = indx\n",
        "            chunk[0] = tag.split('-')[1]\n",
        "            chunk[2] = indx\n",
        "            if indx == len(seq) - 1:\n",
        "                chunks.append(chunk)\n",
        "        elif tag.startswith('I-') and chunk[1] != -1:\n",
        "            _type = tag.split('-')[1]\n",
        "            if _type == chunk[0]:\n",
        "                chunk[2] = indx\n",
        "\n",
        "            if indx == len(seq) - 1:\n",
        "                chunks.append(chunk)\n",
        "        else:\n",
        "            if chunk[2] != -1:\n",
        "                chunks.append(chunk)\n",
        "            chunk = [-1, -1, -1]\n",
        "    return chunks"
      ],
      "metadata": {
        "id": "befFZOVTBy98"
      },
      "execution_count": 35,
      "outputs": []
    },
    {
      "cell_type": "code",
      "source": [
        "def get_entities(seq,id2label,markup='bios'):\n",
        "    '''\n",
        "    :param seq:\n",
        "    :param id2label:\n",
        "    :param markup:\n",
        "    :return:\n",
        "    '''\n",
        "    assert markup in ['bio','bios']\n",
        "    if markup =='bio':\n",
        "        return get_entity_bio(seq,id2label)\n",
        "    else:\n",
        "        return get_entity_bios(seq,id2label)\n",
        "class SeqEntityScore(object):\n",
        "    def __init__(self, id2label,markup='bios'):\n",
        "        self.id2label = id2label\n",
        "        self.markup = markup\n",
        "        self.reset()\n",
        "\n",
        "    def reset(self):\n",
        "        self.origins = []\n",
        "        self.founds = []\n",
        "        self.rights = []\n",
        "\n",
        "    def compute(self, origin, found, right):\n",
        "        recall = 0 if origin == 0 else (right / origin)\n",
        "        precision = 0 if found == 0 else (right / found)\n",
        "        f1 = 0. if recall + precision == 0 else (2 * precision * recall) / (precision + recall)\n",
        "        return recall, precision, f1\n",
        "\n",
        "    def result(self):\n",
        "        class_info = {}\n",
        "        origin_counter = Counter([x[0] for x in self.origins])\n",
        "        found_counter = Counter([x[0] for x in self.founds])\n",
        "        right_counter = Counter([x[0] for x in self.rights])\n",
        "        for type_, count in origin_counter.items():\n",
        "            origin = count\n",
        "            found = found_counter.get(type_, 0)\n",
        "            right = right_counter.get(type_, 0)\n",
        "            recall, precision, f1 = self.compute(origin, found, right)\n",
        "            class_info[type_] = {\"acc\": round(precision, 4), 'recall': round(recall, 4), 'f1': round(f1, 4)}\n",
        "        origin = len(self.origins)\n",
        "        found = len(self.founds)\n",
        "        right = len(self.rights)\n",
        "        recall, precision, f1 = self.compute(origin, found, right)\n",
        "        return {'acc': precision, 'recall': recall, 'f1': f1}, class_info\n",
        "\n",
        "    def update(self, label_paths, pred_paths):\n",
        "        '''\n",
        "        labels_paths: [[],[],[],....]\n",
        "        pred_paths: [[],[],[],.....]\n",
        "\n",
        "        :param label_paths:\n",
        "        :param pred_paths:\n",
        "        :return:\n",
        "        Example:\n",
        "            >>> labels_paths = [['O', 'O', 'O', 'B-MISC', 'I-MISC', 'I-MISC', 'O'], ['B-PER', 'I-PER', 'O']]\n",
        "            >>> pred_paths = [['O', 'O', 'B-MISC', 'I-MISC', 'I-MISC', 'I-MISC', 'O'], ['B-PER', 'I-PER', 'O']]\n",
        "        '''\n",
        "        for label_path, pre_path in zip(label_paths, pred_paths):\n",
        "            label_entities = get_entities(label_path, self.id2label,self.markup)\n",
        "            pre_entities = get_entities(pre_path, self.id2label,self.markup)\n",
        "            self.origins.extend(label_entities)\n",
        "            self.founds.extend(pre_entities)\n",
        "            self.rights.extend([pre_entity for pre_entity in pre_entities if pre_entity in label_entities])\n",
        "\n",
        "metric = SeqEntityScore(id2label, markup='bios')"
      ],
      "metadata": {
        "id": "U8r3dS0ZBzAZ"
      },
      "execution_count": 36,
      "outputs": []
    },
    {
      "cell_type": "code",
      "source": [
        "f1= open('实体标签输出1.json', mode='w+', encoding='utf_8')"
      ],
      "metadata": {
        "id": "s4uQyPvkVr43"
      },
      "execution_count": 37,
      "outputs": []
    },
    {
      "cell_type": "code",
      "source": [
        "with torch.no_grad():\n",
        "    eenet.eval()\n",
        "    eenet.cpu()\n",
        "    eval_loss = 0.0\n",
        "    epoch = 0\n",
        "    nb_eval_steps = 0\n",
        "    dict_t = {}\n",
        "    test_loader = DataLoader(test_dataset, batch_size=1)\n",
        "    step = 0\n",
        "    acc = 0\n",
        "    total = 0\n",
        "\n",
        "    for batch_idx, data in enumerate(tqdm(test_loader)):\n",
        "        json_d = {}\n",
        "        json_d['id'] = batch_idx\n",
        "        inputs_id, att_mask, token_type_ids, labels_ids, dlength = data\n",
        "\n",
        "        inputs = {\"input_ids\": data[0], \"attention_mask\": data[1], \"labels\": data[3]}\n",
        "        # ee _model识别实体----------------------------------------------\n",
        "        soutputs = eenet(inputs_id, att_mask, token_type_ids, labels_ids)\n",
        "\n",
        "        # obj_htar, obj_ttar = obj_htar.unsqueeze(-1), obj_ttar.unsqueeze(-1)\n",
        "        # total_loss.backward()\n",
        "        tags = soutputs.argmax(dim=1)\n",
        "\n",
        "        a_list = tags.tolist()\n",
        "        out_label_ids = inputs['labels'].cpu().numpy().tolist()\n",
        "\n",
        "        # input_lens = [len(i) for i in tags]\n",
        "        # tags = tags.squeeze(0).cpu().numpy().tolist()\n",
        "        i = 0\n",
        "\n",
        "        text = tokenizer.convert_ids_to_tokens(inputs_id[[i][0]])\n",
        "        text = text[1:dlength[i] - 1]\n",
        "        pre_ = a_list[1:dlength[i] - 1]\n",
        "        true_ = out_label_ids[i][1:len(pre_) + 1]\n",
        "        pre = torch.tensor(pre_)\n",
        "        true = torch.tensor(true_)\n",
        "        acc += (pre == true).sum().item()\n",
        "\n",
        "        # true_ = true_.numpy().tolist()\n",
        "\n",
        "        preds_total.append(pre_)\n",
        "        true_total.append(true_)\n",
        "        subjects, labels = extrac_triple(text, pre_)\n",
        "        for w, t in zip(subjects, labels):\n",
        "            f1.write(f'{w} {t}\\n')\n",
        "        f1.write('\\n')\n",
        "\n",
        "        total += len(pre_)\n",
        "\n",
        "        step+=1"
      ],
      "metadata": {
        "colab": {
          "base_uri": "https://localhost:8080/"
        },
        "id": "tgI0bDQpCIU6",
        "outputId": "ce7468f0-c4a9-4627-8d38-53f968e4cf7e"
      },
      "execution_count": 38,
      "outputs": [
        {
          "output_type": "stream",
          "name": "stderr",
          "text": [
            "100%|██████████| 500/500 [03:17<00:00,  2.53it/s]\n"
          ]
        }
      ]
    },
    {
      "cell_type": "code",
      "source": [
        "preds_total[0]"
      ],
      "metadata": {
        "colab": {
          "base_uri": "https://localhost:8080/"
        },
        "id": "kipQZue0Y0l7",
        "outputId": "00ae24de-65ac-42fc-e00e-d083b33e3b5c"
      },
      "execution_count": 39,
      "outputs": [
        {
          "output_type": "execute_result",
          "data": {
            "text/plain": [
              "[0,\n",
              " 0,\n",
              " 0,\n",
              " 0,\n",
              " 0,\n",
              " 0,\n",
              " 0,\n",
              " 0,\n",
              " 0,\n",
              " 0,\n",
              " 0,\n",
              " 0,\n",
              " 0,\n",
              " 0,\n",
              " 0,\n",
              " 0,\n",
              " 0,\n",
              " 0,\n",
              " 0,\n",
              " 0,\n",
              " 0,\n",
              " 0,\n",
              " 0,\n",
              " 0,\n",
              " 0,\n",
              " 0,\n",
              " 9,\n",
              " 10,\n",
              " 10,\n",
              " 10,\n",
              " 10,\n",
              " 10,\n",
              " 10,\n",
              " 10,\n",
              " 10,\n",
              " 0,\n",
              " 0,\n",
              " 0,\n",
              " 0,\n",
              " 0,\n",
              " 0,\n",
              " 0,\n",
              " 0]"
            ]
          },
          "metadata": {},
          "execution_count": 39
        }
      ]
    },
    {
      "cell_type": "code",
      "source": [
        "id2label[0]"
      ],
      "metadata": {
        "colab": {
          "base_uri": "https://localhost:8080/",
          "height": 35
        },
        "id": "o-RK_nhmZEmK",
        "outputId": "e7b341f5-24cd-4a97-d5e6-4de5ecf5507f"
      },
      "execution_count": 40,
      "outputs": [
        {
          "output_type": "execute_result",
          "data": {
            "text/plain": [
              "'O'"
            ],
            "application/vnd.google.colaboratory.intrinsic+json": {
              "type": "string"
            }
          },
          "metadata": {},
          "execution_count": 40
        }
      ]
    },
    {
      "cell_type": "code",
      "source": [
        "id2label"
      ],
      "metadata": {
        "colab": {
          "base_uri": "https://localhost:8080/"
        },
        "id": "g3fJfPoOZITg",
        "outputId": "3bd64109-069e-4481-deac-f7ca735e0fba"
      },
      "execution_count": 41,
      "outputs": [
        {
          "output_type": "execute_result",
          "data": {
            "text/plain": [
              "{0: 'O',\n",
              " 1: 'B-address',\n",
              " 2: 'I-address',\n",
              " 3: 'B-book',\n",
              " 4: 'I-book',\n",
              " 5: 'B-company',\n",
              " 6: 'I-company',\n",
              " 7: 'B-game',\n",
              " 8: 'I-game',\n",
              " 9: 'B-government',\n",
              " 10: 'I-government',\n",
              " 11: 'B-movie',\n",
              " 12: 'I-movie',\n",
              " 13: 'B-name',\n",
              " 14: 'I-name',\n",
              " 15: 'B-organization',\n",
              " 16: 'I-organization',\n",
              " 17: 'B-position',\n",
              " 18: 'I-position',\n",
              " 19: 'B-scene',\n",
              " 20: 'I-scene'}"
            ]
          },
          "metadata": {},
          "execution_count": 41
        }
      ]
    },
    {
      "cell_type": "code",
      "source": [
        "acc/total"
      ],
      "metadata": {
        "colab": {
          "base_uri": "https://localhost:8080/"
        },
        "id": "kpkzmFTHV2VS",
        "outputId": "a8ee4692-39fe-40ba-83d5-d71c8351b4a7"
      },
      "execution_count": 42,
      "outputs": [
        {
          "output_type": "execute_result",
          "data": {
            "text/plain": [
              "0.9432299799241579"
            ]
          },
          "metadata": {},
          "execution_count": 42
        }
      ]
    }
  ]
}
